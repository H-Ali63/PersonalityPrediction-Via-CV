{
 "cells": [
  {
   "cell_type": "markdown",
   "id": "6efc8b1e",
   "metadata": {},
   "source": [
    "# Scope of this project"
   ]
  },
  {
   "cell_type": "raw",
   "id": "97f02998",
   "metadata": {},
   "source": [
    "I have used the *Myers-Briggs Type Indicator (MBTI) Dataset* from Kaggle to train a Logistic Regression model that classifies a person as one of the 16 possible personality types from the MBTI dataset based on the text extracted from their resumes.\n",
    "\n",
    "I have used ResumeDataset.csv from Kaggle to provide the model with Resume data for prediction.\n",
    "\n",
    "I have also provided the code that can take any text input from the user, that text can be the entire text copied from someone's CV.\n",
    "\n",
    "The model will then attempt to classify a person's personality type based on that text."
   ]
  },
  {
   "cell_type": "markdown",
   "id": "54c4ca21",
   "metadata": {},
   "source": [
    "# Brief Description of each personality type from the Myers-Briggs Type Indicator (MBTI) Dataset"
   ]
  },
  {
   "cell_type": "raw",
   "id": "7c44260e",
   "metadata": {},
   "source": [
    "# The Myers-Briggs Type Indicator (MBTI) Dataset categorizes personality types based on four dimensions: *extraversion (E) vs. introversion (I), sensing (S) vs. intuition (N), thinking (T) vs. feeling (F), and judging (J) vs. perceiving (P)*.\n",
    "# The combination of these dimensions results in *16 distinct personality types*. Here's a brief overview of each personality type in the MBTI dataset:\n",
    "# **ISTJ (Introversion, Sensing, Thinking, Judging)**: ISTJs are practical, responsible, and dependable. They prefer structure, follow rules, and focus on details.\n",
    "\n",
    "# **ISFJ (Introversion, Sensing, Feeling, Judging)**: ISFJs are warm, caring, and reliable. They are attentive to others' needs, value harmony, and are detail-oriented.\n",
    "\n",
    "# **INFJ (Introversion, Intuition, Feeling, Judging)**: INFJs are insightful, compassionate, and idealistic. They have a deep understanding of others, seek meaning, and are driven by their values.\n",
    "\n",
    "# **INTJ (Introversion, Intuition, Thinking, Judging)**: INTJs are strategic, independent, and logical. They have a long-term vision, excel in analyzing complex problems, and value competence.\n",
    "\n",
    "# **ISTP (Introversion, Sensing, Thinking, Perceiving)**: ISTPs are observant, analytical, and adaptable. They enjoy hands-on activities, value practicality, and are skilled problem solvers.\n",
    "\n",
    "# **ISFP (Introversion, Sensing, Feeling, Perceiving)**: ISFPs are artistic, gentle, and empathetic. They appreciate beauty, value personal values, and enjoy expressing themselves creatively.\n",
    "\n",
    "# **INFP (Introversion, Intuition, Feeling, Perceiving)**: INFPs are compassionate, imaginative, and individualistic. They seek authenticity, value personal growth, and are driven by their ideals.\n",
    "\n",
    "# **INTP (Introversion, Intuition, Thinking, Perceiving)**: INTPs are logical, curious, and innovative. They have a thirst for knowledge, enjoy theoretical thinking, and are skilled problem solvers.\n",
    "\n",
    "# **ESTP (Extraversion, Sensing, Thinking, Perceiving)**: ESTPs are outgoing, energetic, and action-oriented. They are adaptable, enjoy new experiences, and excel in fast-paced environments.\n",
    "\n",
    "# **ESFP (Extraversion, Sensing, Feeling, Perceiving)**: ESFPs are enthusiastic, friendly, and spontaneous. They appreciate sensory experiences, value social connections, and seek joy in the present moment.\n",
    "\n",
    "# **ENFP (Extraversion, Intuition, Feeling, Perceiving)**: ENFPs are enthusiastic, creative, and empathetic. They value personal growth, enjoy exploring possibilities, and are skilled communicators.\n",
    "\n",
    "# **ENTP (Extraversion, Intuition, Thinking, Perceiving)**: ENTPs are inventive, quick-witted, and intellectually curious. They enjoy debates, value creativity, and excel in generating new ideas.\n",
    "\n",
    "# **ESTJ (Extraversion, Sensing, Thinking, Judging)**: ESTJs are organized, practical, and efficient. They value structure, follow traditions, and excel in leadership roles.\n",
    "\n",
    "# **ESFJ (Extraversion, Sensing, Feeling, Judging)**: ESFJs are warm, outgoing, and supportive. They value harmony, prioritize the needs of others, and excel in nurturing relationships.\n",
    "\n",
    "# **ENFJ (Extraversion, Intuition, Feeling, Judging)**: ENFJs are charismatic, empathetic, and influential. They value harmony, are skilled at understanding others' emotions, and excel in leadership and helping roles.\n",
    "\n",
    "# **ENTJ (Extraversion, Intuition, Thinking, Judging)**: ENTJs are strategic, assertive, and efficient. They have strong leadership skills, value competence, and excel in organizational settings.\n",
    "\n",
    "# It's important to note that these brief descriptions capture some general characteristics associated with each personality type, but individual variations exist within each type."
   ]
  },
  {
   "cell_type": "markdown",
   "id": "860c7bab",
   "metadata": {},
   "source": [
    "# *However the quality/reliability of the prediction will depend on the length and type of text the model is given to predict upon.*"
   ]
  },
  {
   "cell_type": "code",
   "execution_count": 1,
   "id": "d8890303",
   "metadata": {},
   "outputs": [
    {
     "name": "stdout",
     "output_type": "stream",
     "text": [
      "Requirement already satisfied: nltk in c:\\users\\haida\\anaconda3\\lib\\site-packages (3.8.1)\n",
      "Requirement already satisfied: click in c:\\users\\haida\\anaconda3\\lib\\site-packages (from nltk) (8.0.4)\n",
      "Requirement already satisfied: joblib in c:\\users\\haida\\anaconda3\\lib\\site-packages (from nltk) (1.2.0)\n",
      "Requirement already satisfied: regex>=2021.8.3 in c:\\users\\haida\\anaconda3\\lib\\site-packages (from nltk) (2022.7.9)\n",
      "Requirement already satisfied: tqdm in c:\\users\\haida\\anaconda3\\lib\\site-packages (from nltk) (4.65.0)\n",
      "Requirement already satisfied: colorama in c:\\users\\haida\\anaconda3\\lib\\site-packages (from click->nltk) (0.4.6)\n"
     ]
    }
   ],
   "source": [
    "# pip install nltk"
   ]
  },
  {
   "cell_type": "code",
   "execution_count": 2,
   "id": "800bb411",
   "metadata": {},
   "outputs": [],
   "source": [
    "import pandas as pd\n",
    "import numpy as np\n",
    "from sklearn.model_selection import train_test_split\n",
    "from sklearn.feature_extraction.text import CountVectorizer\n",
    "from sklearn.linear_model import LogisticRegression"
   ]
  },
  {
   "cell_type": "code",
   "execution_count": 3,
   "id": "daeabbea",
   "metadata": {},
   "outputs": [
    {
     "name": "stdout",
     "output_type": "stream",
     "text": [
      "   type                                              posts\n",
      "0  INFJ  'http://www.youtube.com/watch?v=qsXHcwe3krw|||...\n",
      "1  ENTP  'I'm finding the lack of me in these posts ver...\n",
      "2  INTP  'Good one  _____   https://www.youtube.com/wat...\n",
      "3  INTJ  'Dear INTP,   I enjoyed our conversation the o...\n",
      "4  ENTJ  'You're fired.|||That's another silly misconce...\n",
      "5  INTJ  '18/37 @.@|||Science  is not perfect. No scien...\n",
      "6  INFJ  'No, I can't draw on my own nails (haha). Thos...\n",
      "7  INTJ  'I tend to build up a collection of things on ...\n",
      "8  INFJ  I'm not sure, that's a good question. The dist...\n",
      "9  INTP  'https://www.youtube.com/watch?v=w8-egj0y8Qs||...\n"
     ]
    }
   ],
   "source": [
    "mbti = pd.read_csv(\"C:\\\\Users\\\\haida\\\\OneDrive\\\\Desktop\\\\Code Clause Tasks\\\\Personality Prediction via CV\\\\mbti.csv\", names = ['type','posts'])\n",
    "print(mbti.head(10))"
   ]
  },
  {
   "cell_type": "code",
   "execution_count": 4,
   "id": "95a9e582",
   "metadata": {},
   "outputs": [
    {
     "name": "stdout",
     "output_type": "stream",
     "text": [
      "       Category                                             Resume\n",
      "0  Data Science  Skills * Programming Languages: Python (pandas...\n",
      "1  Data Science  Education Details \\r\\nMay 2013 to May 2017 B.E...\n",
      "2  Data Science  Areas of Interest Deep Learning, Control Syste...\n",
      "3  Data Science  Skills â¢ R â¢ Python â¢ SAP HANA â¢ Table...\n",
      "4  Data Science  Education Details \\r\\n MCA   YMCAUST,  Faridab...\n",
      "5  Data Science  SKILLS C Basics, IOT, Python, MATLAB, Data Sci...\n",
      "6  Data Science  Skills â¢ Python â¢ Tableau â¢ Data Visuali...\n",
      "7  Data Science  Education Details \\r\\n B.Tech   Rayat and Bahr...\n",
      "8  Data Science  Personal Skills â¢ Ability to quickly grasp t...\n",
      "9  Data Science  Expertise â Data and Quantitative Analysis â...\n"
     ]
    }
   ],
   "source": [
    "resume = pd.read_csv(\"C:\\\\Users\\\\haida\\\\OneDrive\\\\Desktop\\\\Code Clause Tasks\\\\Personality Prediction via CV\\\\UpdatedResumeDataSet.csv\")\n",
    "print(resume.head(10))"
   ]
  },
  {
   "cell_type": "markdown",
   "id": "be293ced",
   "metadata": {},
   "source": [
    "# 3.List of posts"
   ]
  },
  {
   "cell_type": "code",
   "execution_count": 5,
   "id": "4309037d",
   "metadata": {
    "scrolled": true
   },
   "outputs": [
    {
     "data": {
      "text/plain": [
       "[[\"'http://www.youtube.com/watch?v=qsXHcwe3krw\",\n",
       "  'http://41.media.tumblr.com/tumblr_lfouy03PMA1qa1rooo1_500.jpg',\n",
       "  'enfp and intj moments  https://www.youtube.com/watch?v=iz7lE1g4XM4  sportscenter not top ten plays  https://www.youtube.com/watch?v=uCdfze1etec  pranks',\n",
       "  'What has been the most life-changing experience in your life?',\n",
       "  'http://www.youtube.com/watch?v=vXZeYwwRDw8   http://www.youtube.com/watch?v=u8ejam5DP3E  On repeat for most of today.',\n",
       "  'May the PerC Experience immerse you.',\n",
       "  'The last thing my INFJ friend posted on his facebook before committing suicide the next day. Rest in peace~   http://vimeo.com/22842206',\n",
       "  \"Hello ENFJ7. Sorry to hear of your distress. It's only natural for a relationship to not be perfection all the time in every moment of existence. Try to figure the hard times as times of growth, as...\",\n",
       "  '84389  84390  http://wallpaperpassion.com/upload/23700/friendship-boy-and-girl-wallpaper.jpg  http://assets.dornob.com/wp-content/uploads/2010/04/round-home-design.jpg ...',\n",
       "  'Welcome and stuff.',\n",
       "  'http://playeressence.com/wp-content/uploads/2013/08/RED-red-the-pokemon-master-32560474-450-338.jpg  Game. Set. Match.',\n",
       "  \"Prozac, wellbrutin, at least thirty minutes of moving your legs (and I don't mean moving them while sitting in your same desk chair), weed in moderation (maybe try edibles as a healthier alternative...\",\n",
       "  \"Basically come up with three items you've determined that each type (or whichever types you want to do) would more than likely use, given each types' cognitive functions and whatnot, when left by...\",\n",
       "  'All things in moderation.  Sims is indeed a video game, and a good one at that. Note: a good one at that is somewhat subjective in that I am not completely promoting the death of any given Sim...',\n",
       "  'Dear ENFP:  What were your favorite video games growing up and what are your now, current favorite video games? :cool:',\n",
       "  'https://www.youtube.com/watch?v=QyPqT8umzmY',\n",
       "  'It appears to be too late. :sad:',\n",
       "  \"There's someone out there for everyone.\",\n",
       "  'Wait... I thought confidence was a good thing.',\n",
       "  \"I just cherish the time of solitude b/c i revel within my inner world more whereas most other time i'd be workin... just enjoy the me time while you can. Don't worry, people will always be around to...\",\n",
       "  \"Yo entp ladies... if you're into a complimentary personality,well, hey.\",\n",
       "  '... when your main social outlet is xbox live conversations and even then you verbally fatigue quickly.',\n",
       "  'http://www.youtube.com/watch?v=gDhy7rdfm14  I really dig the part from 1:46 to 2:50',\n",
       "  'http://www.youtube.com/watch?v=msqXffgh7b8',\n",
       "  'Banned because this thread requires it of me.',\n",
       "  'Get high in backyard, roast and eat marshmellows in backyard while conversing over something intellectual, followed by massages and kisses.',\n",
       "  'http://www.youtube.com/watch?v=Mw7eoU3BMbE',\n",
       "  'http://www.youtube.com/watch?v=4V2uYORhQOk',\n",
       "  'http://www.youtube.com/watch?v=SlVmgFQQ0TI',\n",
       "  \"Banned for too many b's in that sentence. How could you! Think of the B!\",\n",
       "  'Banned for watching movies in the corner with the dunces.',\n",
       "  'Banned because Health class clearly taught you nothing about peer pressure.',\n",
       "  'Banned for a whole host of reasons!',\n",
       "  'http://www.youtube.com/watch?v=IRcrv41hgz4',\n",
       "  \"1) Two baby deer on left and right munching on a beetle in the middle.  2) Using their own blood, two cavemen diary today's latest happenings on their designated cave diary wall.  3) I see it as...\",\n",
       "  'a pokemon world  an infj society  everyone becomes an optimist',\n",
       "  '49142',\n",
       "  'http://www.youtube.com/watch?v=ZRCEq_JFeFM',\n",
       "  'http://discovermagazine.com/2012/jul-aug/20-things-you-didnt-know-about-deserts/desert.jpg',\n",
       "  'http://oyster.ignimgs.com/mediawiki/apis.ign.com/pokemon-silver-version/d/dd/Ditto.gif',\n",
       "  'http://www.serebii.net/potw-dp/Scizor.jpg',\n",
       "  \"Not all artists are artists because they draw. It's the idea that counts in forming something of your own... like a signature.\",\n",
       "  \"Welcome to the robot ranks, person who downed my self-esteem cuz I'm not an avid signature artist like herself. :proud:\",\n",
       "  'Banned for taking all the room under my bed. Ya gotta learn to share with the roaches.',\n",
       "  'http://www.youtube.com/watch?v=w8IgImn57aQ',\n",
       "  'Banned for being too much of a thundering, grumbling kind of storm... yep.',\n",
       "  \"Ahh... old high school music I haven't heard in ages.   http://www.youtube.com/watch?v=dcCRUPCdB1w\",\n",
       "  \"I failed a public speaking class a few years ago and I've sort of learned what I could do better were I to be in that position again. A big part of my failure was just overloading myself with too...\",\n",
       "  \"I like this person's mentality. He's a confirmed INTJ by the way. http://www.youtube.com/watch?v=hGKLI-GEc6M\",\n",
       "  \"Move to the Denver area and start a new life for myself.'\"],\n",
       " [\"'I'm finding the lack of me in these posts very alarming.\",\n",
       "  \"Sex can be boring if it's in the same position often. For example me and my girlfriend are currently in an environment where we have to creatively use cowgirl and missionary. There isn't enough...\",\n",
       "  \"Giving new meaning to 'Game' theory.\",\n",
       "  \"Hello *ENTP Grin*  That's all it takes. Than we converse and they do most of the flirting while I acknowledge their presence and return their words with smooth wordplay and more cheeky grins.\",\n",
       "  'This + Lack of Balance and Hand Eye Coordination.',\n",
       "  \"Real IQ test I score 127. Internet IQ tests are funny. I score 140s or higher.  Now, like the former responses of this thread I will mention that I don't believe in the IQ test. Before you banish...\",\n",
       "  \"You know you're an ENTP when you vanish from a site for a year and a half, return, and find people are still commenting on your posts and liking your ideas/thoughts. You know you're an ENTP when you...\",\n",
       "  'http://img188.imageshack.us/img188/6422/6020d1f9da6944a6b71bbe6.jpg',\n",
       "  'http://img.adultdvdtalk.com/813a0c6243814cab84c51',\n",
       "  'I over think things sometimes. I go by the old Sherlock Holmes quote.  Perhaps, when a man has special knowledge and special powers like my  own, it rather encourages him to seek a complex...',\n",
       "  'cheshirewolf.tumblr.com  So is I :D',\n",
       "  '400,000+  post',\n",
       "  \"Not really; I've never thought of E/I or J/P as real functions.  I judge myself on what I use. I use Ne and Ti as my dominates. Fe for emotions and rarely Si. I also use Ni due to me strength...\",\n",
       "  'You know though. That was ingenious. After saying it I really want to try it and see what happens with me playing a first person shooter in the back while we drive around. I want to see the look on...',\n",
       "  \"out of all of them the rock paper one is the best. It makes me lol.  You guys are lucky :D I'm really high up on the tumblr system.\",\n",
       "  \"So did you hear about that new first person shooter game? I've been rocking the hell out of the soundtrack on my auto sound equipment that will shake the heavens. We managed to put a couple PS3's in...\",\n",
       "  'No; The way he connected things was very Ne. Ne dominates are just as aware of their environments as Se dominates.  Example: Shawn Spencer or Patrick Jane; Both ENTPs.',\n",
       "  \"Well charlie I will be the first to admit I do get jealous like you do. I chalk it up to my 4w3 heart mixed with my dominate 7w8. 7s and 8s both like to be noticed. 4's like to be known (not the same...\",\n",
       "  \";D I'll upload the same clip with the mic away from my mouth. Than you won't hear anything.  Ninja Assassin style but with splatter.\",\n",
       "  'Tik Tok is a really great song. As long as you can mental block out the singer. I love the beat it makes me bounce.',\n",
       "  'drop.io v1swck0  :D Mic really close to my mouth and smokin aces: assassins ball playing in the background.',\n",
       "  \"Sociable =/= extrovert; I'm an extrovert and I'm not sociable. :)\",\n",
       "  \"Sherlock in the movie was an ENTP. Normally he's played as a EXTJ. In the books he's an ESTJ.  As I said. The movie looked good except for it being called sherlock holmes.\",\n",
       "  'http://i817.photobucket.com/albums/zz96/kamioo/Dirtywinch.png',\n",
       "  \"Oh, I never had fear of kissing a guy. I will kiss an animal too. So there was nothing to vanish. Just personal taste and me not liking it.  The guy I kissed didn't know me. It was one of those...\",\n",
       "  \"Sounds pretty much like my area and what I'm going through right now trying to figure out which way I want to take my life. I want to do so many things. The biggest problem is that I know if I don't...\",\n",
       "  ';D I was operating under the impression that you were female. I never looked at your boxy. Okay, I help out my gay friends all the time and one of them has developed a little crush on me. I get red...',\n",
       "  \"T_T You just described me  and I'm living the worst nightmare. I'm trapped in one place with one one around. Only dull woods. If I was a serial killer this would be the perfect place but sadly I'm...\",\n",
       "  'TBH, and biased, sounds like a shadowed INFP. I think maybe he was hurt and turned ESTJ. I can tell because he has some of the typical INFP traits left over.',\n",
       "  \"*Checks list* I'm sorry. It seems that you have came at a bad time. We've already reached our quota of INFJs. However, being you're female and I like females I will make you a deal. I will kick one...\",\n",
       "  \"I'm ANTP (Leaning toward E). I'm easy for both ENTPs and INTPs to identify with. :)\",\n",
       "  \"I also imagine ENTP's interrogations would go a little bit like Jack's from 24 except more mechanical. Rigging up shock treatment equipment in an abandoned building out of an old car batty, jumper...\",\n",
       "  \"It was a compliment :) Trust me. I'm just as psychopathic :D except I have emoticons. They're just weird ones. Like laughing when I get hurt or at people running themselves over with their lawn mower...\",\n",
       "  'http://i817.photobucket.com/albums/zz96/kamioo/Thunderstorm.pnghttp://i817.photobucket.com/albums/zz96/kamioo/Thunderstormbw.png http://i817.photobucket.com/albums/zz96/kamioo/Cosmicstorm.png',\n",
       "  \"No. It's like a theme for where I live and that is why I know it by heart.   http://www.youtube.com/watch?v=j5W73HaVQBg\",\n",
       "  \"and I usual don't leave until the thing ends. But in the mean time. In between times. You work your thing. I'll work mine :D  ;D I'm the MBP; Pleasure to meet you.\",\n",
       "  'Damn, need to trust my instincts more I would have been closer I was going to say INFP.',\n",
       "  'EXFP? Leaning toward S with the way she responded.  :D My friends, even my gay and lesbian ones, always come to me for advice.',\n",
       "  \"I bow to my entp masters ENTPs are so great. If it wasn't for ENTPs I wouldn't have been able to build what I'm building  Duck Duck  Duck  Shotgun\",\n",
       "  'What? Me? I never do that >.> <.<',\n",
       "  \"Because its hard to be sad about losing someone you like when you knew you were right and give yourself a big pat on the back because you're awesome and always correct.\",\n",
       "  \"Oh, you don't have to tell me that most of them are stupid. I know this. That is why I play with them and it makes me laugh. :D As I'm going to take Neuropsychology and I have a few psychologist...\",\n",
       "  \":D I'm a Nightowl. I wake up between 6-7pm and stay awake till 10-11:30am.\",\n",
       "  'Personal opinion backed by theory would suggest that INTPs are the most socially difficult. While INTJs can be socially indifferent but they will also use social situations if the the need arises....',\n",
       "  \"Personal stocks that I have on my desktop that I've downloaded from random stock sites and stock photobuckets.\",\n",
       "  \"I'll tell you when I open photoshop.  :) Glad you like it static.\",\n",
       "  ':D Thanks.',\n",
       "  'http://i817.photobucket.com/albums/zz96/kamioo/Deathgrip.png http://i817.photobucket.com/albums/zz96/kamioo/Deathgripbw.png  Made for a friend. Several hours of work. I constructed every line by...',\n",
       "  \":) Static: http://i817.photobucket.com/albums/zz96/kamioo/Statickitten.png  I'll have to get to your avatar later if one of my fellow teammates doesn't.\",\n",
       "  \"Psychologist don't keep me around long enough to diagnosis me. I like to toy with them. What I have diagnosis myself with and had a few psychologist friends (+ a few other friends) tell me I have is...'\"]]"
      ]
     },
     "execution_count": 5,
     "metadata": {},
     "output_type": "execute_result"
    }
   ],
   "source": [
    "[p.split('|||') for p in mbti.head(2).posts.values]"
   ]
  },
  {
   "cell_type": "markdown",
   "id": "34ef0598",
   "metadata": {},
   "source": [
    "# Distribution of the MBTI personality types"
   ]
  },
  {
   "cell_type": "code",
   "execution_count": 6,
   "id": "922ffd2e",
   "metadata": {
    "scrolled": false
   },
   "outputs": [
    {
     "data": {
      "text/plain": [
       "Text(0.5, 0, 'Types')"
      ]
     },
     "execution_count": 6,
     "metadata": {},
     "output_type": "execute_result"
    },
    {
     "data": {
      "image/png": "[encoded data removed]",
      "text/plain": [
       "<Figure size 1200x400 with 1 Axes>"
      ]
     },
     "metadata": {},
     "output_type": "display_data"
    }
   ],
   "source": [
    "import matplotlib.pyplot as plt\n",
    "%matplotlib inline\n",
    "from sklearn.datasets import make_classification\n",
    "# from sklearn.metrics import plot_confusion_matrix\n",
    "from sklearn.model_selection import train_test_split\n",
    "from sklearn.svm import SVC\n",
    "from sklearn.metrics import confusion_matrix\n",
    "import itertools\n",
    "import re\n",
    "import seaborn as sns\n",
    "cnt_types = mbti['type'].value_counts()\n",
    "plt.figure(figsize=(12,4))\n",
    "sns.barplot(x=cnt_types.index, y=cnt_types.values, alpha=0.8)\n",
    "plt.ylabel('Number of Occurrences' , fontsize=12)\n",
    "plt.xlabel('Types', fontsize=12)"
   ]
  },
  {
   "cell_type": "code",
   "execution_count": 7,
   "id": "7a3343fb",
   "metadata": {},
   "outputs": [
    {
     "data": {
      "text/html": [
       "<div>\n",
       "<style scoped>\n",
       "    .dataframe tbody tr th:only-of-type {\n",
       "        vertical-align: middle;\n",
       "    }\n",
       "\n",
       "    .dataframe tbody tr th {\n",
       "        vertical-align: top;\n",
       "    }\n",
       "\n",
       "    .dataframe thead th {\n",
       "        text-align: right;\n",
       "    }\n",
       "</style>\n",
       "<table border=\"1\" class=\"dataframe\">\n",
       "  <thead>\n",
       "    <tr style=\"text-align: right;\">\n",
       "      <th></th>\n",
       "      <th>type</th>\n",
       "      <th>posts</th>\n",
       "      <th>IE</th>\n",
       "      <th>NS</th>\n",
       "      <th>TF</th>\n",
       "      <th>JP</th>\n",
       "    </tr>\n",
       "  </thead>\n",
       "  <tbody>\n",
       "    <tr>\n",
       "      <th>0</th>\n",
       "      <td>INFJ</td>\n",
       "      <td>'http://www.youtube.com/watch?v=qsXHcwe3krw|||...</td>\n",
       "      <td>1</td>\n",
       "      <td>1</td>\n",
       "      <td>0</td>\n",
       "      <td>1</td>\n",
       "    </tr>\n",
       "    <tr>\n",
       "      <th>1</th>\n",
       "      <td>ENTP</td>\n",
       "      <td>'I'm finding the lack of me in these posts ver...</td>\n",
       "      <td>0</td>\n",
       "      <td>1</td>\n",
       "      <td>1</td>\n",
       "      <td>0</td>\n",
       "    </tr>\n",
       "    <tr>\n",
       "      <th>2</th>\n",
       "      <td>INTP</td>\n",
       "      <td>'Good one  _____   https://www.youtube.com/wat...</td>\n",
       "      <td>1</td>\n",
       "      <td>1</td>\n",
       "      <td>1</td>\n",
       "      <td>0</td>\n",
       "    </tr>\n",
       "    <tr>\n",
       "      <th>3</th>\n",
       "      <td>INTJ</td>\n",
       "      <td>'Dear INTP,   I enjoyed our conversation the o...</td>\n",
       "      <td>1</td>\n",
       "      <td>1</td>\n",
       "      <td>1</td>\n",
       "      <td>1</td>\n",
       "    </tr>\n",
       "    <tr>\n",
       "      <th>4</th>\n",
       "      <td>ENTJ</td>\n",
       "      <td>'You're fired.|||That's another silly misconce...</td>\n",
       "      <td>0</td>\n",
       "      <td>1</td>\n",
       "      <td>1</td>\n",
       "      <td>1</td>\n",
       "    </tr>\n",
       "  </tbody>\n",
       "</table>\n",
       "</div>"
      ],
      "text/plain": [
       "   type                                              posts  IE  NS  TF  JP\n",
       "0  INFJ  'http://www.youtube.com/watch?v=qsXHcwe3krw|||...   1   1   0   1\n",
       "1  ENTP  'I'm finding the lack of me in these posts ver...   0   1   1   0\n",
       "2  INTP  'Good one  _____   https://www.youtube.com/wat...   1   1   1   0\n",
       "3  INTJ  'Dear INTP,   I enjoyed our conversation the o...   1   1   1   1\n",
       "4  ENTJ  'You're fired.|||That's another silly misconce...   0   1   1   1"
      ]
     },
     "execution_count": 7,
     "metadata": {},
     "output_type": "execute_result"
    }
   ],
   "source": [
    "def get_types(row):\n",
    "    t=row['type']\n",
    "    \n",
    "    I=0; N=0\n",
    "    T=0; J=0\n",
    "    \n",
    "    if t[0] == 'I' : I = 1\n",
    "    elif t[0] == 'E' : I = 0\n",
    "    else: print('I-E incorrect')\n",
    "    \n",
    "    if t[1] == 'N' : N=1\n",
    "    elif t[1] == 'S' : N=0\n",
    "    else: print('N-S incorrect')\n",
    "    \n",
    "    if t[2] == 'T' : T=1\n",
    "    elif t[2] == 'F' : T=0\n",
    "    else: print('T-F incorrect')\n",
    "    \n",
    "    if t[3] == 'J' : J=1\n",
    "    elif t[3] == 'P' : J=0 \n",
    "    else: print('J-P incorrect')\n",
    "        \n",
    "    return pd.Series({'IE':I, 'NS':N, 'TF':T, 'JP':J})\n",
    "mbti = mbti.join(mbti.apply (lambda row: get_types(row),axis=1))\n",
    "mbti.head(5)"
   ]
  },
  {
   "cell_type": "code",
   "execution_count": 8,
   "id": "d72bcc64",
   "metadata": {
    "scrolled": true
   },
   "outputs": [
    {
     "name": "stdout",
     "output_type": "stream",
     "text": [
      "Introversion (I) / Extroversion (E):\t 1999 / 6676\n",
      "Intuition (N) / Sensing (S):\t 1197 / 7478\n",
      "Thinking (T) / Feeling (F):\t 4694 / 3981\n",
      "Judging (J) / Perceiving (P):\t 5241 / 3434\n"
     ]
    }
   ],
   "source": [
    "print(\"Introversion (I) / Extroversion (E):\\t\",mbti['IE'].value_counts()[0],\"/\",mbti[\"IE\"].value_counts()[1])\n",
    "print(\"Intuition (N) / Sensing (S):\\t\",mbti['NS'].value_counts()[0],\"/\",mbti[\"NS\"].value_counts()[1])\n",
    "print(\"Thinking (T) / Feeling (F):\\t\",mbti['TF'].value_counts()[0],\"/\",mbti[\"TF\"].value_counts()[1])\n",
    "print(\"Judging (J) / Perceiving (P):\\t\",mbti['JP'].value_counts()[0],\"/\",mbti[\"JP\"].value_counts()[1])"
   ]
  },
  {
   "cell_type": "code",
   "execution_count": 9,
   "id": "049b1625",
   "metadata": {},
   "outputs": [
    {
     "data": {
      "image/png": "[encoded data removed]",
      "text/plain": [
       "<Figure size 640x480 with 1 Axes>"
      ]
     },
     "metadata": {},
     "output_type": "display_data"
    }
   ],
   "source": [
    "N=4\n",
    "but = (mbti['IE'].value_counts()[0],mbti['NS'].value_counts()[0],mbti['TF'].value_counts()[0],mbti['JP'].value_counts()[0])\n",
    "top = (mbti['IE'].value_counts()[1],mbti['NS'].value_counts()[1],mbti['TF'].value_counts()[1],mbti['JP'].value_counts()[1])\n",
    "ind = np.arange(N) # the c location for the groups\n",
    "width = 0.7\n",
    "p1=plt.bar(ind,but,width)\n",
    "p2=plt.bar(ind,top,width, bottom=but)\n",
    "plt.ylabel('Count')\n",
    "plt.title('Distribution across types indicators')\n",
    "plt.xticks(ind,('I/E','N/S','T/F','J/P'))\n",
    "plt.show()"
   ]
  },
  {
   "cell_type": "markdown",
   "id": "1d4cb1a5",
   "metadata": {},
   "source": [
    "# Pearson Features Correlations"
   ]
  },
  {
   "cell_type": "code",
   "execution_count": 10,
   "id": "e866d237",
   "metadata": {
    "scrolled": true
   },
   "outputs": [
    {
     "data": {
      "text/html": [
       "<div>\n",
       "<style scoped>\n",
       "    .dataframe tbody tr th:only-of-type {\n",
       "        vertical-align: middle;\n",
       "    }\n",
       "\n",
       "    .dataframe tbody tr th {\n",
       "        vertical-align: top;\n",
       "    }\n",
       "\n",
       "    .dataframe thead th {\n",
       "        text-align: right;\n",
       "    }\n",
       "</style>\n",
       "<table border=\"1\" class=\"dataframe\">\n",
       "  <thead>\n",
       "    <tr style=\"text-align: right;\">\n",
       "      <th></th>\n",
       "      <th>IE</th>\n",
       "      <th>NS</th>\n",
       "      <th>TF</th>\n",
       "      <th>JP</th>\n",
       "    </tr>\n",
       "  </thead>\n",
       "  <tbody>\n",
       "    <tr>\n",
       "      <th>IE</th>\n",
       "      <td>1.000000</td>\n",
       "      <td>-0.045899</td>\n",
       "      <td>-0.069573</td>\n",
       "      <td>0.161939</td>\n",
       "    </tr>\n",
       "    <tr>\n",
       "      <th>NS</th>\n",
       "      <td>-0.045899</td>\n",
       "      <td>1.000000</td>\n",
       "      <td>-0.080954</td>\n",
       "      <td>0.014922</td>\n",
       "    </tr>\n",
       "    <tr>\n",
       "      <th>TF</th>\n",
       "      <td>-0.069573</td>\n",
       "      <td>-0.080954</td>\n",
       "      <td>1.000000</td>\n",
       "      <td>-0.004673</td>\n",
       "    </tr>\n",
       "    <tr>\n",
       "      <th>JP</th>\n",
       "      <td>0.161939</td>\n",
       "      <td>0.014922</td>\n",
       "      <td>-0.004673</td>\n",
       "      <td>1.000000</td>\n",
       "    </tr>\n",
       "  </tbody>\n",
       "</table>\n",
       "</div>"
      ],
      "text/plain": [
       "          IE        NS        TF        JP\n",
       "IE  1.000000 -0.045899 -0.069573  0.161939\n",
       "NS -0.045899  1.000000 -0.080954  0.014922\n",
       "TF -0.069573 -0.080954  1.000000 -0.004673\n",
       "JP  0.161939  0.014922 -0.004673  1.000000"
      ]
     },
     "execution_count": 10,
     "metadata": {},
     "output_type": "execute_result"
    }
   ],
   "source": [
    "mbti[['IE','NS','TF','JP']].corr()"
   ]
  },
  {
   "cell_type": "markdown",
   "id": "96e336c0",
   "metadata": {},
   "source": [
    "# Unclear if the matrix shows anything for interpretation"
   ]
  },
  {
   "cell_type": "code",
   "execution_count": 11,
   "id": "e0924740",
   "metadata": {
    "scrolled": true
   },
   "outputs": [
    {
     "data": {
      "text/plain": [
       "<Axes: title={'center': 'Pearson Features correlation'}>"
      ]
     },
     "execution_count": 11,
     "metadata": {},
     "output_type": "execute_result"
    },
    {
     "data": {
      "image/png": "[encoded data removed]",
      "text/plain": [
       "<Figure size 1200x800 with 2 Axes>"
      ]
     },
     "metadata": {},
     "output_type": "display_data"
    }
   ],
   "source": [
    "cmap = plt.cm.RdBu\n",
    "corr = mbti[['IE','NS','TF','JP']].corr()\n",
    "plt.figure(figsize=(12,8))\n",
    "plt.title('Pearson Features correlation', size=15)\n",
    "sns.heatmap(corr, cmap=cmap, annot=True,linewidths=1)"
   ]
  },
  {
   "cell_type": "markdown",
   "id": "9d8b7901",
   "metadata": {},
   "source": [
    "# prepare data\n",
    "\n",
    "Binarize type indicator(better implementation than mine above)"
   ]
  },
  {
   "cell_type": "code",
   "execution_count": 12,
   "id": "c8b7d79e",
   "metadata": {},
   "outputs": [
    {
     "name": "stdout",
     "output_type": "stream",
     "text": [
      "Binarize MBTI list: \n",
      "[[0 0 1 0]\n",
      " [1 0 0 1]\n",
      " [0 0 0 1]\n",
      " [0 0 0 0]\n",
      " [1 0 0 0]]\n"
     ]
    }
   ],
   "source": [
    "b_Pers = {'I':0, 'E':1, 'N':0, 'S':1, 'T':0, 'F':1, 'J':0, 'P':1}\n",
    "b_Pers_list = [{0:'I',1:'E'},{0:'N',1:'S'},{0:'T',1:'F'},{0:'J',1:'P'}]\n",
    "def translate_personality(personality):\n",
    "#     transform mbti to binary vector\n",
    "    return [b_Pers[l] for l in personality]\n",
    "\n",
    "def translate_back(personality):\n",
    "#     transform binary vector to mbti personality\n",
    "\n",
    "    s = \" \"\n",
    "    for i, l in enumerate(personality):\n",
    "        s += b + Pers_list[i][l]\n",
    "    return s\n",
    "\n",
    "# check\n",
    "d = mbti.head(5)\n",
    "list_personality_bin = np.array([translate_personality(p) for p in d.type])\n",
    "print(\"Binarize MBTI list: \\n%s\" %list_personality_bin)"
   ]
  },
  {
   "cell_type": "code",
   "execution_count": 13,
   "id": "edb5c14d",
   "metadata": {
    "scrolled": true
   },
   "outputs": [
    {
     "name": "stderr",
     "output_type": "stream",
     "text": [
      "[nltk_data] Error loading stopwords: <urlopen error [Errno 11002]\n",
      "[nltk_data]     getaddrinfo failed>\n"
     ]
    },
    {
     "data": {
      "text/plain": [
       "False"
      ]
     },
     "execution_count": 13,
     "metadata": {},
     "output_type": "execute_result"
    }
   ],
   "source": [
    "import nltk\n",
    "nltk.download('stopwords')"
   ]
  },
  {
   "cell_type": "code",
   "execution_count": 14,
   "id": "f6c74f20",
   "metadata": {},
   "outputs": [],
   "source": [
    "# compute list of subject with type | list of comments\n",
    "from nltk.stem import PorterStemmer, WordNetLemmatizer\n",
    "from nltk.corpus import stopwords\n",
    "from nltk import word_tokenize"
   ]
  },
  {
   "cell_type": "code",
   "execution_count": 15,
   "id": "20f5c1ca",
   "metadata": {},
   "outputs": [],
   "source": [
    "    # Resource stopwords not found\n",
    "    # please use the NLTK donwloader to obtain the resources\n",
    "# We want to remove these from the posts\n",
    "unique_type_list=['INFJ','ENTP','INTP','INTJ','ENTJ','ENFJ','INFP','ENFP','ISFP','ISTP','ISFJ','ESTP','ESFP','ESTJ','ESFJ']\n",
    "unique_type_list=[x.lower() for x in unique_type_list]\n",
    "# lemmatize\n",
    "stemmer = PorterStemmer()\n",
    "lemmatiser = WordNetLemmatizer()\n",
    "# cache the stop words for speed\n",
    "CachedStopWords = stopwords.words('english')\n",
    "\n",
    "def pre_process_data(mbti, remove_stop_words=True, remove_mbti_profiles=True):\n",
    "     \n",
    "        list_personality = []\n",
    "        list_posts = []\n",
    "        len_mbti = len(mbti)\n",
    "        i=0\n",
    "    \n",
    "        for row in mbti.iterrows():\n",
    "            i += 1\n",
    "            if (i % 500 == 0 or i == 1 or i == len_mbti):\n",
    "                print(\"%s of %s rows\" %(i, len_mbti))\n",
    "\n",
    "    #         Remove and clean comments\n",
    "            posts = row[1].posts\n",
    "            temp = re.sub('https[s]?://(?:[a=zA-Z]|[$-@.&+]|(?:%[0-9a-fA-F][0-9a-fA-F]))+',' ',posts)\n",
    "            temp = re.sub('[^a-zA-Z]',' ',temp)\n",
    "            temp = re.sub(' + ',' ',temp).lower()\n",
    "\n",
    "            if remove_stop_words:\n",
    "                temp = ' '.join([lemmatiser.lemmatize(w) for w in temp.split(' ') if w not in CachedStopWords])\n",
    "            else:\n",
    "                 temp = ' '.join([lemmatiser.lemmatize(w) for w in temp.split(' ')])\n",
    "        \n",
    "            if remove_mbti_profiles:\n",
    "                for t in unique_type_list:\n",
    "                    temp = temp.replace(t, \" \")\n",
    "            type_labelized = translate_personality(row[1].type)\n",
    "            list_personality.append(type_labelized)\n",
    "            list_posts.append(temp)\n",
    "        \n",
    "        list_posts = np.array(list_posts)\n",
    "        list_personality = np.array(list_personality)\n",
    "        return list_posts, list_personality"
   ]
  },
  {
   "cell_type": "code",
   "execution_count": 16,
   "id": "58b35a19",
   "metadata": {
    "scrolled": true
   },
   "outputs": [
    {
     "name": "stderr",
     "output_type": "stream",
     "text": [
      "[nltk_data] Error loading wordnet: <urlopen error [Errno 11002]\n",
      "[nltk_data]     getaddrinfo failed>\n",
      "[nltk_data] Error loading omw-1.4: <urlopen error [Errno 11002]\n",
      "[nltk_data]     getaddrinfo failed>\n"
     ]
    },
    {
     "data": {
      "text/plain": [
       "False"
      ]
     },
     "execution_count": 16,
     "metadata": {},
     "output_type": "execute_result"
    }
   ],
   "source": [
    "import nltk\n",
    "nltk.download('wordnet')\n",
    "nltk.download('omw-1.4')"
   ]
  },
  {
   "cell_type": "code",
   "execution_count": 17,
   "id": "2ced0a82",
   "metadata": {
    "scrolled": true
   },
   "outputs": [
    {
     "name": "stdout",
     "output_type": "stream",
     "text": [
      "1 of 8675 rows\n",
      "500 of 8675 rows\n",
      "1000 of 8675 rows\n",
      "1500 of 8675 rows\n",
      "2000 of 8675 rows\n",
      "2500 of 8675 rows\n",
      "3000 of 8675 rows\n",
      "3500 of 8675 rows\n",
      "4000 of 8675 rows\n",
      "4500 of 8675 rows\n",
      "5000 of 8675 rows\n",
      "5500 of 8675 rows\n",
      "6000 of 8675 rows\n",
      "6500 of 8675 rows\n",
      "7000 of 8675 rows\n",
      "7500 of 8675 rows\n",
      "8000 of 8675 rows\n",
      "8500 of 8675 rows\n",
      "8675 of 8675 rows\n"
     ]
    }
   ],
   "source": [
    "list_posts, list_personality = pre_process_data(mbti, remove_stop_words=True)"
   ]
  },
  {
   "cell_type": "code",
   "execution_count": 18,
   "id": "2b576448",
   "metadata": {
    "scrolled": false
   },
   "outputs": [
    {
     "name": "stdout",
     "output_type": "stream",
     "text": [
      "Num posts and personality:  [' http www youtube com watch v qsxhcwe krw http medium tumblr com tumblr lfouy pma qa rooo jpg     moment http www youtube com watch v iz le g xm sportscenter top ten play http www youtube com watch v ucdfze etec prank life changing experience life http www youtube com watch v vxzeywwrdw http www youtube com watch v u ejam dp e repeat today may perc experience immerse last thing   friend posted facebook committing suicide next day rest peace http vimeo com hello   sorry hear distress natural relationship perfection time every moment existence try figure hard time time growth http wallpaperpassion com upload friendship boy girl wallpaper jpg http asset dornob com wp content uploads round home design jpg welcome stuff http playeressence com wp content uploads red red pokemon master jpg game set match prozac wellbrutin least thirty minute moving leg mean moving sitting desk chair weed moderation maybe try edible healthier alternative basically come three item determined type whichever type want would likely use given type cognitive function whatnot left thing moderation sims indeed video game good one note good one somewhat subjective completely promoting death given sim dear   favorite video game growing current favorite video game cool http www youtube com watch v qypqt umzmy appears late sad someone everyone wait thought confidence good thing cherish time solitude b c revel within inner world whereas time workin enjoy time worry people always around yo   lady complimentary personality well hey main social outlet xbox live conversation even verbally fatigue quickly http www youtube com watch v gdhy rdfm really dig part http www youtube com watch v msqxffgh b banned thread requires get high backyard roast eat marshmellows backyard conversing something intellectual followed massage kiss http www youtube com watch v mw eou bmbe http www youtube com watch v v uyorhqok http www youtube com watch v slvmgfqq ti banned many b sentence could think b banned watching movie corner dunce banned health class clearly taught nothing peer pressure banned whole host reason http www youtube com watch v ircrv hgz two baby deer left right munching beetle middle using blood two caveman diary today latest happening designated cave diary wall see pokemon world   society everyone becomes optimist http www youtube com watch v zrceq jfefm http discovermagazine com jul aug thing didnt know desert desert jpg http oyster ignimgs com mediawiki apis ign com pokemon silver version dd ditto gif http www serebii net potw dp scizor jpg artist artist draw idea count forming something like signature welcome robot rank person downed self esteem cuz avid signature artist like proud banned taking room bed ya gotta learn share roach http www youtube com watch v w igimn aq banned much thundering grumbling kind storm yep ahh old high school music heard age http www youtube com watch v dccrupcdb w failed public speaking class year ago sort learned could better position big part failure overloading like person mentality confirmed   way http www youtube com watch v hgkli gec move denver area start new life '\n",
      " ' finding lack post alarming sex boring position often example girlfriend currently environment creatively use cowgirl missionary enough giving new meaning game theory hello   grin take converse flirting acknowledge presence return word smooth wordplay cheeky grin lack balance hand eye coordination real iq test score internet iq test funny score higher like former response thread mention believe iq test banish know   vanish site year half return find people still commenting post liking idea thought know   http img imageshack u img f da b bbe jpg http img adultdvdtalk com c cab c think thing sometimes go old sherlock holmes quote perhaps man special knowledge special power like rather encourages seek complex cheshirewolf tumblr com post really never thought e j p real function judge use use ne ti dominates fe emotion rarely si also use ni due strength know though ingenious saying really want try see happens playing first person shooter back drive around want see look rock paper one best make lol guy lucky really high tumblr system hear new first person shooter game rocking hell soundtrack auto sound equipment shake heaven managed put couple p way connected thing ne ne dominates aware environment se dominates example shawn spencer patrick jane  s well charlie first admit get jealous like chalk w heart mixed dominate w like noticed like known upload clip mic away mouth hear anything ninja assassin style splatter tik tok really great song long mental block singer love beat make bounce drop io v swck mic really close mouth smokin ace assassin ball playing background sociable extrovert extrovert sociable sherlock movie   normally played extj book   said movie looked good except called sherlock holmes http photobucket com album zz kamioo dirtywinch png oh never fear kissing guy kiss animal nothing vanish personal taste liking guy kissed know one sound pretty much like area going right trying figure way want take life want many thing biggest problem know operating impression female never looked boxy okay help gay friend time one developed little crush get red described living worst nightmare trapped one place one one around dull wood serial killer would perfect place sadly tbh biased sound like shadowed   think maybe hurt turned   tell typical   trait left check list sorry seems came bad time already reached quota  s however female like female make deal kick one antp leaning toward e easy  s  s identify also imagine   interrogation would go little bit like jack except mechanical rigging shock treatment equipment abandoned building old car batty jumper compliment trust psychopathic except emoticon weird one like laughing get hurt people running lawn mower http photobucket com album zz kamioo thunderstorm pnghttp photobucket com album zz kamioo thunderstormbw png http photobucket com album zz kamioo cosmicstorm png like theme live know heart http www youtube com watch v j w havqbg usual leave thing end mean time time work thing work mine mbp pleasure meet damn need trust instinct would closer going say   exfp leaning toward way responded friend even gay lesbian one always come advice bow   master  s great  s able build building duck duck duck shotgun never hard sad losing someone like knew right give big pat back awesome always correct oh tell stupid know play make laugh going take neuropsychology psychologist nightowl wake pm stay awake till personal opinion backed theory would suggest  s socially difficult  s socially indifferent also use social situation need arises personal stock desktop downloaded random stock site stock photobuckets tell open photoshop glad like static thanks http photobucket com album zz kamioo deathgrip png http photobucket com album zz kamioo deathgripbw png made friend several hour work constructed every line static http photobucket com album zz kamioo statickitten png get avatar later one fellow teammate psychologist keep around long enough diagnosis like toy diagnosis psychologist friend friend tell '\n",
      " ' good one http www youtube com watch v fhigbolffgw course say know blessing curse absolutely positive best friend could amazing couple count yes could madly love case reconciled feeling thank link called ti si loop stem current topic obsession deadly like stuck thought mind wanders circle feel truly terrible noticed peculiar vegetation look grass dozen different plant specie imagine hundred year later soil smith never one ever often find spotting face marble tile wood year old sentence incredibly accurate beautiful description visited website last year whoever read maybe even remembers highly doubt hi sit garden pm writing song sing together dozen cricket playing acoustic guitar   ish thread ever seen able look painting entire life knew picked human drawing background animation working right mar felt obligated make mark watneyx postcard read book started make comic turtle gordon unicorn chime see two first story http www tumblr com blog alexxxandra   recently started post comic two friend turtle gordon unicorn chime posted stuff interested try include work probably could work together new model expert abrupt explosion laughter upon various weird stuff happens peculiar sense humor peculiar much hellooo nah touch everyone think scared sad true fact absolutely neutral face kitten actually really like patting hug well kind already mentioned sometimes ni hard convey complex stuff pop head whimsical compilation shape picture word think kitten would appropriate good night everyone even someone morning right night always supersede morning people say good night order meet next day oh movie awesome thank hope good sleep air anyway wishing good night next night ahead hopefully land good people deserve good well people may wondering issue name topic find response helpful anyway finally someone mentioned still see creature face maze various random pattern amusing sometimes handy skill bored oh know pity sacrifice whole supermarket decide walmart best think biggest one would great yippy go think fire delicious sacrifice tofu like waste food think creator thread care going year heh understand given language yes adventure time get angry quite rarely safer surrounding people go somewhere else impossible hide suppress anger way get rid feeling burst never liked anything fake bad actually hug given chosen one chosen quite though yup right http alexxxandra tumblr com course comfortable human race survived thankfully woman ability give birth human being worked thousand year change besides happens occurs often people use result extremely precise elaborate online test basis determining one type visual language art study graphic design really enjoy interesting field ability generate idea solve problem much important possession specific alexxxandra deviantart http www youtube com watch v nkcn always ready discipline intimidate precise sibling offender world domination shooting people head oh right  s always must characterised word want show badly reaction   http www youtube com watch v ghqoyxmaue '\n",
      " ...\n",
      " ' many question thing would take purple pill pick winning lottery number whatever want worked brewery couple year dont know familiar local micros craft mill st name tankhouse favorite anything local going summon great powerful mr cafebot song destruction four horseman ride count day people earth intro nick   male basement thread obviously textbook definition manliness ruffin tuffin going hard mother fking paint stand asked time approved say oh shit short staffed badger figure asked arn lol excellent thread nt dc love watching baseball playing oh hate yankee multiple partner consider manly man lift   thing relationship spend little time bedroom compared everything else dumb blonde make happy minute night going take thinking man plant fruit tree give food year feeling year later squirrel hungry eats fruit tree intuitive man see well think appreciate einstein quote everyone genius judge fish abiility climb tree live whole life believing stupid everybody vsauce real men write poetry oh mountain dew release mountain flavored doritos locos taco skateboard also http www youtube com watch v vp th yro amp feature youtu check still two thing certain rusell brand heavilly extraverted magical man people http www youtube com watch v rkvjarvcuhc badger gonna make male version   video today creative process  s getting around thing putting think always ready work provided sleep food stomach may look busy hear everything guy like making video love part hey man life try yes know   conversation head real people tl dr yes posted spoken like true   really bothered believe think tell boyfriend said morality invariably get talking philosophy tangable answer good subject include evolution hunter gatherer society political system good movie hey b th read post immediate reaction boyfriend flipping something insignificant trust issue nothing wag finger think idea enjoy darkbarlow post crush ya maybe self defense really crime would kill somebody save people million dollar thirty year later could come conclusion woman indisputably better men gentler affectionate loving compassionate rarely really make clear cut method differentiating two   lazy useless thing reason often disastrous result basically lack thing make using adblocker p ask analytical type tell want see le advertising help better hahahaha mango thread chameleon skill thing mirror mood personality others chameleon skill make wonder true free human without either well know sure wrong exist obviously prove problem first word post watching news tv news entertainment journalism resent thought human nothing selfish creature selfless accomplished whim fulfillment life often come form giving others solfonny yup basically lol suicide permanent solution non permanent problem selfish cause pain burden family rest life thinking could considered lol woman easy seriously day every   adderal would live utopia noon repeat mantra self aware reject idea come god camus declares human exist nothing change choice get pissed give revolt fact absurd man without negating nothing eternal nostalgia foreign prefers courage reasoning first teach need elbow past people hurry potentially miss train door closing otherwise want first train bus get stuck behind crowd slow walker loaded question still strongly believing non belief internet police restrain trolling   '\n",
      " ' conflicted right come wanting child honestly maternal instinct whatsoever recently none close friend child guess closest friend     istj xnfp   know correct know know type actually xnfp said last paragraph teacher frustrates trend education combine class contain variety type student say much trouble community general mean talking age peer never considered popular artsy extracurricular eat meat feel guilty vaguely considered eating meat think could actually nutritional requirement need high protein diet well boat except teach science theater know people think science   find interesting good another career exactly god truly created one man one woman technically created woman man product incest per book stayed list going around facebook choice following special order reader bernhard schlink interpreter malady jhumpa amazing list partially posting sure find need idea listen list long others pretty another point   type known idealist heard theory procrastination say come person setting high standard mind ideal perhaps well bit impulse control feeling calm one else going feel calm cute think stereotype think eleanor roosevelt may   google classified   read biography actually seems like introvert forced know much subtypes wow definitely teacher first time read thought yeah way reading carefully second time almost perfectly list interest hobby generally like read lot tell later though sometimes work get busy also enjoy writing come burst go well help gay thing sorry however commiserate part waiting someone text back feeling like power oh wow totally situation right treated poorly opposite problem seem find courage stand ground think cry much mom think pretty sure think clinically depressed even though mean pretty sure cry bit lol well feel dumb work see thanks alcohol actually change base personality easy change mbti valid alcohol make say thing would absent site couple month since back couple week ago whenever try create thread like right reply thread unable create new also sorry huge long single paragraph reason window let create new paragraph attempting fix eggsies thanks reply perspective cheating thing interesting never really thought way especially beginning perhaps make good point   forum conversation like getting gift agreed lot thing however terrible gift giver anyone different taste always good math never enjoyed math fair slightly f opposed function also say math methodical ok mr   conundrum dating   since january busy schedule able spend little time love bike use one recreation actual transportation might bike weekend evening errand weather nice except right live steep hill never make clinically diagnosed adhd reading extensively talking mom behavior kid found wanted take psychologist dad yoga clothes tight black capri pink purple tank tear movie sometimes generally cry hard exception movie version book read like harry potter believe two hour usually unfortunately kind read lot book fiction working night circus erin morgenstern almost done dovekeepers alice hoffman also reading little ambivalent book made movie many favorite book literary enough movie version would atrocious couple agree finish dark could read point without replying may physically alone someone hearing posted thread fear may belong curiosity someone desperately wanted meet need know would tell person would even know ask well never read book seen loosely based movie see saying thought fully convinced case greatly appreciate input boxerkitty said  s need socialize wide set people time unwind make feel somewhat better one thing would love person choose spend life assuming find someone choose spend life similar point made completely agreed madrabbit exception pursuing answer never find possibly exist go cycle get frustrated give decide stop yeah hear know really complicated wish seems way mind one entirely know bring without using word marriage know sure   seems far likely thought post advice  s difficulty relationship something bugging week thought would post people seem get think thing way seeing original post title anything go totally relate almost posted similar thread able trust relationship day ago desire control others kind freak feel like control feeling situation let explain desire tell someone else others mentioned feel really guilty spend lot money spa type thing feel like could putting somewhere useful especially since make ton sad angry pathetic embarrassed love oh definitely definitely stem combination number thing occurred life biggest overall factor form attachment incredibly easy seems really hoping since referred break letter long distance relationship seriously even face person tell feel honestly see point saying letter like change imagine anyone said voted   closer e ok thing sort issue test took quiz got entertainer one think really type reason describe two yeah definitely get jealous come romantic relationship honest many serious romantic relationship part reason though certainly wait leafstone third volume q book originally split japanese another language spent entire week beach book finish finished since '\n",
      " ' long since personalitycafe although seem changed one bit must say good back somewhere like usually turn doctor http www youtube com watch v eew ndm k overwhelmed world around one dream chased large shadowy creature someone else felt save else dream ended reached safety happened well avatar doctor clockwork creature always liked monster worker trying job kind st thanks reply appreciate help get nd think everyone right opinion however many people abuse right p yea iron man thing xd thanks advice everyone thanks think needed humour might show maybe know anything harsh like throw beat although place go really really know judge personality type say mum introverted dad extroverted p ok understand want feel liking men good problem tell parent want tell really know say contempt always suppose spent afternoon buried book world spending morning animal suppose good mix whats hardest thing going face life got clue current perspective telling parent gay seems like huge hurdle suspect seem mi torchwood oh fictional oh well still got book two day ago read thought brilliant true family love never wanted deeply understand contempt keeping deeper self different people see look understand knowing important much know also happy let anything get lately feel better either guess watching comedy central http www youtube com watch v gmxmtwugs amp feature plcp incredible song thanks reply relate part least big deal may made reply pointing well something along line feel although ever entered state mind time need emotion sake sometimes think young time live life find parent never happy effort give anything say used quite lazy lately tried best everything ask without hassle hey spoiler button still pre load image matter best driver currently hold restricted licence drive safely tell parent speed open road one around let someone tell belief wrong think right true people may agree make belief wrong mean midnight blue question many thing feel contrasting may see dark shade blue fact story behind every line magnificent fine ad make website know sometimes need reccomendation though make open new window clicked target top yes want people understand people anyway think matter could understand many people care really fully interested know  s idea letting people life keeping distance personaly people let world let one bothered personally actually sometimes actually think realize obvious others might feel see good someone hang around happens chance notice accident good disappearing want see library walk somewhere remote alone agree although black white person outside anyway website need colour bright black help defiantly night person doubt enjoy late sleeping half day away say lost balance knew exactly feel say similar place right lost thing really keep going balance world spinning look good think top navigation bar news would look better darker colour white seems bright would tenth way actually capt jack going say doctor thought second thing seemed appropriate apart tardis would get car drive stopping enjoy thanks solitude right like constructive criticism something work improve guess upset little feel people criticize work something whenever someone tell something done good enough make feel like good enough maybe yes owner lonely heart http www youtube com watch v elpmmet ce doctor fan say repeated memory wipe silence eventually fry brain eleventh doctor remember people currently reading white wolf son good read quite expected picked finish soon next want read wolf gift tonight sit outside window blackness night staring wilderness call space peace beauty could stay till morning light thousand sun stare upon going close facebook month back well wanting able message family ausse school friend found connected website second mar collection seems fitting mood right seen agree actually think first time watched movie beginning got power kinda thought andrew would never work right ok watched underworld awakening must say really good film compared film last month anyway think good first would never want turn emotion sometimes hide world still need '] (8675, 4)\n"
     ]
    }
   ],
   "source": [
    "print('Num posts and personality: ', list_posts, list_personality.shape)"
   ]
  },
  {
   "cell_type": "code",
   "execution_count": 19,
   "id": "97687ab3",
   "metadata": {
    "scrolled": true
   },
   "outputs": [
    {
     "data": {
      "text/plain": [
       "' http www youtube com watch v qsxhcwe krw http medium tumblr com tumblr lfouy pma qa rooo jpg     moment http www youtube com watch v iz le g xm sportscenter top ten play http www youtube com watch v ucdfze etec prank life changing experience life http www youtube com watch v vxzeywwrdw http www youtube com watch v u ejam dp e repeat today may perc experience immerse last thing   friend posted facebook committing suicide next day rest peace http vimeo com hello   sorry hear distress natural relationship perfection time every moment existence try figure hard time time growth http wallpaperpassion com upload friendship boy girl wallpaper jpg http asset dornob com wp content uploads round home design jpg welcome stuff http playeressence com wp content uploads red red pokemon master jpg game set match prozac wellbrutin least thirty minute moving leg mean moving sitting desk chair weed moderation maybe try edible healthier alternative basically come three item determined type whichever type want would likely use given type cognitive function whatnot left thing moderation sims indeed video game good one note good one somewhat subjective completely promoting death given sim dear   favorite video game growing current favorite video game cool http www youtube com watch v qypqt umzmy appears late sad someone everyone wait thought confidence good thing cherish time solitude b c revel within inner world whereas time workin enjoy time worry people always around yo   lady complimentary personality well hey main social outlet xbox live conversation even verbally fatigue quickly http www youtube com watch v gdhy rdfm really dig part http www youtube com watch v msqxffgh b banned thread requires get high backyard roast eat marshmellows backyard conversing something intellectual followed massage kiss http www youtube com watch v mw eou bmbe http www youtube com watch v v uyorhqok http www youtube com watch v slvmgfqq ti banned many b sentence could think b banned watching movie corner dunce banned health class clearly taught nothing peer pressure banned whole host reason http www youtube com watch v ircrv hgz two baby deer left right munching beetle middle using blood two caveman diary today latest happening designated cave diary wall see pokemon world   society everyone becomes optimist http www youtube com watch v zrceq jfefm http discovermagazine com jul aug thing didnt know desert desert jpg http oyster ignimgs com mediawiki apis ign com pokemon silver version dd ditto gif http www serebii net potw dp scizor jpg artist artist draw idea count forming something like signature welcome robot rank person downed self esteem cuz avid signature artist like proud banned taking room bed ya gotta learn share roach http www youtube com watch v w igimn aq banned much thundering grumbling kind storm yep ahh old high school music heard age http www youtube com watch v dccrupcdb w failed public speaking class year ago sort learned could better position big part failure overloading like person mentality confirmed   way http www youtube com watch v hgkli gec move denver area start new life '"
      ]
     },
     "execution_count": 19,
     "metadata": {},
     "output_type": "execute_result"
    }
   ],
   "source": [
    "list_posts[0]"
   ]
  },
  {
   "cell_type": "code",
   "execution_count": 20,
   "id": "203359a7",
   "metadata": {
    "scrolled": true
   },
   "outputs": [
    {
     "data": {
      "text/plain": [
       "array([0, 0, 1, 0])"
      ]
     },
     "execution_count": 20,
     "metadata": {},
     "output_type": "execute_result"
    }
   ],
   "source": [
    "list_personality[0]"
   ]
  },
  {
   "cell_type": "code",
   "execution_count": 21,
   "id": "b5daead2",
   "metadata": {},
   "outputs": [],
   "source": [
    "from sklearn.feature_extraction.text import TfidfTransformer\n",
    "from sklearn.feature_extraction.text import CountVectorizer\n",
    "from sklearn.manifold import TSNE"
   ]
  },
  {
   "cell_type": "code",
   "execution_count": 22,
   "id": "6bb012ba",
   "metadata": {},
   "outputs": [
    {
     "name": "stdout",
     "output_type": "stream",
     "text": [
      "CountVectorizer...\n",
      "Tf-idf...\n"
     ]
    }
   ],
   "source": [
    "# Posts to a matrix of token counts\n",
    "cntizer = CountVectorizer(analyzer='word',\n",
    "                         max_features=1500,\n",
    "                         tokenizer=None,\n",
    "                         preprocessor=None,\n",
    "                         stop_words=None,\n",
    "                         max_df=0.7,\n",
    "                         min_df=0.1)\n",
    "# Learn the vocabulary dictionary and return term-document matrix\n",
    "print(\"CountVectorizer...\")\n",
    "X_cnt = cntizer.fit_transform(list_posts)\n",
    "# Transform the count matrix to a normalized tf or tf-idf representaion\n",
    "tfizer = TfidfTransformer()\n",
    "\n",
    "print(\"Tf-idf...\")\n",
    "# Learn the idf vector (fit) and transform a count matrix to a tf-idf representation\n",
    "X_tfidf = tfizer.fit_transform(X_cnt).toarray()"
   ]
  },
  {
   "cell_type": "code",
   "execution_count": 23,
   "id": "8968a960",
   "metadata": {
    "scrolled": false
   },
   "outputs": [
    {
     "data": {
      "text/plain": [
       "[(0, 'ability'),\n",
       " (1, 'able'),\n",
       " (2, 'absolutely'),\n",
       " (3, 'accept'),\n",
       " (4, 'accurate'),\n",
       " (5, 'across'),\n",
       " (6, 'act'),\n",
       " (7, 'action'),\n",
       " (8, 'actual'),\n",
       " (9, 'actually'),\n",
       " (10, 'add'),\n",
       " (11, 'admit'),\n",
       " (12, 'advice'),\n",
       " (13, 'afraid'),\n",
       " (14, 'age'),\n",
       " (15, 'ago'),\n",
       " (16, 'agree'),\n",
       " (17, 'ah'),\n",
       " (18, 'almost'),\n",
       " (19, 'alone'),\n",
       " (20, 'along'),\n",
       " (21, 'already'),\n",
       " (22, 'although'),\n",
       " (23, 'amazing'),\n",
       " (24, 'amount'),\n",
       " (25, 'angry'),\n",
       " (26, 'animal'),\n",
       " (27, 'annoying'),\n",
       " (28, 'another'),\n",
       " (29, 'answer'),\n",
       " (30, 'anxiety'),\n",
       " (31, 'anymore'),\n",
       " (32, 'anyone'),\n",
       " (33, 'anything'),\n",
       " (34, 'anyway'),\n",
       " (35, 'apparently'),\n",
       " (36, 'appreciate'),\n",
       " (37, 'approach'),\n",
       " (38, 'area'),\n",
       " (39, 'argument'),\n",
       " (40, 'around'),\n",
       " (41, 'art'),\n",
       " (42, 'article'),\n",
       " (43, 'ask'),\n",
       " (44, 'asked'),\n",
       " (45, 'asking'),\n",
       " (46, 'aspect'),\n",
       " (47, 'assume'),\n",
       " (48, 'attention'),\n",
       " (49, 'attracted'),\n",
       " (50, 'avatar'),\n",
       " (51, 'avoid'),\n",
       " (52, 'aware'),\n",
       " (53, 'away'),\n",
       " (54, 'awesome'),\n",
       " (55, 'awkward'),\n",
       " (56, 'baby'),\n",
       " (57, 'back'),\n",
       " (58, 'bad'),\n",
       " (59, 'based'),\n",
       " (60, 'basically'),\n",
       " (61, 'beautiful'),\n",
       " (62, 'become'),\n",
       " (63, 'bed'),\n",
       " (64, 'behavior'),\n",
       " (65, 'behind'),\n",
       " (66, 'belief'),\n",
       " (67, 'believe'),\n",
       " (68, 'best'),\n",
       " (69, 'better'),\n",
       " (70, 'big'),\n",
       " (71, 'bit'),\n",
       " (72, 'black'),\n",
       " (73, 'blue'),\n",
       " (74, 'body'),\n",
       " (75, 'book'),\n",
       " (76, 'bored'),\n",
       " (77, 'boring'),\n",
       " (78, 'born'),\n",
       " (79, 'bother'),\n",
       " (80, 'boy'),\n",
       " (81, 'boyfriend'),\n",
       " (82, 'brain'),\n",
       " (83, 'break'),\n",
       " (84, 'bring'),\n",
       " (85, 'brother'),\n",
       " (86, 'buy'),\n",
       " (87, 'call'),\n",
       " (88, 'called'),\n",
       " (89, 'came'),\n",
       " (90, 'cannot'),\n",
       " (91, 'car'),\n",
       " (92, 'care'),\n",
       " (93, 'career'),\n",
       " (94, 'case'),\n",
       " (95, 'cat'),\n",
       " (96, 'cause'),\n",
       " (97, 'certain'),\n",
       " (98, 'certainly'),\n",
       " (99, 'chance'),\n",
       " (100, 'change'),\n",
       " (101, 'changed'),\n",
       " (102, 'character'),\n",
       " (103, 'check'),\n",
       " (104, 'child'),\n",
       " (105, 'choice'),\n",
       " (106, 'choose'),\n",
       " (107, 'class'),\n",
       " (108, 'clear'),\n",
       " (109, 'clearly'),\n",
       " (110, 'close'),\n",
       " (111, 'cognitive'),\n",
       " (112, 'cold'),\n",
       " (113, 'college'),\n",
       " (114, 'color'),\n",
       " (115, 'com'),\n",
       " (116, 'come'),\n",
       " (117, 'comfortable'),\n",
       " (118, 'coming'),\n",
       " (119, 'comment'),\n",
       " (120, 'common'),\n",
       " (121, 'company'),\n",
       " (122, 'complete'),\n",
       " (123, 'completely'),\n",
       " (124, 'computer'),\n",
       " (125, 'concept'),\n",
       " (126, 'confused'),\n",
       " (127, 'connection'),\n",
       " (128, 'consider'),\n",
       " (129, 'considered'),\n",
       " (130, 'considering'),\n",
       " (131, 'constantly'),\n",
       " (132, 'contact'),\n",
       " (133, 'content'),\n",
       " (134, 'control'),\n",
       " (135, 'conversation'),\n",
       " (136, 'cool'),\n",
       " (137, 'correct'),\n",
       " (138, 'count'),\n",
       " (139, 'country'),\n",
       " (140, 'couple'),\n",
       " (141, 'course'),\n",
       " (142, 'crazy'),\n",
       " (143, 'create'),\n",
       " (144, 'creative'),\n",
       " (145, 'cry'),\n",
       " (146, 'curious'),\n",
       " (147, 'current'),\n",
       " (148, 'currently'),\n",
       " (149, 'cut'),\n",
       " (150, 'cute'),\n",
       " (151, 'dad'),\n",
       " (152, 'damn'),\n",
       " (153, 'dark'),\n",
       " (154, 'date'),\n",
       " (155, 'dating'),\n",
       " (156, 'day'),\n",
       " (157, 'dead'),\n",
       " (158, 'deal'),\n",
       " (159, 'dear'),\n",
       " (160, 'death'),\n",
       " (161, 'debate'),\n",
       " (162, 'decide'),\n",
       " (163, 'decided'),\n",
       " (164, 'decision'),\n",
       " (165, 'deep'),\n",
       " (166, 'definitely'),\n",
       " (167, 'degree'),\n",
       " (168, 'depends'),\n",
       " (169, 'depressed'),\n",
       " (170, 'depression'),\n",
       " (171, 'describe'),\n",
       " (172, 'description'),\n",
       " (173, 'desire'),\n",
       " (174, 'detail'),\n",
       " (175, 'die'),\n",
       " (176, 'difference'),\n",
       " (177, 'different'),\n",
       " (178, 'difficult'),\n",
       " (179, 'discussion'),\n",
       " (180, 'dislike'),\n",
       " (181, 'dog'),\n",
       " (182, 'dominant'),\n",
       " (183, 'done'),\n",
       " (184, 'dont'),\n",
       " (185, 'doubt'),\n",
       " (186, 'dream'),\n",
       " (187, 'drink'),\n",
       " (188, 'drive'),\n",
       " (189, 'due'),\n",
       " (190, 'early'),\n",
       " (191, 'easier'),\n",
       " (192, 'easily'),\n",
       " (193, 'easy'),\n",
       " (194, 'eat'),\n",
       " (195, 'edit'),\n",
       " (196, 'effect'),\n",
       " (197, 'effort'),\n",
       " (198, 'either'),\n",
       " (199, 'else'),\n",
       " (200, 'emotion'),\n",
       " (201, 'emotional'),\n",
       " (202, 'emotionally'),\n",
       " (203, 'end'),\n",
       " (204, 'ended'),\n",
       " (205, 'energy'),\n",
       " (206, 'english'),\n",
       " (207, 'enjoy'),\n",
       " (208, 'enneagram'),\n",
       " (209, 'enough'),\n",
       " (210, 'entire'),\n",
       " (211, 'environment'),\n",
       " (212, 'especially'),\n",
       " (213, 'etc'),\n",
       " (214, 'ever'),\n",
       " (215, 'every'),\n",
       " (216, 'everyone'),\n",
       " (217, 'everything'),\n",
       " (218, 'evil'),\n",
       " (219, 'ex'),\n",
       " (220, 'exact'),\n",
       " (221, 'exactly'),\n",
       " (222, 'example'),\n",
       " (223, 'except'),\n",
       " (224, 'exist'),\n",
       " (225, 'expect'),\n",
       " (226, 'experience'),\n",
       " (227, 'explain'),\n",
       " (228, 'express'),\n",
       " (229, 'extremely'),\n",
       " (230, 'extrovert'),\n",
       " (231, 'extroverted'),\n",
       " (232, 'eye'),\n",
       " (233, 'face'),\n",
       " (234, 'facebook'),\n",
       " (235, 'fact'),\n",
       " (236, 'fair'),\n",
       " (237, 'fairly'),\n",
       " (238, 'fall'),\n",
       " (239, 'family'),\n",
       " (240, 'fan'),\n",
       " (241, 'far'),\n",
       " (242, 'fast'),\n",
       " (243, 'father'),\n",
       " (244, 'favorite'),\n",
       " (245, 'fe'),\n",
       " (246, 'fear'),\n",
       " (247, 'feature'),\n",
       " (248, 'feeling'),\n",
       " (249, 'fellow'),\n",
       " (250, 'felt'),\n",
       " (251, 'female'),\n",
       " (252, 'fi'),\n",
       " (253, 'fight'),\n",
       " (254, 'figure'),\n",
       " (255, 'finally'),\n",
       " (256, 'finding'),\n",
       " (257, 'fine'),\n",
       " (258, 'fit'),\n",
       " (259, 'focus'),\n",
       " (260, 'follow'),\n",
       " (261, 'food'),\n",
       " (262, 'forget'),\n",
       " (263, 'form'),\n",
       " (264, 'forum'),\n",
       " (265, 'found'),\n",
       " (266, 'four'),\n",
       " (267, 'free'),\n",
       " (268, 'friendship'),\n",
       " (269, 'front'),\n",
       " (270, 'fuck'),\n",
       " (271, 'full'),\n",
       " (272, 'fun'),\n",
       " (273, 'function'),\n",
       " (274, 'funny'),\n",
       " (275, 'future'),\n",
       " (276, 'game'),\n",
       " (277, 'gave'),\n",
       " (278, 'general'),\n",
       " (279, 'generally'),\n",
       " (280, 'getting'),\n",
       " (281, 'gif'),\n",
       " (282, 'girl'),\n",
       " (283, 'give'),\n",
       " (284, 'given'),\n",
       " (285, 'giving'),\n",
       " (286, 'glad'),\n",
       " (287, 'goal'),\n",
       " (288, 'god'),\n",
       " (289, 'gone'),\n",
       " (290, 'gonna'),\n",
       " (291, 'got'),\n",
       " (292, 'gotten'),\n",
       " (293, 'grade'),\n",
       " (294, 'great'),\n",
       " (295, 'group'),\n",
       " (296, 'guess'),\n",
       " (297, 'guy'),\n",
       " (298, 'haha'),\n",
       " (299, 'hair'),\n",
       " (300, 'half'),\n",
       " (301, 'hand'),\n",
       " (302, 'hang'),\n",
       " (303, 'happen'),\n",
       " (304, 'happened'),\n",
       " (305, 'happens'),\n",
       " (306, 'happy'),\n",
       " (307, 'hard'),\n",
       " (308, 'hate'),\n",
       " (309, 'head'),\n",
       " (310, 'healthy'),\n",
       " (311, 'hear'),\n",
       " (312, 'heard'),\n",
       " (313, 'heart'),\n",
       " (314, 'hell'),\n",
       " (315, 'hello'),\n",
       " (316, 'help'),\n",
       " (317, 'helped'),\n",
       " (318, 'helpful'),\n",
       " (319, 'hey'),\n",
       " (320, 'hi'),\n",
       " (321, 'high'),\n",
       " (322, 'highly'),\n",
       " (323, 'history'),\n",
       " (324, 'hit'),\n",
       " (325, 'hmm'),\n",
       " (326, 'hold'),\n",
       " (327, 'home'),\n",
       " (328, 'honest'),\n",
       " (329, 'honestly'),\n",
       " (330, 'hope'),\n",
       " (331, 'hot'),\n",
       " (332, 'hour'),\n",
       " (333, 'house'),\n",
       " (334, 'however'),\n",
       " (335, 'http'),\n",
       " (336, 'hug'),\n",
       " (337, 'huge'),\n",
       " (338, 'human'),\n",
       " (339, 'humor'),\n",
       " (340, 'hurt'),\n",
       " (341, 'idea'),\n",
       " (342, 'ideal'),\n",
       " (343, 'im'),\n",
       " (344, 'image'),\n",
       " (345, 'imagine'),\n",
       " (346, 'important'),\n",
       " (347, 'individual'),\n",
       " (348, 'information'),\n",
       " (349, 'inside'),\n",
       " (350, 'instead'),\n",
       " (351, 'intelligence'),\n",
       " (352, 'intelligent'),\n",
       " (353, 'interaction'),\n",
       " (354, 'interest'),\n",
       " (355, 'interested'),\n",
       " (356, 'interesting'),\n",
       " (357, 'internet'),\n",
       " (358, 'introvert'),\n",
       " (359, 'introverted'),\n",
       " (360, 'intuition'),\n",
       " (361, 'intuitive'),\n",
       " (362, 'involved'),\n",
       " (363, 'issue'),\n",
       " (364, 'istj'),\n",
       " (365, 'job'),\n",
       " (366, 'joke'),\n",
       " (367, 'jpg'),\n",
       " (368, 'keep'),\n",
       " (369, 'kid'),\n",
       " (370, 'kill'),\n",
       " (371, 'kind'),\n",
       " (372, 'kinda'),\n",
       " (373, 'knew'),\n",
       " (374, 'knowing'),\n",
       " (375, 'knowledge'),\n",
       " (376, 'known'),\n",
       " (377, 'lack'),\n",
       " (378, 'language'),\n",
       " (379, 'large'),\n",
       " (380, 'last'),\n",
       " (381, 'late'),\n",
       " (382, 'lately'),\n",
       " (383, 'later'),\n",
       " (384, 'laugh'),\n",
       " (385, 'laughing'),\n",
       " (386, 'lazy'),\n",
       " (387, 'le'),\n",
       " (388, 'lead'),\n",
       " (389, 'learn'),\n",
       " (390, 'learned'),\n",
       " (391, 'learning'),\n",
       " (392, 'least'),\n",
       " (393, 'leave'),\n",
       " (394, 'left'),\n",
       " (395, 'let'),\n",
       " (396, 'level'),\n",
       " (397, 'lie'),\n",
       " (398, 'light'),\n",
       " (399, 'liked'),\n",
       " (400, 'likely'),\n",
       " (401, 'line'),\n",
       " (402, 'link'),\n",
       " (403, 'list'),\n",
       " (404, 'listen'),\n",
       " (405, 'listening'),\n",
       " (406, 'literally'),\n",
       " (407, 'little'),\n",
       " (408, 'live'),\n",
       " (409, 'living'),\n",
       " (410, 'logic'),\n",
       " (411, 'logical'),\n",
       " (412, 'lol'),\n",
       " (413, 'long'),\n",
       " (414, 'longer'),\n",
       " (415, 'look'),\n",
       " (416, 'looked'),\n",
       " (417, 'looking'),\n",
       " (418, 'lose'),\n",
       " (419, 'lost'),\n",
       " (420, 'loud'),\n",
       " (421, 'loved'),\n",
       " (422, 'low'),\n",
       " (423, 'made'),\n",
       " (424, 'main'),\n",
       " (425, 'major'),\n",
       " (426, 'making'),\n",
       " (427, 'male'),\n",
       " (428, 'man'),\n",
       " (429, 'many'),\n",
       " (430, 'math'),\n",
       " (431, 'matter'),\n",
       " (432, 'may'),\n",
       " (433, 'maybe'),\n",
       " (434, 'mbti'),\n",
       " (435, 'mean'),\n",
       " (436, 'meaning'),\n",
       " (437, 'meant'),\n",
       " (438, 'medium'),\n",
       " (439, 'meet'),\n",
       " (440, 'member'),\n",
       " (441, 'memory'),\n",
       " (442, 'men'),\n",
       " (443, 'mental'),\n",
       " (444, 'mention'),\n",
       " (445, 'mentioned'),\n",
       " (446, 'message'),\n",
       " (447, 'met'),\n",
       " (448, 'middle'),\n",
       " (449, 'might'),\n",
       " (450, 'mind'),\n",
       " (451, 'mine'),\n",
       " (452, 'minute'),\n",
       " (453, 'miss'),\n",
       " (454, 'mistake'),\n",
       " (455, 'mom'),\n",
       " (456, 'moment'),\n",
       " (457, 'money'),\n",
       " (458, 'month'),\n",
       " (459, 'mood'),\n",
       " (460, 'morning'),\n",
       " (461, 'mostly'),\n",
       " (462, 'mother'),\n",
       " (463, 'move'),\n",
       " (464, 'movie'),\n",
       " (465, 'music'),\n",
       " (466, 'must'),\n",
       " (467, 'name'),\n",
       " (468, 'natural'),\n",
       " (469, 'naturally'),\n",
       " (470, 'nature'),\n",
       " (471, 'ne'),\n",
       " (472, 'necessarily'),\n",
       " (473, 'needed'),\n",
       " (474, 'negative'),\n",
       " (475, 'new'),\n",
       " (476, 'next'),\n",
       " (477, 'ni'),\n",
       " (478, 'nice'),\n",
       " (479, 'night'),\n",
       " (480, 'non'),\n",
       " (481, 'none'),\n",
       " (482, 'normal'),\n",
       " (483, 'note'),\n",
       " (484, 'nothing'),\n",
       " (485, 'notice'),\n",
       " (486, 'noticed'),\n",
       " (487, 'nt'),\n",
       " (488, 'number'),\n",
       " (489, 'obvious'),\n",
       " (490, 'obviously'),\n",
       " (491, 'often'),\n",
       " (492, 'oh'),\n",
       " (493, 'ok'),\n",
       " (494, 'okay'),\n",
       " (495, 'old'),\n",
       " (496, 'older'),\n",
       " (497, 'online'),\n",
       " (498, 'op'),\n",
       " (499, 'open'),\n",
       " (500, 'opinion'),\n",
       " (501, 'opposite'),\n",
       " (502, 'option'),\n",
       " (503, 'order'),\n",
       " (504, 'original'),\n",
       " (505, 'others'),\n",
       " (506, 'otherwise'),\n",
       " (507, 'outside'),\n",
       " (508, 'page'),\n",
       " (509, 'pain'),\n",
       " (510, 'parent'),\n",
       " (511, 'part'),\n",
       " (512, 'particular'),\n",
       " (513, 'particularly'),\n",
       " (514, 'partner'),\n",
       " (515, 'party'),\n",
       " (516, 'past'),\n",
       " (517, 'pay'),\n",
       " (518, 'perc'),\n",
       " (519, 'perfect'),\n",
       " (520, 'perhaps'),\n",
       " (521, 'personal'),\n",
       " (522, 'personality'),\n",
       " (523, 'personally'),\n",
       " (524, 'perspective'),\n",
       " (525, 'phone'),\n",
       " (526, 'physical'),\n",
       " (527, 'pick'),\n",
       " (528, 'picture'),\n",
       " (529, 'piece'),\n",
       " (530, 'place'),\n",
       " (531, 'plan'),\n",
       " (532, 'play'),\n",
       " (533, 'playing'),\n",
       " (534, 'please'),\n",
       " (535, 'plus'),\n",
       " (536, 'point'),\n",
       " (537, 'positive'),\n",
       " (538, 'possibility'),\n",
       " (539, 'possible'),\n",
       " (540, 'possibly'),\n",
       " (541, 'post'),\n",
       " (542, 'posted'),\n",
       " (543, 'posting'),\n",
       " (544, 'power'),\n",
       " (545, 'prefer'),\n",
       " (546, 'present'),\n",
       " (547, 'pretty'),\n",
       " (548, 'probably'),\n",
       " (549, 'problem'),\n",
       " (550, 'process'),\n",
       " (551, 'project'),\n",
       " (552, 'proud'),\n",
       " (553, 'public'),\n",
       " (554, 'purpose'),\n",
       " (555, 'put'),\n",
       " (556, 'putting'),\n",
       " (557, 'quality'),\n",
       " (558, 'question'),\n",
       " (559, 'quickly'),\n",
       " (560, 'quiet'),\n",
       " (561, 'quite'),\n",
       " (562, 'quote'),\n",
       " (563, 'random'),\n",
       " (564, 'rare'),\n",
       " (565, 'rarely'),\n",
       " (566, 'rather'),\n",
       " (567, 'read'),\n",
       " (568, 'reading'),\n",
       " (569, 'real'),\n",
       " (570, 'reality'),\n",
       " (571, 'realize'),\n",
       " (572, 'realized'),\n",
       " (573, 'reason'),\n",
       " (574, 'recently'),\n",
       " (575, 'red'),\n",
       " (576, 'relate'),\n",
       " (577, 'related'),\n",
       " (578, 'relationship'),\n",
       " (579, 'religion'),\n",
       " (580, 'remember'),\n",
       " (581, 'reply'),\n",
       " (582, 'research'),\n",
       " (583, 'respect'),\n",
       " (584, 'response'),\n",
       " (585, 'rest'),\n",
       " (586, 'result'),\n",
       " (587, 'romantic'),\n",
       " (588, 'room'),\n",
       " (589, 'rule'),\n",
       " (590, 'run'),\n",
       " (591, 'sad'),\n",
       " (592, 'said'),\n",
       " (593, 'saw'),\n",
       " (594, 'saying'),\n",
       " (595, 'school'),\n",
       " (596, 'science'),\n",
       " (597, 'se'),\n",
       " (598, 'second'),\n",
       " (599, 'seeing'),\n",
       " (600, 'seem'),\n",
       " (601, 'seemed'),\n",
       " (602, 'seems'),\n",
       " (603, 'seen'),\n",
       " (604, 'self'),\n",
       " (605, 'sense'),\n",
       " (606, 'sensitive'),\n",
       " (607, 'series'),\n",
       " (608, 'serious'),\n",
       " (609, 'seriously'),\n",
       " (610, 'set'),\n",
       " (611, 'several'),\n",
       " (612, 'sex'),\n",
       " (613, 'share'),\n",
       " (614, 'shit'),\n",
       " (615, 'short'),\n",
       " (616, 'show'),\n",
       " (617, 'shy'),\n",
       " (618, 'si'),\n",
       " (619, 'side'),\n",
       " (620, 'sign'),\n",
       " (621, 'similar'),\n",
       " (622, 'simple'),\n",
       " (623, 'simply'),\n",
       " (624, 'since'),\n",
       " (625, 'single'),\n",
       " (626, 'sister'),\n",
       " (627, 'sit'),\n",
       " (628, 'site'),\n",
       " (629, 'situation'),\n",
       " (630, 'skill'),\n",
       " (631, 'sleep'),\n",
       " (632, 'small'),\n",
       " (633, 'smart'),\n",
       " (634, 'smile'),\n",
       " (635, 'social'),\n",
       " (636, 'society'),\n",
       " (637, 'somehow'),\n",
       " (638, 'sometimes'),\n",
       " (639, 'somewhat'),\n",
       " (640, 'somewhere'),\n",
       " (641, 'song'),\n",
       " (642, 'soon'),\n",
       " (643, 'sorry'),\n",
       " (644, 'sort'),\n",
       " (645, 'soul'),\n",
       " (646, 'sound'),\n",
       " (647, 'space'),\n",
       " (648, 'speak'),\n",
       " (649, 'speaking'),\n",
       " (650, 'special'),\n",
       " (651, 'specific'),\n",
       " (652, 'spend'),\n",
       " (653, 'spent'),\n",
       " (654, 'stand'),\n",
       " (655, 'start'),\n",
       " (656, 'started'),\n",
       " (657, 'starting'),\n",
       " (658, 'state'),\n",
       " (659, 'statement'),\n",
       " (660, 'stay'),\n",
       " (661, 'step'),\n",
       " (662, 'stereotype'),\n",
       " (663, 'stick'),\n",
       " (664, 'still'),\n",
       " (665, 'stop'),\n",
       " (666, 'story'),\n",
       " (667, 'straight'),\n",
       " (668, 'strange'),\n",
       " (669, 'stress'),\n",
       " (670, 'strong'),\n",
       " (671, 'stuck'),\n",
       " (672, 'student'),\n",
       " (673, 'study'),\n",
       " (674, 'stuff'),\n",
       " (675, 'stupid'),\n",
       " (676, 'style'),\n",
       " (677, 'subject'),\n",
       " (678, 'suck'),\n",
       " (679, 'super'),\n",
       " (680, 'support'),\n",
       " (681, 'suppose'),\n",
       " (682, 'supposed'),\n",
       " (683, 'sure'),\n",
       " (684, 'surprised'),\n",
       " (685, 'sweet'),\n",
       " (686, 'system'),\n",
       " (687, 'take'),\n",
       " (688, 'taken'),\n",
       " (689, 'taking'),\n",
       " (690, 'talk'),\n",
       " (691, 'talking'),\n",
       " (692, 'te'),\n",
       " (693, 'teacher'),\n",
       " (694, 'tell'),\n",
       " (695, 'telling'),\n",
       " (696, 'tend'),\n",
       " (697, 'tendency'),\n",
       " (698, 'term'),\n",
       " (699, 'terrible'),\n",
       " (700, 'test'),\n",
       " (701, 'text'),\n",
       " (702, 'th'),\n",
       " (703, 'thank'),\n",
       " (704, 'thanks'),\n",
       " (705, 'theory'),\n",
       " (706, 'thinking'),\n",
       " (707, 'though'),\n",
       " (708, 'thread'),\n",
       " (709, 'three'),\n",
       " (710, 'ti'),\n",
       " (711, 'tired'),\n",
       " (712, 'title'),\n",
       " (713, 'today'),\n",
       " (714, 'together'),\n",
       " (715, 'told'),\n",
       " (716, 'tongue'),\n",
       " (717, 'took'),\n",
       " (718, 'top'),\n",
       " (719, 'topic'),\n",
       " (720, 'totally'),\n",
       " (721, 'touch'),\n",
       " (722, 'towards'),\n",
       " (723, 'trait'),\n",
       " (724, 'tried'),\n",
       " (725, 'trouble'),\n",
       " (726, 'true'),\n",
       " (727, 'truly'),\n",
       " (728, 'trust'),\n",
       " (729, 'truth'),\n",
       " (730, 'try'),\n",
       " (731, 'trying'),\n",
       " (732, 'turn'),\n",
       " (733, 'tv'),\n",
       " (734, 'two'),\n",
       " (735, 'typing'),\n",
       " (736, 'understand'),\n",
       " (737, 'understanding'),\n",
       " (738, 'unfortunately'),\n",
       " (739, 'unhealthy'),\n",
       " (740, 'unless'),\n",
       " (741, 'unsure'),\n",
       " (742, 'upon'),\n",
       " (743, 'use'),\n",
       " (744, 'used'),\n",
       " (745, 'useful'),\n",
       " (746, 'user'),\n",
       " (747, 'using'),\n",
       " (748, 'usually'),\n",
       " (749, 'value'),\n",
       " (750, 'video'),\n",
       " (751, 'view'),\n",
       " (752, 'voice'),\n",
       " (753, 'wait'),\n",
       " (754, 'walk'),\n",
       " (755, 'wanted'),\n",
       " (756, 'wanting'),\n",
       " (757, 'watch'),\n",
       " (758, 'watched'),\n",
       " (759, 'watching'),\n",
       " (760, 'water'),\n",
       " (761, 'wear'),\n",
       " (762, 'week'),\n",
       " (763, 'weird'),\n",
       " (764, 'welcome'),\n",
       " (765, 'went'),\n",
       " (766, 'whatever'),\n",
       " (767, 'whenever'),\n",
       " (768, 'whether'),\n",
       " (769, 'white'),\n",
       " (770, 'whole'),\n",
       " (771, 'wink'),\n",
       " (772, 'wish'),\n",
       " (773, 'within'),\n",
       " (774, 'without'),\n",
       " (775, 'woman'),\n",
       " (776, 'wonder'),\n",
       " (777, 'wondering'),\n",
       " (778, 'word'),\n",
       " (779, 'work'),\n",
       " (780, 'worked'),\n",
       " (781, 'working'),\n",
       " (782, 'world'),\n",
       " (783, 'worry'),\n",
       " (784, 'worse'),\n",
       " (785, 'worst'),\n",
       " (786, 'worth'),\n",
       " (787, 'wow'),\n",
       " (788, 'write'),\n",
       " (789, 'writing'),\n",
       " (790, 'written'),\n",
       " (791, 'wrong'),\n",
       " (792, 'wrote'),\n",
       " (793, 'www'),\n",
       " (794, 'xd'),\n",
       " (795, 'yeah'),\n",
       " (796, 'year'),\n",
       " (797, 'yes'),\n",
       " (798, 'yesterday'),\n",
       " (799, 'yet'),\n",
       " (800, 'young'),\n",
       " (801, 'younger'),\n",
       " (802, 'youtube')]"
      ]
     },
     "execution_count": 23,
     "metadata": {},
     "output_type": "execute_result"
    }
   ],
   "source": [
    "feature_names = list(enumerate(cntizer.get_feature_names_out()))\n",
    "feature_names"
   ]
  },
  {
   "cell_type": "code",
   "execution_count": 24,
   "id": "5f1d3ddc",
   "metadata": {
    "scrolled": true
   },
   "outputs": [
    {
     "data": {
      "text/plain": [
       "(8675, 803)"
      ]
     },
     "execution_count": 24,
     "metadata": {},
     "output_type": "execute_result"
    }
   ],
   "source": [
    "X_tfidf.shape"
   ]
  },
  {
   "cell_type": "code",
   "execution_count": 25,
   "id": "d7e2c768",
   "metadata": {},
   "outputs": [
    {
     "name": "stdout",
     "output_type": "stream",
     "text": [
      "X: Posts in tf-idf representation \n",
      "* 1st row:\n",
      "[0.         0.         0.         0.         0.         0.\n",
      " 0.         0.         0.         0.         0.         0.\n",
      " 0.         0.         0.03140143 0.0266715  0.         0.\n",
      " 0.         0.         0.         0.         0.         0.\n",
      " 0.         0.         0.         0.         0.         0.\n",
      " 0.         0.         0.         0.         0.         0.\n",
      " 0.         0.         0.04032446 0.         0.01942369 0.\n",
      " 0.         0.         0.         0.         0.         0.\n",
      " 0.         0.         0.         0.         0.         0.\n",
      " 0.         0.         0.04273993 0.         0.         0.\n",
      " 0.03374687 0.         0.         0.04086203 0.         0.\n",
      " 0.         0.         0.         0.02026293 0.02659883 0.\n",
      " 0.         0.         0.         0.         0.         0.\n",
      " 0.         0.         0.04062175 0.         0.         0.\n",
      " 0.         0.         0.         0.         0.         0.\n",
      " 0.         0.         0.         0.         0.         0.\n",
      " 0.         0.         0.         0.         0.         0.\n",
      " 0.         0.         0.         0.         0.         0.06398889\n",
      " 0.         0.04174661 0.         0.03846734 0.         0.\n",
      " 0.         0.46282761 0.01799285 0.         0.         0.\n",
      " 0.         0.         0.         0.02807809 0.         0.\n",
      " 0.         0.         0.         0.         0.         0.\n",
      " 0.         0.0807225  0.         0.02843644 0.02892163 0.\n",
      " 0.04126385 0.         0.         0.         0.         0.\n",
      " 0.         0.         0.         0.0411851  0.         0.\n",
      " 0.         0.         0.         0.         0.         0.\n",
      " 0.01866774 0.         0.         0.03877895 0.03682384 0.\n",
      " 0.         0.         0.         0.         0.         0.\n",
      " 0.         0.         0.         0.         0.         0.\n",
      " 0.         0.         0.         0.         0.         0.\n",
      " 0.         0.         0.         0.         0.         0.\n",
      " 0.         0.         0.         0.         0.         0.\n",
      " 0.         0.         0.03719398 0.         0.         0.\n",
      " 0.         0.         0.         0.         0.         0.\n",
      " 0.         0.         0.         0.02684411 0.         0.\n",
      " 0.         0.         0.         0.         0.         0.02179549\n",
      " 0.04339138 0.         0.         0.         0.         0.\n",
      " 0.         0.         0.         0.         0.04691168 0.\n",
      " 0.         0.         0.         0.         0.         0.\n",
      " 0.04278424 0.         0.         0.         0.         0.\n",
      " 0.         0.         0.         0.         0.0612237  0.\n",
      " 0.         0.         0.         0.         0.         0.\n",
      " 0.         0.         0.03244762 0.         0.         0.\n",
      " 0.         0.         0.         0.         0.         0.\n",
      " 0.         0.         0.         0.         0.03868144 0.\n",
      " 0.         0.         0.         0.02728594 0.         0.\n",
      " 0.1129467  0.         0.         0.         0.         0.04259329\n",
      " 0.02539452 0.         0.07132201 0.         0.         0.\n",
      " 0.         0.         0.         0.         0.         0.\n",
      " 0.         0.         0.         0.         0.         0.\n",
      " 0.         0.         0.         0.         0.         0.\n",
      " 0.         0.02138367 0.         0.         0.         0.03038745\n",
      " 0.03225523 0.         0.         0.03552481 0.         0.\n",
      " 0.         0.0309529  0.         0.05052613 0.         0.\n",
      " 0.         0.         0.         0.03049054 0.         0.\n",
      " 0.         0.         0.         0.         0.         0.45335305\n",
      " 0.         0.         0.         0.         0.         0.02083858\n",
      " 0.         0.         0.         0.         0.         0.\n",
      " 0.         0.         0.         0.         0.         0.\n",
      " 0.         0.         0.         0.         0.         0.\n",
      " 0.         0.         0.         0.         0.         0.\n",
      " 0.         0.18325435 0.         0.         0.         0.02057034\n",
      " 0.         0.         0.         0.         0.         0.\n",
      " 0.         0.         0.02276797 0.03668424 0.         0.\n",
      " 0.         0.         0.         0.02678344 0.         0.03065836\n",
      " 0.03650954 0.         0.0238985  0.         0.06597328 0.\n",
      " 0.         0.         0.         0.         0.03121165 0.\n",
      " 0.         0.         0.         0.         0.         0.\n",
      " 0.02595837 0.         0.         0.         0.         0.\n",
      " 0.         0.         0.         0.         0.         0.\n",
      " 0.         0.         0.         0.         0.03845673 0.\n",
      " 0.         0.         0.         0.01927963 0.         0.\n",
      " 0.02244805 0.01993705 0.         0.01817894 0.         0.\n",
      " 0.03759481 0.         0.         0.         0.         0.\n",
      " 0.         0.         0.         0.         0.03841436 0.\n",
      " 0.         0.         0.0366935  0.         0.         0.\n",
      " 0.05841    0.         0.         0.         0.         0.\n",
      " 0.         0.03409871 0.02936748 0.02723212 0.         0.\n",
      " 0.0389101  0.         0.         0.         0.         0.\n",
      " 0.         0.02190795 0.03116312 0.         0.         0.\n",
      " 0.         0.         0.         0.03776469 0.024108   0.\n",
      " 0.         0.         0.         0.         0.         0.\n",
      " 0.         0.         0.         0.02620003 0.         0.\n",
      " 0.         0.         0.         0.         0.         0.\n",
      " 0.         0.         0.         0.         0.         0.\n",
      " 0.         0.04470472 0.         0.         0.         0.\n",
      " 0.         0.         0.04097741 0.         0.         0.\n",
      " 0.02297602 0.         0.         0.         0.         0.\n",
      " 0.         0.         0.         0.         0.02821252 0.\n",
      " 0.         0.         0.         0.         0.         0.\n",
      " 0.         0.         0.03479223 0.         0.         0.\n",
      " 0.         0.         0.         0.         0.         0.\n",
      " 0.03812161 0.04108084 0.         0.         0.         0.\n",
      " 0.         0.04173295 0.         0.         0.         0.\n",
      " 0.         0.         0.         0.         0.         0.\n",
      " 0.         0.         0.         0.02219645 0.         0.0847528\n",
      " 0.         0.         0.0220514  0.         0.         0.\n",
      " 0.         0.         0.         0.03773455 0.         0.\n",
      " 0.03451507 0.         0.         0.03244762 0.         0.\n",
      " 0.         0.02375383 0.         0.         0.         0.\n",
      " 0.         0.         0.         0.         0.02503428 0.\n",
      " 0.         0.         0.         0.         0.03592901 0.\n",
      " 0.         0.03196865 0.         0.         0.         0.\n",
      " 0.         0.         0.         0.         0.         0.\n",
      " 0.         0.         0.         0.         0.         0.\n",
      " 0.         0.         0.         0.         0.         0.02661162\n",
      " 0.03811127 0.         0.         0.0397144  0.         0.\n",
      " 0.         0.0251558  0.02860445 0.         0.         0.\n",
      " 0.         0.03855256 0.         0.         0.         0.\n",
      " 0.         0.02415737 0.         0.         0.         0.\n",
      " 0.         0.         0.         0.         0.         0.\n",
      " 0.         0.         0.         0.         0.         0.\n",
      " 0.         0.         0.02569326 0.         0.         0.\n",
      " 0.         0.         0.         0.         0.         0.\n",
      " 0.         0.         0.         0.         0.         0.03083428\n",
      " 0.         0.         0.         0.         0.         0.\n",
      " 0.         0.         0.         0.         0.         0.\n",
      " 0.         0.         0.         0.         0.         0.\n",
      " 0.01987589 0.03427442 0.03385068 0.         0.         0.05827493\n",
      " 0.         0.         0.         0.         0.03641852 0.\n",
      " 0.         0.         0.         0.         0.         0.\n",
      " 0.         0.         0.         0.         0.03841879 0.\n",
      " 0.         0.         0.04118363 0.         0.         0.\n",
      " 0.         0.         0.         0.         0.         0.02251328\n",
      " 0.         0.         0.         0.03237431 0.         0.\n",
      " 0.0906692  0.         0.         0.03501829 0.         0.\n",
      " 0.         0.32245427 0.         0.03352716 0.         0.\n",
      " 0.         0.         0.06259403 0.         0.         0.\n",
      " 0.         0.         0.02733547 0.         0.         0.03951724\n",
      " 0.         0.         0.         0.         0.         0.\n",
      " 0.         0.         0.04223611 0.03638229 0.         0.\n",
      " 0.         0.         0.         0.         0.         0.\n",
      " 0.         0.37390524 0.         0.         0.01787679 0.\n",
      " 0.         0.         0.         0.         0.35426986]\n"
     ]
    }
   ],
   "source": [
    "print(\"X: Posts in tf-idf representation \\n* 1st row:\\n%s\" % X_tfidf[0])"
   ]
  },
  {
   "cell_type": "code",
   "execution_count": 26,
   "id": "ca5dd07f",
   "metadata": {
    "scrolled": true
   },
   "outputs": [
    {
     "name": "stdout",
     "output_type": "stream",
     "text": [
      "IE: Introversion (I) / Extroversion (E)\n",
      "NS: Intution (N) - Sensing (S)\n",
      "FT: Feeling (F) - Thinking (T)\n",
      "JP: Judging (J) - Perceiving (P)\n"
     ]
    }
   ],
   "source": [
    "type_indicators= ['IE: Introversion (I) / Extroversion (E)', 'NS: Intution (N) - Sensing (S)','FT: Feeling (F) - Thinking (T)','JP: Judging (J) - Perceiving (P)']\n",
    "for l in range(len(type_indicators)):\n",
    "    print(type_indicators[l])"
   ]
  },
  {
   "cell_type": "code",
   "execution_count": 27,
   "id": "b4b12057",
   "metadata": {},
   "outputs": [
    {
     "name": "stdout",
     "output_type": "stream",
     "text": [
      "Y: Binarized MBTI 1st row: [0 0 1 0]\n"
     ]
    }
   ],
   "source": [
    "# print(\"MBTI 1st row: %s\" % translate_back(list_personality[0,:]))\n",
    "print(\"Y: Binarized MBTI 1st row: %s\" % list_personality[0,:])"
   ]
  },
  {
   "cell_type": "markdown",
   "id": "107861da",
   "metadata": {},
   "source": [
    "# First XGBoost Model for MBTI dataset"
   ]
  },
  {
   "cell_type": "code",
   "execution_count": 28,
   "id": "f8495b47",
   "metadata": {},
   "outputs": [
    {
     "name": "stdout",
     "output_type": "stream",
     "text": [
      "Requirement already satisfied: xgboost in c:\\users\\haida\\anaconda3\\lib\\site-packages (2.0.0)\n",
      "Requirement already satisfied: numpy in c:\\users\\haida\\anaconda3\\lib\\site-packages (from xgboost) (1.24.3)\n",
      "Requirement already satisfied: scipy in c:\\users\\haida\\anaconda3\\lib\\site-packages (from xgboost) (1.10.1)\n"
     ]
    }
   ],
   "source": [
    "!pip install xgboost"
   ]
  },
  {
   "cell_type": "code",
   "execution_count": 29,
   "id": "ec73ac6c",
   "metadata": {},
   "outputs": [
    {
     "name": "stdout",
     "output_type": "stream",
     "text": [
      "IE: Introversion (I) / Extroversion (E)...\n",
      "* IE: Introversion (I) / Extroversion (E) Accuracy: 77.12%\n",
      "NS: Intution (N) - Sensing (S)...\n",
      "* NS: Intution (N) - Sensing (S) Accuracy: 85.78%\n",
      "FT: Feeling (F) - Thinking (T)...\n",
      "* FT: Feeling (F) - Thinking (T) Accuracy: 72.20%\n",
      "JP: Judging (J) - Perceiving (P)...\n",
      "* JP: Judging (J) - Perceiving (P) Accuracy: 63.22%\n"
     ]
    }
   ],
   "source": [
    "from numpy import loadtxt\n",
    "from xgboost import XGBClassifier\n",
    "from sklearn.model_selection import train_test_split\n",
    "from sklearn.metrics import accuracy_score\n",
    "\n",
    "#  posts in tf-idf representation\n",
    "X = X_tfidf\n",
    "# Let's train type indicator individually\n",
    "for l in range(len(type_indicators)):\n",
    "    print(\"%s...\" % (type_indicators[l]))\n",
    "    \n",
    "#     Lets train type indicator individually\n",
    "    Y = list_personality[:,l]\n",
    "#     split data into train test sets\n",
    "    seed = 7\n",
    "    test_size = 0.33\n",
    "    X_train, X_test, y_train, y_test = train_test_split(X,Y,test_size=test_size, random_state=seed)\n",
    "#     fit model on training data\n",
    "    model = XGBClassifier()\n",
    "    model.fit(X_train,y_train)\n",
    "    \n",
    "#     make prediction for test data\n",
    "    y_pred = model.predict(X_test)\n",
    "    predictions = [round(value) for value in y_pred]\n",
    "#     evaluate predictions\n",
    "    accuracy = accuracy_score(y_test, predictions)\n",
    "    print(\"* %s Accuracy: %.2f%%\" % (type_indicators[l],accuracy * 100.0))"
   ]
  },
  {
   "cell_type": "code",
   "execution_count": 30,
   "id": "057a8761",
   "metadata": {
    "scrolled": false
   },
   "outputs": [
    {
     "name": "stdout",
     "output_type": "stream",
     "text": [
      "IE: Introversion (I) / Extroversion (E)... \n"
     ]
    },
    {
     "name": "stderr",
     "output_type": "stream",
     "text": [
      "C:\\Users\\haida\\anaconda3\\Lib\\site-packages\\xgboost\\sklearn.py:885: UserWarning: `eval_metric` in `fit` method is deprecated for better compatibility with scikit-learn, use `eval_metric` in constructor or`set_params` instead.\n",
      "  warnings.warn(\n",
      "C:\\Users\\haida\\anaconda3\\Lib\\site-packages\\xgboost\\sklearn.py:885: UserWarning: `early_stopping_rounds` in `fit` method is deprecated for better compatibility with scikit-learn, use `early_stopping_rounds` in constructor or`set_params` instead.\n",
      "  warnings.warn(\n"
     ]
    },
    {
     "name": "stdout",
     "output_type": "stream",
     "text": [
      "[0]\tvalidation_0-logloss:0.52375\n",
      "[1]\tvalidation_0-logloss:0.51922\n",
      "[2]\tvalidation_0-logloss:0.51755\n",
      "[3]\tvalidation_0-logloss:0.51604\n",
      "[4]\tvalidation_0-logloss:0.51181\n",
      "[5]\tvalidation_0-logloss:0.51274\n",
      "[6]\tvalidation_0-logloss:0.50977\n",
      "[7]\tvalidation_0-logloss:0.51200\n",
      "[8]\tvalidation_0-logloss:0.50992\n",
      "[9]\tvalidation_0-logloss:0.50864\n",
      "[10]\tvalidation_0-logloss:0.50911\n",
      "[11]\tvalidation_0-logloss:0.50980\n",
      "[12]\tvalidation_0-logloss:0.51090\n",
      "[13]\tvalidation_0-logloss:0.51195\n",
      "[14]\tvalidation_0-logloss:0.51455\n",
      "[15]\tvalidation_0-logloss:0.51558\n",
      "[16]\tvalidation_0-logloss:0.51692\n",
      "[17]\tvalidation_0-logloss:0.51845\n",
      "[18]\tvalidation_0-logloss:0.52062\n",
      "[19]\tvalidation_0-logloss:0.52031\n",
      "* IE: Introversion (I) / Extroversion (E) Accuracy: 77.37%\n",
      "NS: Intution (N) - Sensing (S)... \n"
     ]
    },
    {
     "name": "stderr",
     "output_type": "stream",
     "text": [
      "C:\\Users\\haida\\anaconda3\\Lib\\site-packages\\xgboost\\sklearn.py:885: UserWarning: `eval_metric` in `fit` method is deprecated for better compatibility with scikit-learn, use `eval_metric` in constructor or`set_params` instead.\n",
      "  warnings.warn(\n",
      "C:\\Users\\haida\\anaconda3\\Lib\\site-packages\\xgboost\\sklearn.py:885: UserWarning: `early_stopping_rounds` in `fit` method is deprecated for better compatibility with scikit-learn, use `early_stopping_rounds` in constructor or`set_params` instead.\n",
      "  warnings.warn(\n"
     ]
    },
    {
     "name": "stdout",
     "output_type": "stream",
     "text": [
      "[0]\tvalidation_0-logloss:0.40310\n",
      "[1]\tvalidation_0-logloss:0.39940\n",
      "[2]\tvalidation_0-logloss:0.39613\n",
      "[3]\tvalidation_0-logloss:0.39323\n",
      "[4]\tvalidation_0-logloss:0.39219\n",
      "[5]\tvalidation_0-logloss:0.39338\n",
      "[6]\tvalidation_0-logloss:0.39315\n",
      "[7]\tvalidation_0-logloss:0.39413\n",
      "[8]\tvalidation_0-logloss:0.39174\n",
      "[9]\tvalidation_0-logloss:0.39424\n",
      "[10]\tvalidation_0-logloss:0.39503\n",
      "[11]\tvalidation_0-logloss:0.39684\n",
      "[12]\tvalidation_0-logloss:0.39567\n",
      "[13]\tvalidation_0-logloss:0.39494\n",
      "[14]\tvalidation_0-logloss:0.39517\n",
      "[15]\tvalidation_0-logloss:0.39416\n",
      "[16]\tvalidation_0-logloss:0.39349\n",
      "[17]\tvalidation_0-logloss:0.39371\n",
      "[18]\tvalidation_0-logloss:0.39331\n",
      "* NS: Intution (N) - Sensing (S) Accuracy: 85.78%\n",
      "FT: Feeling (F) - Thinking (T)... \n"
     ]
    },
    {
     "name": "stderr",
     "output_type": "stream",
     "text": [
      "C:\\Users\\haida\\anaconda3\\Lib\\site-packages\\xgboost\\sklearn.py:885: UserWarning: `eval_metric` in `fit` method is deprecated for better compatibility with scikit-learn, use `eval_metric` in constructor or`set_params` instead.\n",
      "  warnings.warn(\n",
      "C:\\Users\\haida\\anaconda3\\Lib\\site-packages\\xgboost\\sklearn.py:885: UserWarning: `early_stopping_rounds` in `fit` method is deprecated for better compatibility with scikit-learn, use `early_stopping_rounds` in constructor or`set_params` instead.\n",
      "  warnings.warn(\n"
     ]
    },
    {
     "name": "stdout",
     "output_type": "stream",
     "text": [
      "[0]\tvalidation_0-logloss:0.67004\n",
      "[1]\tvalidation_0-logloss:0.65474\n",
      "[2]\tvalidation_0-logloss:0.64370\n",
      "[3]\tvalidation_0-logloss:0.63675\n",
      "[4]\tvalidation_0-logloss:0.62762\n",
      "[5]\tvalidation_0-logloss:0.61909\n",
      "[6]\tvalidation_0-logloss:0.61222\n",
      "[7]\tvalidation_0-logloss:0.60541\n",
      "[8]\tvalidation_0-logloss:0.60041\n",
      "[9]\tvalidation_0-logloss:0.59621\n",
      "[10]\tvalidation_0-logloss:0.59335\n",
      "[11]\tvalidation_0-logloss:0.58782\n",
      "[12]\tvalidation_0-logloss:0.58663\n",
      "[13]\tvalidation_0-logloss:0.58507\n",
      "[14]\tvalidation_0-logloss:0.58594\n",
      "[15]\tvalidation_0-logloss:0.58446\n",
      "[16]\tvalidation_0-logloss:0.58263\n",
      "[17]\tvalidation_0-logloss:0.58251\n",
      "[18]\tvalidation_0-logloss:0.58126\n",
      "[19]\tvalidation_0-logloss:0.58011\n",
      "[20]\tvalidation_0-logloss:0.57969\n",
      "[21]\tvalidation_0-logloss:0.57937\n",
      "[22]\tvalidation_0-logloss:0.57951\n",
      "[23]\tvalidation_0-logloss:0.57996\n",
      "[24]\tvalidation_0-logloss:0.57932\n",
      "[25]\tvalidation_0-logloss:0.57799\n",
      "[26]\tvalidation_0-logloss:0.57835\n",
      "[27]\tvalidation_0-logloss:0.57855\n",
      "[28]\tvalidation_0-logloss:0.57774\n",
      "[29]\tvalidation_0-logloss:0.57719\n",
      "[30]\tvalidation_0-logloss:0.57749\n",
      "[31]\tvalidation_0-logloss:0.57892\n",
      "[32]\tvalidation_0-logloss:0.57869\n",
      "[33]\tvalidation_0-logloss:0.57776\n",
      "[34]\tvalidation_0-logloss:0.57859\n",
      "[35]\tvalidation_0-logloss:0.57793\n",
      "[36]\tvalidation_0-logloss:0.58066\n",
      "[37]\tvalidation_0-logloss:0.57999\n",
      "[38]\tvalidation_0-logloss:0.58037\n",
      "[39]\tvalidation_0-logloss:0.57999\n",
      "* FT: Feeling (F) - Thinking (T) Accuracy: 70.94%\n",
      "JP: Judging (J) - Perceiving (P)... \n"
     ]
    },
    {
     "name": "stderr",
     "output_type": "stream",
     "text": [
      "C:\\Users\\haida\\anaconda3\\Lib\\site-packages\\xgboost\\sklearn.py:885: UserWarning: `eval_metric` in `fit` method is deprecated for better compatibility with scikit-learn, use `eval_metric` in constructor or`set_params` instead.\n",
      "  warnings.warn(\n",
      "C:\\Users\\haida\\anaconda3\\Lib\\site-packages\\xgboost\\sklearn.py:885: UserWarning: `early_stopping_rounds` in `fit` method is deprecated for better compatibility with scikit-learn, use `early_stopping_rounds` in constructor or`set_params` instead.\n",
      "  warnings.warn(\n"
     ]
    },
    {
     "name": "stdout",
     "output_type": "stream",
     "text": [
      "[0]\tvalidation_0-logloss:0.65862\n",
      "[1]\tvalidation_0-logloss:0.64990\n",
      "[2]\tvalidation_0-logloss:0.64840\n",
      "[3]\tvalidation_0-logloss:0.64567\n",
      "[4]\tvalidation_0-logloss:0.64380\n",
      "[5]\tvalidation_0-logloss:0.64293\n",
      "[6]\tvalidation_0-logloss:0.64126\n",
      "[7]\tvalidation_0-logloss:0.64248\n",
      "[8]\tvalidation_0-logloss:0.64057\n",
      "[9]\tvalidation_0-logloss:0.64244\n",
      "[10]\tvalidation_0-logloss:0.64117\n",
      "[11]\tvalidation_0-logloss:0.64079\n",
      "[12]\tvalidation_0-logloss:0.64192\n",
      "[13]\tvalidation_0-logloss:0.64161\n",
      "[14]\tvalidation_0-logloss:0.64136\n",
      "[15]\tvalidation_0-logloss:0.64209\n",
      "[16]\tvalidation_0-logloss:0.64295\n",
      "[17]\tvalidation_0-logloss:0.64512\n",
      "[18]\tvalidation_0-logloss:0.64729\n",
      "* JP: Judging (J) - Perceiving (P) Accuracy: 62.84%\n"
     ]
    }
   ],
   "source": [
    "# Lets train type indicator individually\n",
    "for l in range(len(type_indicators)):\n",
    "    print(\"%s... \" % (type_indicators[l]))\n",
    "    \n",
    "    Y = list_personality[:,l]\n",
    "#     split data into train and test sets\n",
    "    seed = 7\n",
    "    test_size = 0.33\n",
    "    X_train, X_test, y_train, y_test = train_test_split(X,Y,test_size=test_size,random_state=seed)\n",
    "#     fit model on training data\n",
    "    model = XGBClassifier()\n",
    "    eval_set = [(X_test,y_test)]\n",
    "    model.fit(X_train, y_train, early_stopping_rounds=10, eval_metric=\"logloss\", eval_set=eval_set,verbose=True)\n",
    "#     model predictions for test data\n",
    "    y_pred = model.predict(X_test)\n",
    "    predictions = [round(value) for value in y_pred]\n",
    "#     evaluate predictions\n",
    "    accuracy = accuracy_score(y_test, predictions)\n",
    "    print(\"* %s Accuracy: %.2f%%\" % (type_indicators[l],accuracy*100.0))"
   ]
  },
  {
   "cell_type": "markdown",
   "id": "f5638a20",
   "metadata": {},
   "source": [
    "# Show feature importance plot and list for the first indicator"
   ]
  },
  {
   "cell_type": "code",
   "execution_count": 31,
   "id": "f6e6fec2",
   "metadata": {
    "scrolled": true
   },
   "outputs": [
    {
     "data": {
      "image/png": "[encoded data removed]",
      "text/plain": [
       "<Figure size 1500x2000 with 1 Axes>"
      ]
     },
     "metadata": {},
     "output_type": "display_data"
    }
   ],
   "source": [
    "from xgboost import plot_importance\n",
    "\n",
    "# only the 1st indicator\n",
    "y=list_personality[:,0]\n",
    "# fit model on training data\n",
    "model = XGBClassifier()\n",
    "model.fit(X,y)\n",
    "# plot feature importance\n",
    "ax = plot_importance(model,max_num_features=25)\n",
    "fig = ax.figure\n",
    "fig.set_size_inches(15,20)\n",
    "plt.show()"
   ]
  },
  {
   "cell_type": "code",
   "execution_count": 32,
   "id": "67ffa47c",
   "metadata": {
    "scrolled": true
   },
   "outputs": [
    {
     "name": "stdout",
     "output_type": "stream",
     "text": [
      "471\t0.005435\tne\n",
      "323\t0.004839\thistory\n",
      "702\t0.004571\tth\n",
      "653\t0.004262\tspent\n",
      "191\t0.004246\teasier\n",
      "661\t0.004121\tstep\n",
      "297\t0.004028\tguy\n",
      "758\t0.003981\twatched\n",
      "405\t0.003871\tlistening\n",
      "129\t0.003859\tconsidered\n",
      "396\t0.003687\tlevel\n",
      "187\t0.003663\tdrink\n",
      "789\t0.003495\twriting\n",
      "679\t0.003482\tsuper\n",
      "340\t0.003428\thurt\n",
      "556\t0.003418\tputting\n",
      "771\t0.003324\twink\n",
      "590\t0.003216\trun\n",
      "188\t0.003211\tdrive\n",
      "622\t0.003207\tsimple\n",
      "560\t0.003196\tquiet\n",
      "49\t0.003167\tattracted\n",
      "487\t0.003163\tnt\n",
      "270\t0.003160\tfuck\n",
      "137\t0.003158\tcorrect\n"
     ]
    }
   ],
   "source": [
    "features = sorted(list(enumerate(model.feature_importances_)), key=lambda x:x[1], reverse=True)\n",
    "for f in features[0:25]:\n",
    "    print(\"%d\\t%f\\t%s\" % (f[0],f[1],cntizer.get_feature_names_out()[f[0]]))\n",
    "#     save xgb_params for late discussion\n",
    "    default_get_xgb_params = model.get_xgb_params()"
   ]
  },
  {
   "cell_type": "code",
   "execution_count": 33,
   "id": "f82068bb",
   "metadata": {
    "scrolled": true
   },
   "outputs": [
    {
     "name": "stdout",
     "output_type": "stream",
     "text": [
      "{'objective': 'binary:logistic', 'base_score': None, 'booster': None, 'colsample_bylevel': None, 'colsample_bynode': None, 'colsample_bytree': None, 'device': None, 'eval_metric': None, 'gamma': None, 'grow_policy': None, 'interaction_constraints': None, 'learning_rate': None, 'max_bin': None, 'max_cat_threshold': None, 'max_cat_to_onehot': None, 'max_delta_step': None, 'max_depth': None, 'max_leaves': None, 'min_child_weight': None, 'monotone_constraints': None, 'multi_strategy': None, 'n_jobs': None, 'num_parallel_tree': None, 'random_state': None, 'reg_alpha': None, 'reg_lambda': None, 'sampling_method': None, 'scale_pos_weight': None, 'subsample': None, 'tree_method': None, 'validate_parameters': None, 'verbosity': None}\n"
     ]
    }
   ],
   "source": [
    "# save xgb_params for later discussion\n",
    "default_get_xgb_params = model.get_xgb_params()\n",
    "print(default_get_xgb_params)"
   ]
  },
  {
   "cell_type": "code",
   "execution_count": 34,
   "id": "1f011dce",
   "metadata": {},
   "outputs": [],
   "source": [
    "def plot_confusion_matrix(\n",
    "        cm,\n",
    "        classes,\n",
    "        normalize=False,\n",
    "        title=\"Confusion Matrix\",\n",
    "        cmap=plt.cm.Blues):\n",
    "    plt.inshow(cm, interplotation='nearest',cmap=cmap)\n",
    "    plt.title(title)\n",
    "    plt.colorbar()\n",
    "    tick_makrs = np.arange(len(classes))\n",
    "    plt.xticks(tick_marks, classes, rotation=45)\n",
    "    plt.yticks(tick_marks, classes)\n",
    "    \n",
    "    \n",
    "    if normalize:\n",
    "        cm = cm.astype('float')/cm.sum(axis=1)[:, np.newaxis]\n",
    "        print('Normalized confusion matrix')\n",
    "    else:\n",
    "        print('Confusion matrix, without normalization')\n",
    "    \n",
    "    print(cm)\n",
    "    \n",
    "    thresh = cm.max() / 2\n",
    "    for i,j in itertools.product(range(cm.shape[0]),range(cm.shape[1])):\n",
    "        plt.text(j,i,cm[i,j],\n",
    "                horizontalalignment = 'center',\n",
    "                color = 'white' if cm[i,j]>thresh else 'black')\n",
    "        \n",
    "    plt.tight_layout()\n",
    "    plt.ylabel(\"True label\")\n",
    "    plt.xlabel('predicted label')\n",
    "    plt.show()"
   ]
  },
  {
   "cell_type": "code",
   "execution_count": 35,
   "id": "237dfff8",
   "metadata": {},
   "outputs": [
    {
     "name": "stdout",
     "output_type": "stream",
     "text": [
      "IE: Introversion (I) / Extroversion (E)...\n",
      "* IE: Introversion (I) / Extroversion (E) Accuracy: 78.41%\n",
      "NS: Intution (N) - Sensing (S)...\n",
      "* NS: Intution (N) - Sensing (S) Accuracy: 86.13%\n",
      "FT: Feeling (F) - Thinking (T)...\n",
      "* FT: Feeling (F) - Thinking (T) Accuracy: 73.77%\n",
      "JP: Judging (J) - Perceiving (P)...\n",
      "* JP: Judging (J) - Perceiving (P) Accuracy: 65.87%\n"
     ]
    }
   ],
   "source": [
    "from sklearn.metrics import confusion_matrix\n",
    "import itertools\n",
    "import re\n",
    "# setup parameter for xgboost\n",
    "param = {}\n",
    "param['n_estimators'] = 200\n",
    "param['max_depth'] = 2\n",
    "param['nthread'] = 8\n",
    "param['learning_rate'] = 0.2\n",
    "\n",
    "# let's train type indicator individually\n",
    "for l in range(len(type_indicators)):\n",
    "    print(\"%s...\" % (type_indicators[l]))\n",
    "    \n",
    "    Y = list_personality[:,l]\n",
    "#     split data into train and test sets\n",
    "    seed = 7\n",
    "    test_size = 0.33\n",
    "    X_train, X_test, y_train, y_test = train_test_split(X,Y,test_size=test_size,random_state=seed)\n",
    "#     fit model on training data\n",
    "    model = XGBClassifier(**param)\n",
    "    model.fit(X_train,y_train)\n",
    "#     make predictions for test data\n",
    "    y_pred = model.predict(X_test)\n",
    "    predictions = [round(value) for value in y_pred]\n",
    "#     evaluate predictions\n",
    "    accuracy = accuracy_score(y_test, predictions)\n",
    "    print(\"* %s Accuracy: %.2f%%\" % (type_indicators[l], accuracy * 100.0))\n",
    "#     confusion matrix\n",
    "    cm = confusion_matrix(y_test,predictions)\n",
    "    cm_class = re.split(' / - |: | - ',type_indicators[l])\n",
    "#     plot_confusion_matrix(cm, [cm_class[1], cm_class[2]], title='Confusion Matrix')"
   ]
  },
  {
   "cell_type": "markdown",
   "id": "e9d7eeab",
   "metadata": {},
   "source": [
    "# XGBoost Hyperparameter Tuning"
   ]
  },
  {
   "cell_type": "code",
   "execution_count": 36,
   "id": "4bbe9e03",
   "metadata": {},
   "outputs": [],
   "source": [
    "# Tune learning_rate\n",
    "from numpy import loadtxt\n",
    "from xgboost import XGBClassifier\n",
    "from sklearn.model_selection import GridSearchCV\n",
    "from sklearn.model_selection import StratifiedKFold"
   ]
  },
  {
   "cell_type": "code",
   "execution_count": 37,
   "id": "ab6a91f8",
   "metadata": {
    "scrolled": true
   },
   "outputs": [
    {
     "name": "stdout",
     "output_type": "stream",
     "text": [
      "IE: Introversion (I) / Extroversion (E)...\n",
      "hello\n",
      "* Best: -0.488997 using {'learning_rate': 0.2, 'n_estimators': 200}\n",
      "* -0.488997 (0.011997) with: {'learning_rate': 0.2, 'n_estimators': 200}\n",
      "* -0.490498 (0.013797) with: {'learning_rate': 0.2, 'n_estimators': 300}\n",
      "* -0.496466 (0.010891) with: {'learning_rate': 0.3, 'n_estimators': 200}\n",
      "* -0.502682 (0.012220) with: {'learning_rate': 0.3, 'n_estimators': 300}\n",
      "NS: Intution (N) - Sensing (S)...\n",
      "hello\n",
      "* Best: -0.458589 using {'learning_rate': 0.2, 'n_estimators': 200}\n",
      "* -0.458589 (0.018931) with: {'learning_rate': 0.2, 'n_estimators': 200}\n",
      "* -0.506715 (0.022098) with: {'learning_rate': 0.2, 'n_estimators': 300}\n",
      "* -0.522635 (0.024857) with: {'learning_rate': 0.3, 'n_estimators': 200}\n",
      "* -0.568883 (0.027387) with: {'learning_rate': 0.3, 'n_estimators': 300}\n",
      "FT: Feeling (F) - Thinking (T)...\n",
      "hello\n",
      "* Best: -0.551023 using {'learning_rate': 0.2, 'n_estimators': 200}\n",
      "* -0.551023 (0.032245) with: {'learning_rate': 0.2, 'n_estimators': 200}\n",
      "* -0.576728 (0.043294) with: {'learning_rate': 0.2, 'n_estimators': 300}\n",
      "* -0.607972 (0.043096) with: {'learning_rate': 0.3, 'n_estimators': 200}\n",
      "* -0.645751 (0.050584) with: {'learning_rate': 0.3, 'n_estimators': 300}\n",
      "JP: Judging (J) - Perceiving (P)...\n",
      "hello\n",
      "* Best: -0.682049 using {'learning_rate': 0.2, 'n_estimators': 200}\n",
      "* -0.682049 (0.018896) with: {'learning_rate': 0.2, 'n_estimators': 200}\n",
      "* -0.717979 (0.024634) with: {'learning_rate': 0.2, 'n_estimators': 300}\n",
      "* -0.753768 (0.034151) with: {'learning_rate': 0.3, 'n_estimators': 200}\n",
      "* -0.800428 (0.036549) with: {'learning_rate': 0.3, 'n_estimators': 300}\n"
     ]
    }
   ],
   "source": [
    "from xgboost import XGBClassifier\n",
    "from sklearn.model_selection import GridSearchCV, StratifiedKFold\n",
    "\n",
    "# Posts in tfidf representation\n",
    "X = X_tfidf\n",
    "\n",
    "# Setup parameters for xgboost\n",
    "param = {}\n",
    "param['n_estimators'] = 200\n",
    "param['max_depth'] = 2\n",
    "param['nthread'] = 8\n",
    "param['learning_rate'] = 0.2\n",
    "\n",
    "# Let's train type indicator individually\n",
    "for l in range(len(type_indicators)):\n",
    "    print(\"%s...\" % (type_indicators[l]))\n",
    "    \n",
    "    Y = list_personality[:, l]\n",
    "    model = XGBClassifier(**param)\n",
    "\n",
    "    print('hello')\n",
    "    \n",
    "    param_grid = {\n",
    "        'n_estimators': [200, 300],\n",
    "        'learning_rate': [0.2, 0.3]\n",
    "        # 'learning_rate': [0.01, 0.1, 0.2, 0.3],\n",
    "        # 'max_depth': [2, 3, 4],\n",
    "    }\n",
    "    \n",
    "    kfold = StratifiedKFold(n_splits=10, shuffle=True, random_state=7)\n",
    "    grid_search = GridSearchCV(model, param_grid, scoring='neg_log_loss', n_jobs=-1, cv=kfold)\n",
    "    grid_result = grid_search.fit(X, Y)\n",
    "    \n",
    "    # Summarize results\n",
    "    print('* Best: %f using %s' % (grid_result.best_score_, grid_result.best_params_))\n",
    "    \n",
    "    means = grid_result.cv_results_['mean_test_score']\n",
    "    stds = grid_result.cv_results_['std_test_score']\n",
    "    params = grid_result.cv_results_['params']\n",
    "    \n",
    "    for mean, stdev, param in zip(means, stds, params):\n",
    "        print('* %f (%f) with: %r' % (mean, stdev, param))"
   ]
  },
  {
   "cell_type": "markdown",
   "id": "3f8ec6ee",
   "metadata": {},
   "source": [
    "# Predict own Myers-Bridge personality Types"
   ]
  },
  {
   "cell_type": "code",
   "execution_count": 38,
   "id": "5f216027",
   "metadata": {
    "scrolled": false
   },
   "outputs": [
    {
     "name": "stdout",
     "output_type": "stream",
     "text": [
      "1 of 1 rows\n"
     ]
    }
   ],
   "source": [
    "# A few tweets and blogs post\n",
    "my_posts = \"\"\"\n",
    "'I'm finding the lack of me in these posts very alarming.|||Sex can be boring if it's in the same position often. For example me and my girlfriend are currently in an environment where we have to creatively use cowgirl and missionary. There isn't enough...|||Giving new meaning to 'Game' theory.|||Hello *ENTP Grin*  That's all it takes. Than we converse and they do most of the flirting while I acknowledge their presence and return their words with smooth wordplay and more cheeky grins.|||This + Lack of Balance and Hand Eye Coordination.|||Real IQ test I score 127. Internet IQ tests are funny. I score 140s or higher.  Now, like the former responses of this thread I will mention that I don't believe in the IQ test. Before you banish...|||You know you're an ENTP when you vanish from a site for a year and a half, return, and find people are still commenting on your posts and liking your ideas/thoughts. You know you're an ENTP when you...|||http://img188.imageshack.us/img188/6422/6020d1f9da6944a6b71bbe6.jpg|||http://img.adultdvdtalk.com/813a0c6243814cab84c51|||I over think things sometimes. I go by the old Sherlock Holmes quote.  Perhaps, when a man has special knowledge and special powers like my  own, it rather encourages him to seek a complex...|||cheshirewolf.tumblr.com  So is I :D|||400,000+  post|||Not really; I've never thought of E/I or J/P as real functions.  I judge myself on what I use. I use Ne and Ti as my dominates. Fe for emotions and rarely Si. I also use Ni due to me strength...|||You know though. That was ingenious. After saying it I really want to try it and see what happens with me playing a first person shooter in the back while we drive around. I want to see the look on...|||out of all of them the rock paper one is the best. It makes me lol.  You guys are lucky :D I'm really high up on the tumblr system.|||So did you hear about that new first person shooter game? I've been rocking the hell out of the soundtrack on my auto sound equipment that will shake the heavens. We managed to put a couple PS3's in...|||No; The way he connected things was very Ne. Ne dominates are just as aware of their environments as Se dominates.  Example: Shawn Spencer or Patrick Jane; Both ENTPs.|||Well charlie I will be the first to admit I do get jealous like you do. I chalk it up to my 4w3 heart mixed with my dominate 7w8. 7s and 8s both like to be noticed. 4's like to be known (not the same...|||;D I'll upload the same clip with the mic away from my mouth. Than you won't hear anything.  Ninja Assassin style but with splatter.|||Tik Tok is a really great song. As long as you can mental block out the singer. I love the beat it makes me bounce.|||drop.io v1swck0  :D Mic really close to my mouth and smokin aces: assassins ball playing in the background.|||Sociable =/= extrovert; I'm an extrovert and I'm not sociable. :)|||Sherlock in the movie was an ENTP. Normally he's played as a EXTJ. In the books he's an ESTJ.  As I said. The movie looked good except for it being called sherlock holmes.|||http://i817.photobucket.com/albums/zz96/kamioo/Dirtywinch.png|||Oh, I never had fear of kissing a guy. I will kiss an animal too. So there was nothing to vanish. Just personal taste and me not liking it.  The guy I kissed didn't know me. It was one of those...|||Sounds pretty much like my area and what I'm going through right now trying to figure out which way I want to take my life. I want to do so many things. The biggest problem is that I know if I don't...|||;D I was operating under the impression that you were female. I never looked at your boxy. Okay, I help out my gay friends all the time and one of them has developed a little crush on me. I get red...|||T_T You just described me  and I'm living the worst nightmare. I'm trapped in one place with one one around. Only dull woods. If I was a serial killer this would be the perfect place but sadly I'm...|||TBH, and biased, sounds like a shadowed INFP. I think maybe he was hurt and turned ESTJ. I can tell because he has some of the typical INFP traits left over.|||*Checks list* I'm sorry. It seems that you have came at a bad time. We've already reached our quota of INFJs. However, being you're female and I like females I will make you a deal. I will kick one...|||I'm ANTP (Leaning toward E). I'm easy for both ENTPs and INTPs to identify with. :)|||I also imagine ENTP's interrogations would go a little bit like Jack's from 24 except more mechanical. Rigging up shock treatment equipment in an abandoned building out of an old car batty, jumper...|||It was a compliment :) Trust me. I'm just as psychopathic :D except I have emoticons. They're just weird ones. Like laughing when I get hurt or at people running themselves over with their lawn mower...|||http://i817.photobucket.com/albums/zz96/kamioo/Thunderstorm.pnghttp://i817.photobucket.com/albums/zz96/kamioo/Thunderstormbw.png http://i817.photobucket.com/albums/zz96/kamioo/Cosmicstorm.png|||No. It's like a theme for where I live and that is why I know it by heart.   http://www.youtube.com/watch?v=j5W73HaVQBg|||and I usual don't leave until the thing ends. But in the mean time. In between times. You work your thing. I'll work mine :D  ;D I'm the MBP; Pleasure to meet you.|||Damn, need to trust my instincts more I would have been closer I was going to say INFP.|||EXFP? Leaning toward S with the way she responded.  :D My friends, even my gay and lesbian ones, always come to me for advice.|||I bow to my entp masters ENTPs are so great. If it wasn't for ENTPs I wouldn't have been able to build what I'm building  Duck Duck  Duck  Shotgun|||What? Me? I never do that >.> <.<|||Because its hard to be sad about losing someone you like when you knew you were right and give yourself a big pat on the back because you're awesome and always correct.|||Oh, you don't have to tell me that most of them are stupid. I know this. That is why I play with them and it makes me laugh. :D As I'm going to take Neuropsychology and I have a few psychologist...|||:D I'm a Nightowl. I wake up between 6-7pm and stay awake till 10-11:30am.|||Personal opinion backed by theory would suggest that INTPs are the most socially difficult. While INTJs can be socially indifferent but they will also use social situations if the the need arises....|||Personal stocks that I have on my desktop that I've downloaded from random stock sites and stock photobuckets.|||I'll tell you when I open photoshop.  :) Glad you like it static.|||:D Thanks.|||http://i817.photobucket.com/albums/zz96/kamioo/Deathgrip.png http://i817.photobucket.com/albums/zz96/kamioo/Deathgripbw.png  Made for a friend. Several hours of work. I constructed every line by...|||:) Static: http://i817.photobucket.com/albums/zz96/kamioo/Statickitten.png  I'll have to get to your avatar later if one of my fellow teammates doesn't.|||Psychologist don't keep me around long enough to diagnosis me. I like to toy with them. What I have diagnosis myself with and had a few psychologist friends (+ a few other friends) tell me I have is...'\n",
    "'Dear INTP,   I enjoyed our conversation the other day.  Esoteric gabbing about the nature of the universe and the idea that every rule and social code being arbitrary constructs created...|||Dear ENTJ sub,   Long time no see.  Sincerely, Alpha|||None of them. All other types hurt in deep existential ways that I want no part of.|||Probably a sliding scale that depends on individual preferences, like everything in humanity.|||Draco Malfoy also. I'd say he's either 358 or 368.|||I'm either 358 or 385, though in which stacking to me is a somewhat arbitrary distinction to make as I believe that the core indicates primary motivation and has a hand in every action. Therefore, a...|||I'm not particularly introverted or extraverted, personally. That said, I would say I'm somewhat unphased by either social interactions or being alone. What I'd say I crave more so than anything is...|||Dear Type 9 INFP,  Your absolute admiration of me is refreshing. You're a great girlfriend and I wish we both didn't have such busy schedules so we could be around one another more often.  Keep...|||2% still means about 1/50 people. I've probably seen 1-2 others today. I never understood fascination by virtue of rarity.|||So, you're on the ESFJ train also, right?|||I have toyed with the idea of the OP being an extrovert also for awhile now, actually. After many conversations with him, however I'm disinclined to believe it due to OP being much too close with Fi...|||Still ESFJ|||I disagree.  Definite ESFJ. Fe- Si ALL up in this.|||Where have you been?  Your mother and I have been worried sick.|||Similar feelings concerning ENTPs.|||I collect shoes. I do so because I like status and nothing communicates such a thing as much as a pair of Jordans.|||Sure. Let's get weird.    Back. Off.|||Best...|||[Insert other into previous post.]|||Wow, don't nobody got time fo' dat...  Jk, u kno u mah boi.|||Well, as I'm sure everyone knows, being social primary doesn't necessarily equal being social. I like other people just fine, but lately I've been on a bit of a break when it comes to my...|||That's pretty crappy of her. Your sex life is definitely not her business. If I were you, I'd definitely talk to her about it.|||Yeah, I had a lot longer to think about it. That said, I don't think you're Te, so if we operate under the assumptions in the OP, you're INFJ because nothing else makes sense. I'm not saying I...|||Whether or not you actually are, your mom makes fun of you for being a virgin? Is this playful teasing?|||Just stab in the dark here, I don't think that's Te under the hood. If this here is all I'm given to work with, I'd have to say INFJ.  Compare your idea of 'logic' to mine:  Logic is a series of...|||What makes the most sense?|||Tentatively INTJ. Still reading.  EDIT: So far, I am of the belief that you're most of the things you say you are. I appreciate the level of detail.  EDIT: Also relatively certain you are Ni...|||Refreshing self with reading about instinctual variants.  God, I'm a hard social type.|||WOW! Useful thought you had there! Wanna know what my favorite part was?  The fact that it ended...|||I am both annoyed and intrigued by xxFPs.  As far as I can tell, I dislike all J types in my normal life.|||I'm not of the mind that any enneatype/MBTI combination is impossible because cognition =/= the things that motivate us. That said, we can clearly observe many types being more common than others...|||Sx as hell...   https://www.youtube.com/watch?v=uelHwf8o7_U|||Very seriously toying with the idea of being 351. I can be pretty aggressive and controlling, but I have a massive 'holier than thou' streak once you get to know me with any depth (like more than 1-2...|||I'd say it's a mostly emotional experience.|||Because I find in depth study of cognition more interesting. Included MBTI in my answer to illustrate how much I enjoyed socionics. Interpret the post as wholehearted agreement with what she was...|||No real argument here.   I know what I am, and what I am is an asshole that is, for a second baring his teeth at the people that seemingly have a lot to say but refuse to address me beyond a single...|||I would refer you to the OP. If you need a literal analysis, I'm happy to provide it. That said, I'm going to assume you're able to read and interpret symbolism, so I doubt you'll need that much help.|||And this was sort of my thought process. The initial post and how it connects the generally accepted view of the type 3 and what the type 3 is motivated by doesn't seem to be in need of explanation....|||Oh my...  I am quite crushable, huh?  Back atcha.|||I was, but it's 5am. I'll take what I can get.|||I wanted to come up with something clever, but it's almost 5am.  I would give you a lot of sex.|||So then why do you even bother asking if you've already made up your mind that you are an extravert, intuitive and feeling? If you've  already decided you are these things and have evidently done the...|||Wasn't sure I listened to sx music until now.   https://www.youtube.com/watch?v=7hcYx_y5xdo|||INFP messaged me with a picture of herself before going to bed.  Asked me to say goodnight to her.  Asked me to say goodnight to her again.  I did. I thought it was weird, secretly.  I like...|||Either way, you see my point. The actual rarity is skewed and makes a type seem rarer than it likely is in real contexts. I may have been the only one of my type in a class room in High School, but...|||WOW my math was off! I literally just said numbers. See how over glorified the type is?  Even so, though. I saw around two-hundred people (REALLY rough estimate) between both of my jobs. It's...|||Rarity in the context of the entire planet is somewhat silly. Even if we assume the greatest reports of our 'rarity', we (INTJ) encompass 1% of the planet, which sounds rare when you don't think...|||One could say that whatever the culmination of all of our actions are throughout our lives equal our potential.  In this sense, everybody does, but as we all know, not everyone's potential is the...|||I would agree, however, those that profess to know their type not stating anything about their type's motivations strike me as either not wanting to touch on them or not being able to. If they don't...|||Lol.'\n",
    "'You're fired.|||That's another silly misconception. That approaching is logically is going to be the key to unlocking whatever it is you think you are entitled to.   Nobody wants to be approached with BS...|||But guys... he REALLY wants to go on a super-duper-long-ass vacation. C'mon guys. His boss just doesn't listen or get it. He even approached him logically and everything.|||Never mind. Just go on permanent vacation.|||Two months? I wouldn't be crazy about the idea. If you are really his best employee, then that's what may be cooking him. Who wants their most reliable asset gone for that long?  ENTJ employer...|||Lol. Its not like our views were unsolicited. What a victim.|||Sometimes I just really like impoverished rap music.   https://www.youtube.com/watch?v=Xh0vA6_8mv8|||I probably would have lost it too. His stonewalling was insignificant. He was being an idiot over semantics that didn't have any impact on anything. It's one thing to stone wall on critical shit, but...|||I would have just taken the project and gave them something later.|||The court deposition wasn't a skit. That actually happened. It was a verbatim reenactment.|||And her ass.|||I'll flirt a woman for a piece of candy at the grocery store. Of course. I use whatever I have at my disposal to get what I want in the most efficient manner possible. If that means flirting that...|||http://youtu.be/PZbqAMEwtOE|||Yes. In the comments she gave more info, then was shut down because she went from having a crush on her boss and wanted to know how to impress him, to her boss is married and she wasn't interested. I...|||What's this we thing about?|||Callaendia are you the same INFP girl who was on the ENTJ Facebook forum with this similar question? I just have to ask because the times are so close together, and the scenario is so similar.|||3X|||11/25 I do not modify myself to suit others, however I do like the spotlight.|||I think the easiest and most efficient approach is a tarp, jigsaw, and mulcher. But that's just my personal preference. Not all ENTJs are the same.|||Just don't hump my leg...|||What are you like a chihuahua or some shit?|||I once dumped a girl in college who I was having a 6 month romp with over making me late for class. She said I was petty for it.|||DEAD XD   http://youtu.be/PaghIdSJKvQ|||MBTIPC perfect. I don't like dealing with middle men either. You can talk directly to me.  ;)|||I can sell you the dream...|||LOL DEAD. Ha!|||The point is that when you are making a point of thinking critically but not thinking beyond common sense, you aren't using your brain. A little bit of effort now to have an understanding of the...|||That's just common sense  No, that's just a value judgement backed by popular opinion from social stupidity/laziness. That's only doing what works instead of pushing harder and doing what is...|||When it comes to children, they either cry or climb all over me. There is never a gray area.|||I don't drink, but when I drank:  Beer: Hardcore ciders and sweet brown ales.  Liquor: VODKA chased with cran or water. < my preferred drink  Wine: Anything dark, dry and sweet. There are so...|||Well that escalated quickly.|||https://encrypted-tbn2.gstatic.com/images?q=tbn:ANd9GcSDA-GNSWRqDgxZibQPN3dfS2LlChp8tO6FCCeVBHuIlYUVfjzkVH2sGAv_  You deal with them.|||tl;dr fuuuuu|||Those people who think they know everything are a great annoyance to those of us who do IA|||@Darth Alpha  I would never claim it to be healthy either. Just in my best interest.|||On loyalty:  I am loyal to the vision. I am loyal to those who share the vision. I am not into co-dependency in terms of the vision cannot be accomplished without others involved. I stay on course,...|||Your answer was worth more time to entertain than the OP.|||Hey @MsBossyPants are you down for a debate on Ayn Rand vs Marx? Maybe we should talk about our poor Fi? Oh I know- let's try to correlate testing ENTJ with being sociopathic.  :laughing:|||Hitler was no exception- this concept has, is and always will be a principle, tenet, and rule. Politics, ideology, religion, eating, shitting usual.  And if it's not ,then there is nothing to...|||Hitler thought he was doing great things. Stalin thought he was justified. These guys thought they were uncorrupt. They viewed any heretic to their dogmas as morally bankrupt, and so did many of...|||Meh. There were plenty of evil people who did good things, and plenty of good people who got blood on their hands achieving and attaining higher goals. Bad situations that had good long term effects,...|||You would have to ask the OP. He is asking ambiguous questions. I would go with whatever is more efficient/effective vs what is perceived as good every time in the good vs evil dichotomy. It in my...|||Good vs Bad =/= Good vs Evil One is an objective positive vs negative dichotomy, the other is a subjective interpretation of characteristics.   NameUser  So to be evil may be a better solution and...|||I think they are for sure idiots, but I also think these people went out of their way to fuck their lives up. Did they expose themselves on the internet? Yes. Does this warrant or validate a reason...|||I really REEEEEEAAALLLY hate rigidly PC thumb sucking nanny bitches. They remind me of five year olds who are trying too hard to gain their parents approval by taddling. These are the same people,...|||I think people need to get some skin. Even if these people are wrong or racist. That's just a waste of time, energy, and resources. These people end up being the focus for being petty and overboard...|||http://www.penciltribe.com/cms/wp-content/uploads/2013/04/Brian_snowflake-300x225.jpg|||http://www.penciltribe.com/cms/wp-content/uploads/2013/04/Brian_snowflake-300x225.jpg|||I'm not trying to be condescending when I tell you- all those things you have mentioned people saying and have written off as all I have been met with are legit arguments. They don't need to be...|||The brevity of my posts is because you don't take much to refute. Just because you aren't acknowledging what people are saying doesn't mean they are saying nothing.'\n",
    "'I tend to build up a collection of things on my desktop that i use frequently and then move them into a folder called  'Everything' from there it get sorted into type and sub type|||i ike to collect odd objects, even at work...a lot of people would call it junk but i like to collect it.  Old unused software? ill take that off your hands :) i have a bunch of old adobe...|||i think its quite normal, i tend to only see my friends in real life every couple of months, as said earlier some people just dont get it but the good ones do :)  Edit: i mostly mean tolerate it...|||where do we go when we sleep? is dreaming another form of being awake? how many more layers of this are there if any?   thoughts about sleep keep me up at night  Edit: sometimes im too scared...|||thanks|||i wish i was free to follow my interests as i desired  i feel as though wishes are meant for impossible things|||by seeing do you mean visual interpreting or seeing as in mentally understanding the concept?|||hello|||i feel as though i am incapable of creating anything   and i wish i could|||i cant stand the interviewer christ that laugh...  is he intj? hmmm  it would be interesting to see an intj on this show, i doubt they would be that interesting to the general public though ...|||know yourself and be yourself|||Do you think Fi or Fe sounds more like me?  which one do you think sounds like you?  Why do you require input from others to know what you are?|||Question: do INTJs lean more towards Alternative Rock then other types of music? And if so, why?   My Answer: well, if you went through all the pages and then sorted all the songs by genre/style...|||sometimes i look at people and i see them , well on the outside at least, doing all these things and saying all these words and i wonder what it would be like to act that way... am i missing out on...|||a lounge huh? what does one do in a lounge?  or is it best not to define it and just enjoy it as is?|||Do it|||went on holiday for just over a month, thought things would change. How naive of me..  feels nice to browse back on this forum here though, its been a while since i surrounded myself with somewhat...|||yes i would say i am, more than physical appearance to an certain degree.  what are they? i am unsure they just generally cant be a terrible person by my standards|||i like to lurk, in my case at least its mostly because i tend to believe i have nothing interesting to contribute to the conversation so why add anything?  logging out to purposely lurk seems like...|||i think id wait for him to swing first before taking further action but i would not  encourage them to take a swing  a part of me wants to fight him though...|||would you say there is complexity in simplicity?|||I normally vote for whoever amuses me the most..  perhaps one day i'll care more  Edit: other than what amuses me at the time, ill vote for whatever would apparently benefit me the most....|||long distance is hard|||INTJ's and what effects their sanity levels  Mental illness|||So i think about which thoughts i wish to express in written format, then i proceed to perform the physical movements necessary to express the required thoughts in whichever medium is required or...|||651762 i got this, seems right to me. I always score intj, extra heavy on the introversion :3|||I like this  https://www.youtube.com/watch?v=e4dT8FJ2GE0  I like the sound, the content/lyrics are not too important, the sound is what i value most. Is it my favourite? probably not, i heard...|||to others maybe, although internally i am acutely aware of any mistakes i have made|||assuming they would listen to me, i would each give them a solo task that leads to the successful completion of the project  how would i make them listen to me? explain that the success of the...|||i am a fan of the idea that a celestial being died and its essence became everything we know, what kind of sacrifice would have to be made to create such wondrous things? (stars, planets, cosmic...|||Nah|||1) Since when do you need a manager present to make returns?? or was it because I work there? - check the company policy on this 2) Why did they want to save my receipt? -not sure, perhaps to...|||i remember my first encounter with this type of music was BOA - Hurricane Venus, saw it played on a starcraft 2 stream round 201011 or something and was kinda hooked. Don't follow/watch it much...|||what happens when this riddle gets solved? what use is this information?   haha i am clearly not a fan of riddles  Edit thoughts: Girlfriend asked me a few riddles and it was infuriating for...|||i kept pressing them to talk about something they didnt want to, i regret it deeply|||It is not hands that summon us. It is desire.  I want nothing to do with that puzzle box. Nope. Nope. Nope|||i used to think life was dull and everything was boring, then i realised that i havent actually done everything so it felt incorrect in thinking that way|||ahh yes the pain of living, its beautiful isnt it?|||i got   Your score for openness was 70%. This is in the moderate range. Your score for conscientiousness was low, at 35%. Your score for Extraversion was low, at 15%. Your score for...|||What do you mean by humanities? i like to think about the direction of the human race as a species and i like to appreciate where weve come from so i guess i love humanities?|||1. Attempt to think less about things 2. Be more decisive and confident in my decisions/thoughts (i cant help but play devils advocate with myself, i guess this ties into number 1) 3. change my...|||Ahh yes that sinking feeling when something goes incredibly wrong or not to plan. How do i get over it? embrace the madness, how are you going to deal with your scenario now with all these new...|||I like to imagine it kinda like this 629346  except the ring is a billion times higher and nearly impossible to scale and then in the middle is a beautiful garden and house where i like to chill....|||if you look at the first sentence of most of them you can gather the feeling they are trying to portray, followed by a rather nice scenario.  So yes i do feel those feels, but not for those...|||I think its the introversion crossed with the feels that does it for me.|||first encountered mbti?  hmm was a personality test i took in highschool, didnt care or even pay attention to it until later. stumbled upon it somehow and was interested  Im not too into it as...|||Treat Yo Self|||Question: Can INTJs be try-hards?  Answer: sure|||No im not, our values of friendship are clearly different. An emotional investment of any kind is a big deal to me, a HUGE deal, to have it not appreciated and/or reciprocated is soul destroying. ...|||petty? perhaps, but why bother with someone who isnt going to give me what i want when i can just move on? what a waste of my time and emotional energy.  Hopefully for you this friend of yours is...'\n",
    "'I'm not sure, that's a good question. The distinction between the two is so dependant on perception. To quote Robb Flynn, ''The hate you feel is nothing more, than love you feel to win this war.''|||Good question! It's tough to say for sure but I loved Winona Ryder as Lydia in Beetlejuice...  http://i63.photobucket.com/albums/h158/trinsghost/Misc-Images/2921aa070866f20450f8e1160b1e5d41.jpg|||https://www.youtube.com/watch?v=r5If816MhoU|||https://www.youtube.com/watch?v=Q-sQklvpDhA|||I've been lonely for much of my time. For a while now I've been working on changing ''how to think'', and one way is trying to find the positive in everything, no matter how bleak it might seem. I...|||I hope I can look back at this current stretch of time and think, ''Thank God I'm not there anymore and things are so much better''. What an ass-kickin' I'm taking.|||Help or a voice of reason, other than my own distorted, in my life. I'm completely frusterated and feel like I'm on the brink. I'm carrying the weight of everything negative I've ever had in my life...|||Think I posted this before but I'm still feelin' it....   https://www.youtube.com/watch?v=Cu8qsC1WLiE|||Fleeting thoughts of acknowledging and getting lost in the depth love that we share for one another. It could be the most mundane thing but every now and the simplest act will make me appreciate the...|||https://www.youtube.com/watch?v=pULe7-6yRo4|||I've been told that I'm OCD and I'm aware of it. For me it's more than just obsessive cleaning and things of that nature. I've come to understand how it affects things such as obsessing on a thought...|||https://www.youtube.com/watch?v=XkbQDChgmX8|||I'm working on a song I've been trying to learn for just about a year. Was hoping to finish it before the New Year but still have a ways to go.|||Sons of Anarchy is the first TV series I've followed since The X-Files WAY back in the day.|||https://www.youtube.com/watch?v=2R2NrV4ve1o|||Fleeting|||I'm not a big book person but every now and then I go through stages and force myself to read more than I normally do. One book that always stands out in terms of interest while reading was ''Venus...|||https://www.youtube.com/watch?v=9utPTpXpIgE|||Frustration got the best of me today, and has been a lot lately. Having a couple Heinekens right now and feel a bit better. :) This is a difficult time, and is going to be for a bit, gotta maintain.|||Find balance, get more in harmony with life and position myself to capitalize on any opportunity that presents itself. Within that lies the path to a more fulfilled life, at least I'm hoping. ;)|||https://www.youtube.com/watch?v=RoL0nRuHj0I|||I'm not a touchy-feely person and don't care for folks I don't know feeling up on me. My response depends greatly on the person doing it. Some people are just naturally affectionate and it's their...|||https://www.youtube.com/watch?v=oYZh9yQu1fo|||https://www.youtube.com/watch?v=d5abdXpvBR0  ...Very frusterated, wrestling with thought, and not winning.|||Escape From Alcatraz|||https://www.youtube.com/watch?v=u8lOTMMRJZg|||https://www.youtube.com/watch?v=-ls5mug1_KU|||I'm grateful to still have a little time to make good of all the things I've learned the hard way through countless mistakes and wrong turns.|||https://www.youtube.com/watch?v=ff_6BF37fI0|||A great song to start the day...   https://www.youtube.com/watch?v=YnHaYVYFTU8|||Joints hurt a little, other than that I feel the same old usual indifference. :P|||An early 90's style Ford Mustang GT with the more square body. In all reality, one can be found for a few thousand dollars which makes this dream car very attainable. :)|||http://www.youtube.com/watch?v=Cu8qsC1WLiE|||It was kind of intended to have a dark, terrible to feel about it. Depression has many depths, and those levels vary from person to person. I've dealt with serious depression my whole life and it...|||http://www.youtube.com/watch?v=QnRkiAK_gZc|||http://www.youtube.com/watch?v=66Vc-2CS4ew|||Comfort food - Pizza and chicken wings, cheesecake or pumpkin pie  Comfort drink - Redbull, Guinness or Red Wine|||Still grinding out this song on guitar, it's coming along but slowly and most certainly not easily.|||Some vague advice I can give is this, it can always be worse and in most cases it probably will be someday. So it works to look at any current situation like this, it helps to appreciate what you...|||Content, not happy but more content than I've been in a while, a LONG f'n while. I'll take it.|||For breakfast I had a piece of grilled chicken and a Guinness.|||-Seven -The Decent -Rocky -Heat -Silence of the Lambs|||http://www.youtube.com/watch?v=gvYm6kVY2IE|||Robb Flynn of Machine Head, Michael Amott of Arch Enemy, Jerry Cantrell of AIC.  Edit: Forgot to include Zakk Wylde, a musical genius.|||Pucca...That shirt could be a lot of fun indeed. :)|||....Watching a video of Megadeth live on the Big Four Tour.|||http://www.youtube.com/watch?v=2XhGQisD040|||JungleDisco...Takin' it back with Silk. Great Stuff.   http://www.youtube.com/watch?v=9uhLDWCqSQQ|||Rockin' some Down right now.....   http://www.youtube.com/watch?v=aKfmYGlhWWk|||....I currently desire for July 20th to roll around so I can finally see Machine Head live at this years Mayhem Festival. F**k yeah.    http://www.youtube.com/watch?v=lK588zl0l2M\n",
    "'One time my parents were fighting over my dad's affair and my dad pushed my mom. The fall broke her finger.  She's pointed a gun at him and made him get on his knees and beg for his life. She's...|||I'm gonna talk about what a piece of shit my dad is now.  He's an alcoholic and he has some kind of serious mental problem when it comes to complying with the IRS. (In his words, Laws don't apply...|||OMG...at the women's center I lived at, run by a Catholic charity, the fat bully program manager took it upon herself to change policy so that tenants were FORCED to attend the Christmas party. If...|||I don't work, but I have a calling I am 100% committed to 24/7 with no vacation or off days EVER. I'm a Kundalini mystic.  Oh, I don't get paid, either!  It's one of those destined things...|||My art teacher in high school had a stack of art school catalogs. When I saw the one for the school I ended up going to, I immediately knew that was the one. Without any research. It was like when...|||INFJ  Communication Design  Nope, too much execution, I'm a mystic now|||I got a degree from one of the best schools in the world for that field, but actually having a career in it was unsustainable because it engaged my inferior function directly.  So in my case, even...|||Absolutely|||And I don't know who TF you think in this day and age isn't familiar with employment. ??????? What planet are you living on?! And how did you ever pass kindergarten? Somebody actually employs you?...|||No, it's an issue of taking responsibility for your own sexual response. It's called self-discipline. It starts in the mind. Internalize your sexuality, then you're not at the mercy of how other...|||Oh I think I should also say, if I didn't imply or say it above, that this won't make sense if you've always been healthy -- if you were allowed to develop naturally.  This is for people who were...|||Do something out of character (inferior function immersion) -- this will put you in danger, pumping exciting danger/stress chemicals into your body. Going against the grain. It's the psychological...|||It kind of sounds believable[/QUOTE]  You guys haven't been through stuff like this? Man you've had it easy  You know, last year I spent months hauling my tales of woe around Craigslist rants and...|||HOW TO KNOW IF AN ESTP LIKES YOU  1. They put their hand down your pants|||Don't ESTPs like getting beaten with chains, too? Since you guys are immune to physicality and need as much stimulation as possible to even register being alive...  Getting beaten with chains and...|||ENFPs don't get God-oriented in crisis though|||At first I thought he was an INFJ who'd grown up in his inferior function and was living a false ESTP identity, because my life story parallels his so closely, and that's what happened to me. What...|||Sorry INFJ, fellow INFJ here, ESTPs don't care about anything but your flesh. Have you shared your body with your ESTP? They might miss that, I guess, but it's a long shot...  Physical life here on...|||Not have the ballz? I told my ESTP gf she was a parasite when I dumped her...that was AFTER she'd threatened to punch me in the mouth...|||Oh another thing! Have you ever had sex with a Te person? Te vs Fe sex. Here's how it goes down:  Te person will actually SAY TO YOU, I can't do this if you're gonna make those faces, and will...|||The only reason Te people call everything unstable is because they're TOO SENSITIVE!  They're the unstable ones!!! Can't handle a little Fe brow scrunch! Wow, grow up  That case manager also...|||You've probably been treated like shit your whole life by Te people.  I've been treated like shit just for my Fe facial expressions, and I'm a very cold, controlled person. (Capricorn moon square...|||Eternity > no time > Wen-Nefer|||You know who got defragmented? Osiris   Osiris > underworld > Pluto > shamanism, soul retrieval|||What does the exchange look like where you become more physical and less spiritual?  Or is it always less? Every time we meet I'm less and you're less? Where does that lead?       Yikes....|||I had an ISFJ mother who thought Ni stuff was scary, of the devil, or just insane, so I abandoned Ni at age 5 and learned to hate myself in an effort to stay in her good graces and avoid her wrath. ...|||Although, during Pluto transits, the whole point is to get eaten   But I'm talking about my relationship with Se on a daily basis, when it's not crisis time|||My thing that I'm into is using my inferior as a mirror...like gazing into a scrying mirror   Otherwise I just get eaten by it  IMO that's a proper Ni-Se dynamic|||Oh dear. Trees have stronger and weaker roots, but they never have just one root. Not the healthy ones anyway.  May you find balance.  *hug*[/QUOTE]   My problem has been over identification...|||The dirty people also remind me of people who don't know who they are, they are disempowered, they have no sense of their own vitality, so they're zombies. Moths attracted to a source of light (smoke...|||I've made a lot of sacrifices for my Ni|||I think the trade I'm talking about is an Se-dom meets Ni-dom thing. That sort of interaction could generally be characterized as mutual relief of burden. Or at least that's where it's easiest to...|||Do you identify with the woman who takes in the smoke?  https://www.youtube.com/watch?v=LUc_jXBD9DU  What I've noticed is that there's a trade going on between me and people I encounter (whether...|||You must decode the symbol or you will be impoverished|||I think the INFJ who tries to live a normal life is like a criminal on the run. Eventually you have enough inferior Se experiences that you're now a criminal who is surrounded by cops. You have...|||Everything outside of me is a trap.  Everything in the physical world is a trap  If I get a job, something bad will happen   If I take a walk, something bad will happen   I don't like the...|||Ok so I have an alien/ghost living inside me  It left when I was 5. From that age until 30, I had only negative changes due to constant trauma, cuz I was stuck in my inferior function. I literally...|||wow. you obviously made up your mind what advice you wanted and didn't get it so you're throwing a hissy fit. you did that in your cartoon thread too. it's gross that you're even comparing your...|||I don't even know what your situation is but I'm appalled by the invalidating responses. People who preach about gratitude have either had lives that are far too easy OR they live in denial that...|||INFJ  Daria  I think it's more of a Cap moon thing than a type thing|||The person wants to have sex with me (which is horrific, because I hate physical sex)|||I don't have a FB profile   It's definitely bad for you if you don't like your family or people you went to high school with. I fall into both of those categories.  I prefer strangers. I don't...|||Worst  Dillard's sales associate   My first month there, I reported so much theft 10 people were fired.  Store manager thanked me, ops manager told me to stop reporting so she wouldn't lose her...|||Well, I can tell you what happens when it all goes wrong...  In college, I was at a party in a dorm room. In my dorm building. There was a guy I liked, I cornered him in the bathroom and kissed...|||Ha! Not fair? My younger brother has the entire top floor of the house to himself. That's 2 bedrooms, a living area, and a full bath. All to himself. For free! Even though he makes $40,000 a year. ...|||I already talked about this elsewhere but I like saying it as much as possible because it makes people lose their minds  I only shower once a month, when my period is over. I don't shave anywhere....|||Stay on your turf then. Leave MBTI. If you're an SJ you have nothing to complain about in life because society is structured to make sure you have it easy. You don't need a tool like personality...|||Somebody mentioned not blaming personality type for lack of success or something...  For me it has helped to know the limits of my type so I can stop wanting delusional things like being a pop star...|||I used to get really annoyed because I was surrounded by people who turned everything I said into a meme. You know, like, you have a genuine complaint, and the person invalidates you by not saying...|||I think the only sustainable solution for an INFJ is to value the spirit world over the physical. Invisible support.'\n",
    "'Fair enough, if that's how you want to look at it. Like I stated before, they were incredibly naive in their comments... However, they think those are things that would help us because those are the...|||For myself, MBTI serves as a source of self reflection and an opportunity to better myself. Therefore, when an opportunity to gain insight on what are things that I may be able to improve upon, I...|||I think this article is a lot more helpful if one views it as 22 people share one thing they think would make the intj they know life's easier  And it would probably help a lot of you negative...|||At the very least, it's good that you bail when you see that it's going nowhere. As far as a relationship with an ESFP would be, there is absolutely a lot of growth potential. I've dated one, and it...|||I think a large part of this is our tendency, as introverts, to look for fewer, but especially meaningful relationships. As much of a misanthrope that I am, I have a very large desire to have at...|||Teasing? No thank you. Mind games? No thank you. Playing devil's advocate? No thank you. Trying to push my buttons to see how far I can go? No thank you.  Maybe I take myself too seriously, but...|||Yup.|||Snow Patrol - Crack the Shutters Gorillaz - Melancholy Hill Arctic Monkeys - Wanna be yours Tegan and Sara - Call it off Elliot Smith - Between the bars Dan Auerbach - Whispered Words  These...|||How do I act? Really irritable and pretty ovbiously pissed off. I like to solve stuff like that asap though so I will...  1.Realize that I am angry/sad/disappointed/insert feeling here. 2.Think...|||Father - ISTJ Mother - INFJ Brother - ESTP  Myself - INTJ|||I love ENTPs! Get along really well with them, especially one on one (less so in large groups because they tend to be too hyperactive). They usually have really great insights which I appreciate and...|||Grew up speaking English and Hungarian.  I've been casually learning French (live in Canada) for years, trying to take it more seriously from now on.|||NFs (especially INFJs), xNTPS, ESFxs are probably who are most often gravitating towards me. ISTxs usually really like me/admire me once they get to know me, not so much in the beginning.|||YES. This has been pissing me off a lot lately. My silence is often a manifestation of either apathy, or a preoccupation of my thoughts. Just because I am silent does not mean I am mad or annoyed. If...|||I think it's definitely possible, just not what I tend to gravitate towards. Most of the sensors in my life are female friends of mine, but both my father (ISTJ) and brother (ESTP) are sensors and I...|||I actually work at a store that sells luxury sunglasses and still have yet to find a pair that I feel comfortable in. I do have a pretty big head though so that may be why I don't like any of them....|||Yup. I am probably the most self centered person that I know, but I am also the happiest and most satisfied with myself.   I think a lot of people who dont seem self-centered actually are, but...|||Executive. The four traits it attributed to my results are reflective, subjective, prepared, and skeptical.|||Both of those annoy me, but in my post I meant the behaviour through which someone tries to use their emotions as leverage for me to express emotions that I may or may not have. Usually they think...|||I can't exactly say where to find one. One thing is if you frequent places and see a friend group with a guy who's on the quieter side, and notice he only comes out every other week or even more...|||My parents and brother mean the world to me, absolutely invaluable. However, any family beyond that (except for a select tolerable few) are essentially meaningless to me. Everyone in my extended...|||Online, especially on this forum there are some atrocious INTJs.   IRL, I have experienced ENTPs that seem pretentious initially, but are actually very genuine people. ESFPs are probably the most...|||Hopefully this isn't too silly of a thread.   I was watching a film earlier today in which the characters were discussing their rooms and it got me thinking about how character's rooms are always...|||I was always horrific at math, but pretty decent at science. I took AP chemistry in high school and found it interesting enough to justify the challenging aspects. I do prefer liberal arts though -...|||How do you guys behave when you're angry? What types of things anger you? Examples are welcome of course. :)   Just posting as I've yet to see my ENFJ partner angry (its a rather new relationship...|||If you have agreed to be in a monogamous relationship and proceed to cheat on somebody - yes that is wrong. I do not think any of us are disagreeing with that. I think it's wrong because of the...|||I agree about it being both. The basis is in nature, however it is amplified through nurture.   For example, something I see with Fe users is that their familial situations either required Fe...|||I'm a bit confused by your original post, in that you don't make it clear what your conclusion is. I'm assuming that you are saying that INTJs (and ISTJs respectively) don't observe a set of...|||I'm an INTJ as well, but I'm in a relationship with an ENFJ.  I wouldnt say they're all that similar to ENFPs (but that might just be because all of the ENFPs I know are extremely annoying.) They...|||Sorry I didnt read your post but I figured I may aswell contribute what I know.   My ENFJ is extremely oriented towards keeping the peace. The only way that I can imagine an ENFJ as a villain is if...|||Pretty much echoing what others have said... I would say something along the lines of I think you are attractive, but I am not attracted to you.  As a female myself, and knowing a lot of females...|||I believe I am rather thick skinned. This can be attributed to a couple factors.   As I was growing up my parents were very critical. My INFJ mother would be very mean when she got upset, but would...|||I find myself doing this often. This is typically because when I get angry enough to engage in argument it's because I find what the other person is saying as ridiculous, or perceive them as stupid....|||Not a huge fan of animals, as I can barely take care of myself haha.  I like cats when visiting a cat-owner, likewise for dogs. I don't think I would ever get my own pet though.|||I also agree with most of the above! One thing you could do is ask any mutual friends what they think. My friend said that it was very obvious that I had interest in my ENFJ when we were getting to...|||Sorry if my reply if kind of all over the place, I want to cover as much as possible!  Regarding the text conversation you attached, I do think it is a little bizarre that she didnt exactly comment...|||I've been dating one for the past 6 months. I thought he was an ESTP until he opened up, and then it was like a lightbulb went off!  I think they're rather easy to deal with (I grew up, and still...|||Hi everyone!   I have been dating a man who I believe to be an ENFJ. I am trying to gain a better understanding of how his mind works.  The other day he was telling me that he is an incredibly shy...|||For the most part, I date extroverts - so I think a large part of it is the extroversion factor. Personally, I am a little irritated by NFPs, or atleast ENFPS (I have much more experience with them...|||Punctual - Yup, if I deem the activity/event important. I can't stand waiting for people or when people are late without a good excuse.  Self-Confident - Yes, I am very secure in myself. A fault I...|||If I am sad, absolutely - but only from my parents, brother, or boyfriend. If someone I do not request a hug/comforting from tries to hug me I will get irritated.   While content/happy, I typically...|||I do think it could go either way, and maybe he is still deciding whether he does like you or not. However, like an above poster noted, I think that him paying for the dates is a positive indicator....|||My mom is an INFJ, and I love her to bits. We fight a lot, and those fights usually end up with me apologizing (insincerely) merely to make her feel better. Fights often get ugly, as she consistently...|||Currently studying with a double major in sociology and political science. I plan to go on to law school.|||No, I haven't. I have definitely been infatuated with people, but it hasn't grown into love.   I am afraid that I may be rejecting the idea of love as I haven't seen it last in anyone in my family's...|||I agree with chanteuse. Personally, it would depend on the activity and how I perceive the other attendees.|||Agreed. I understood these as a result of a high school level education in sciences.|||It might be worth a shot to ask on reddit's r/Vancouver?  Goodluck!|||I'm originally from there, and spend school holidays there (BC). Studying in Toronto the rest of the time.|||How quickly do you all reach closure typically? I know it is dependant on many factors but I have realized that in cases when it was not my choice to end the relationship I have an incredibly...'\n",
    "'Your comment screams INTJ, bro. Especially the useless part.|||Thanks for the information. Doesn't interfere with anything I've ever experienced (with INFJs). Plus, your signature is the lyrics from one of my favorite bands (Tool).  That song (Reflection) was...|||Aren't ESTPs the kings/queens of saying things without thinking/without wanting to think? No offense, you guys can be fucking magnificent|||Ooh, so dangerous. All these scary words and such.  No, it's not dangerous. I already knew I was unhealthy before I entered PerC. PerC can't make me more unhealthy.|||LOL! What the fuck is that in your signature? Some obscure inspirational quote gone wrong?|||Why would that be implied?|||There's too many. I watch a lot of tv shows, although i hardly ever watch them on tv.   -how i met your mother -scrubs -x files -futurama -the office (really getting into it recently, the...|||Who's to say that Sensors will give birth to sensors? Or intuitives to intuitives?   The only reason why we think MBTI is great is not because of its system. The test is awful and people are very...|||If you had the ability to time-travel to 1933 and kill Hitler, would you -John Smith, The Dead Zone by Stephen King  Why kill him, though, if you have the ability to turn him into a normal...|||Another interesting thing to mention is that mental issues/disorders can cause physical pain, and vice versa.  For instance, long term severe pain can lead to insanity, and depression is known to...|||If you think physical pain is worse, you haven't suffered much mental pain.  I personally do not think they're comparable. Of course physical pain is worse, it implies irreversible damage and...|||Of course Yoda would prefer Si.|||It's all homestuck threads, I'm guessing.  Oooh, Dirk x John or some shit|||His logic is pathetic and it fails to hold up so much of the time. INTP is definitely a possibility, but ENTP and maybe even ENFP are as well. Mostly because I see ENTPs failing logically much more...|||If I were to actually pay attention to how I walk, then I would end up walking normally. So answering this question would be paradoxical.|||I think INTPs and ISFJs have it the worst. And I'm pretty sure I've got undiagnosed Generalized Anxiety Disorder|||Ew... Buzzfeed...|||Don't really have many friends, but I can relate. With an ESTP, at first I acted very ESTP-like, but it was fun. Acting stupid, having fun, saying stupid shit to each other... But as the friendship...|||I would as well, except I would do it metaphorically.|||I read books all the time as a kid... Don't anymore. It doesn't matter if something is logical or not if it is boring as SHIT!|||Yeah, it's best because the first time you watch it you think it's just a demon bunny. And how he reacts to it, just amazing.|||Man I love that profile picture. When Donnie gets that sickeningly satisfied face, I feel the same way, so giddy. I'm a bit of a sadist and I love finding pleasure in dark things... That's how I...|||Usually logic and Ti has very little to do with answering Trivia questions, as it mostly has to do with memory. However, if I don't know the answer I can use my Ti to get an educated guess, which is...|||Wouldn't it be more economical to use a regular phone in that case?|||I support this. My phone has affected my life negatively more than I'd like to admit.|||I want to once again say that I do not agree with this 24 type nonsense. I definitely think you can organize a type into more specific types through answering questions (MBTI Style), but this just...|||My intuition usually allows me to remember such answers in games like that even if I do not consciously know anything about the subject being asked. It's things the subconscious has picked up on,...|||Lol @ ISTP, INFJ, and ESTP GIFs.   Nice profile picture, by the way. :laughing:|||It has to do with the amount of time we have to think and respond, lack of social stigmas, no body language, no external factors/variables.  But I agree, if you can do it online, you can do it in...|||Yes. They make me angry for some reason.  In my High School there's one that says Speak Your Mind, which I find ironic.|||Yeah, I'm probably quite less healthy than most INTPs, and that's saying something. I've tried to get better. But Aspergers, ADD, Anxiety, Alexithymia... (damn those A words!) They make it hard for...|||Avoided Death Note? Why? It's meant for Rationals!  Mirai Nikki isn't that popular, surprisingly. Maybe because it takes a while to pick up speed (not unlike Death Note) and our world of sensors...|||I suppose, but it's not the same. The likelihood of me finding an individual who I like on the internet is indeed much higher, but the amount of contact and relations I can have with someone here is...|||I got 26 out of 37.|||The only good thing about SOA is the opening theme. Holy shit the first few seconds are amazing though.  Edit: I think the only times I've been emotional over an anime is the end of Death Note and...|||He's pretty rad, but socially awkward and obsessed with logical correctness. Like more than me. Debating (literally) his E-ness. But idk, he creates arguments and plays Devil's Advocate which is an...|||I just watched a TableTop video on YouTube, and I had the good fortune of seeing Allison Scagliotti for the first time. I think I'm in love. Anyways, I'd say she's an ENTP because of, well,...|||more like *sniffle* you plastic funbag|||I saw that earlier. I'm not the biggest fan of Markiplier (spelling? lol), a lot of his commentary and such seems to be mostly facial expressions and noises. However, I'm sympathetic of his past. And...|||I'd say water over rock. Maybe electric or dragon type. Fairy if we're fortunate.|||I'm sure a lot of immature INTPs would like to believe they have diminished emotions, but emotions are a human thing*.   (not including anti-social personalities)|||Since your MBTI is based completely off how you answer the questions, I would say yes. And I think you misunderstand mental disorders. Most people who are afflicted are still capable of most things...|||I'm confused. All it asks for is my birth date and location and then it tells me my theme or whatever. I didn't even answer any questions.|||I wish I had an INTP friend :P I have not met a single rational at this school besides the ones I already know. Which is 2. (INTJ who is too cool for me right now, and ENTP)|||For INTPs it serves us quite well. Remembering important factoids and info/knowledge, but never hygenial things...  I feel like it most has to do with our subconscious/intuition, not exactly...|||You're right. There's almost always a solution, and suicide shouldn't be first on the list.|||I play it in spurts every now and again. I'd say I'm okay.  My greatest weakness is that I can't think too many steps ahead. I can think of the best logical move for the board as it is, maybe even...|||226530   http://media.giphy.com/media/Be9IVnTa8GOoU/giphy.gif   Topher Brink of Dollhouse|||Like I said, everybody's different. And not having a close friend does not equal being alone, although it can seem like it. You still have human contact, which is really all that's necessary.|||Did you make an account specifically with this in mind to ask? lol'\n",
    "'I think we do agree. I personally don't consider myself Alpha, Beta, or Foxtrot (lol at my own joke). People are people. We both agree that having emotions isn't the same as being weak, whiny,...|||Literature... I'd suggest 'Everyday Zen' by Charlotte Joko Beck. It's a solid introduction into mindfulness meditation, what it means to sit, etc. Ch'an Buddhism isn't exactly the same as Zen but...|||Being emotional doesn't automatically make someone not Alpha; every single human being, regardless of his or her type is emotional. We all feel things intensely. But emotions need to be kept in...|||I'm a Ch'an Buddhist, so it's a daily thing for me. Actually, it's an all-the-time thing for me. It has brought more clarity to my life, lowered my stress levels, and eliminated the fits that I'd...|||Glad to know I'm not the only one. I meditate, so I know what the thoughts/feelings are behind all this. I feel like, of all the women I've interacted with (and it's quite a few), she was the best...|||I've resolved this issue, but I appreciate everyone's input. I started taking Yoga classes and I lowered my standards a bit so that what I once called acquaintances are now friends. I still don't...|||I keep trying online dating on and off. I usually disable my account or delete it out of frustration because everyone I talk to just aren't what I'm looking for.  I tried it again a little more...|||Agree on all fronts. I don't understand how people can watch a baseball game, much less devote an entire conversation to it. Same goes for football, hockey, boxing (though I have to admit I love...|||Well, I tend to be kind of... over-confident, so negative feedback wouldn't devastate me; it would just give me a better idea of whether I'm too sure of myself or not.|||Financially, I'm in the 250k/yr+ group. Like you, I lead meetings (with clients mostly) and I'm very self-driven because, well, when you're self-employed, you have to be if you're going to be. You...|||When I'm upset, I usually can't help but show it. If it's someone I don't know well or someone who is particularly sensitive and who I don't want to hurt, I'll just be distant and quiet. Maybe say I...|||Just re-read your post. He's definitely interested if he wants to meet you after work for drinks. I'm definitely an Alpha (according to your description of alpha) and I'll tell you that I wouldn't...|||nevermind ;)|||I appreciated that you took the time to offer your opinion. It's just frustrating when people perceive me in a way that is totally opposite the truth. I'm open to friendship with everyone I encounter...|||I find commonalities in a lot of different types of people. I'm social and friendly with pretty much everyone I encounter (unless they're a total ass to me). But, something has to attract me to...|||I knew a guy that was homeless. He was one of the classiest people I knew. You guys are totally, completely misunderstanding where I'm coming from. It has nothing to do with money or superficial...|||Communicate with her, try to understand her, and, if nothing you do resolves the problem, leave. Don't totally cut her out of your life but don't let her have any power of yours. Parents can be just...|||I don't think I'm better; I think I'm different.|||I haven't had a friend since elementary school. In high school, I had acquaintances - likeminded people I got along with well enough but never did anything with after school. Same thing at previous...|||This morning, my mother was still criticizing me. But, when I came back from my 3 mile run half an hour later, I think I entered the twilight zone. She's back to her old happy and uncritical self. We...|||I've changed a lot in the last year. I went from preparing for the Priesthood to being an atheist, from loving hamburgers to being a vegetarian, from being pretty sedentary to being in the best shape...|||Dude, you are awesome! That girl is really lucky to have your attention because most guys (myself included) aren't as wise as you've been toward the whole situation. I'm a little ashamed to say it...|||Thanks for your input Pinion, OldManRivers. Yea, this definitely needs work. I think I'll take some creative writing classes at the college in town. This isn't terribly representative of how I'm...|||Hey CaptainMcMuffin, keep us posted about what you decide and how things turn out. And thanks for saying my post made you feel better. Knowing I helped someone makes me feel awesome.|||I'm the same way. There are times when I'm super social and times when I'm reclusive, and what I want out of any relationship (business, romantic, parent, sibling, etc.) changes depending on which...|||Haha! In any other context, that sounds horrible. Thanks thismustbetheplace.|||Thanks! Hell yea. I'd love a run-through if/whenever you feel up to it. This first chapter was written quite a while ago before I started writing (business copy) for a living, so grammar isn't a...|||The first part applies more in this case. I responded with the truth. I love myself and think I'm great and would be surprised if any *compatible* woman felt an attraction to me. Let me try to put...|||To be honest, I'm just looking for a way to rationalize running like hell from this whole thing. I'm not intimidated by her. It's just that seems so wonderful already and we haven't even started...|||It does absolutely make sense that you start to de-value something that you think you might not be able to get. It's what some kids do when they can't get something they want (and what I do when...|||I could've written that post. Seriously. Yea, I think you need to give it at least a bit more time. If she's smart and emotionally mature, she just wants to be sure she can trust you before she lets...|||Let's say you meet a great gal at a business meeting at a company you do work for. Let's say you give her your card and tell her you'd like to talk to her in a not-so-professional context. Let's say...|||I agree you shouldn't overthink things when you meet someone new and things just start moving in that direction but I don't necessarily think experiencing a relationship with someone who isn't who...|||Sounds like it really isn't all that serious for her. She's definitely *not* head over heels for you. We men have a tendency to think that a woman is hiding her feelings when, in reality, she may...|||I think distracting yourself from your thoughts and emotions is the best way to lift your spirits. For me, it has to be something productive. When I was depressed, I couldn't read novels and I...|||Now I know what to do if a woman kisses the palm of my hand! Haha. See, before this post, I would've thought she wanted a piece of liver. That's what my dog wants when he licks my hand. This new...|||Damn, you sound just like me. I can't seem to withhold a compliment from a woman I notice anything positive about. If she's got nice hair, I have to tell her. If she's got big, beautiful eyes, I'll...|||You guys are awesome! Acey, that's a good suggestion. My first novella, 'Missions of Peter Clark' was a Young Adult historical fiction piece. It was published in 2005 and it was in first person. I...|||FYI, I really don't like the restaurant scene but it's kind of important because George becomes a major player later in the book. That scene establishes George's character as wealthy, influential,...|||Fantastic input and advice, Alyosha! I can see the grandiosity you're talking about (George being super rich and the food being the best Fred had ever eaten) and I can also see the awkward pieces of...|||FYI, making oodles of money is over-rated. Seriously. It's only great when you're making all that money doing something you love to do - which you'd love doing even if you weren't getting paid to do...|||Come on... you're an INFP, so you've got to have some sort of artistic passion. If you love to write, do it for a living. If you love to play music, become a professional musician. If you love to...|||I know. I often spend half an hour in front of the mirror in the morning captivated by my reflection. I'm just so damn sexy! Hey, you didn't have to say that confidence had to be rooted in reality;...|||Haha, I guess Fred isn't a terribly common name in our generation. If you could suggest a name, I'd appreciate it. :)|||Could you read this (somewhat long) first chapter of a Sci-Fi novel I'm working on? I'm seriously thinking about going ahead and sending off the first three chapters to an agent I've worked with in...|||Haha, go for it! Online dating sucks, though, and some guy was just killed in my area by meeting a woman he met online. She picked him up at the mall for their date. Turns out her husband was hiding...|||Yea, I've had that too, where you develop an attraction to someone who you weren't initially attracted to. I don't mean 'love at first sight'; really, I think it's just the subconscious projecting...|||You know what sucks? I'm an introvert. While I'm actually extremely outgoing when I'm out and about in the world (talking to strangers in the line at the grocery store, buying a coffee for the old...|||I don't know if I'm the typical guy but if a woman complimented me, kissed my hand, painted me in the buff, or any of the other things you described, I'd love it - if I liked her. Now, quite a few...|||OMG! You're pushing 35! You're an old fart now. Could you sense the sarcasm there? Old is a 90 year old who had the misfortune of developing dementia. For someone with all of their mental...'\n",
    "'Steve Job's was recognized for his striving for efficiency and practicality. His genius is in his systemization of inventions, less so than in invention. This is where claims of Se and Te come from.|||Pencil. Not inf Fe. type ~= emotion, type == what drove emotion|||obvious troll|||But either way, he'd get there by use of his Ni or Te. You can get any behavior with any cognition, all cognition describes is the thought process, which may be prone to develop certain behaviors...|||Every edgy NTP and their mother acts on their off days. The very idea of 'borrowing' types and progressively chameleoning screams Ne and Fe, specifically in that order.|||it's cause you spend all your time irl ignoring your need for expression, so now you're excitedly exaggerating and projecting your weirdness because you get aroused off the image of you it puts in...|||just gonna ignore all your rules.  Si - Normal Se - Fighting Ni - Psychic Ne - Electric Ti - Steel Te - Dark Fi - Grass Fe - Fairy|||ixfj  must research si vs ni, I suck at those two.|||Well I think it's being used in a more advisory sense, not moral.  most people like to be in the group, and it's quite healthy considering the type of animals we are. So people tend to correctly...|||bad quiz, bad link.|||I've experienced a prolonged state of sadness & other emotions as a result of external & internal factors that i've since conquered. I don't think it's reasonable to call this as clinical for the...|||Verbal expression is usually how you open people up to that demonstration. 'I'm good at XX.' 'Oh really? Show me.' Socially antagonizing verbal expression often prevents people from being opened up...|||Grandiosity is an 'unrealistic sense of superiority'. What if my sense of superiority actually isn't unrealistic, and is instead based on logic?  I'd imagine you'd say that it's impossible to think...|||That is the reaction most people would have, most people being submerged in a sort of anti-exhibitionist mentality. The expression of any single person's strength always comes with an implicit...|||People misinterpreting Fe for Te somehow.  If she's an NT she's an ENTP/INTP.  It's most probable that she's an SFJ.|||I think i'm intellectually superior to the average person.|||Ridiculous.|||Um, its perfectly reasonable to instruct a person on what they should ( do ) in order to ( be like them ), just as it would be perfectly reasonable to instruct a person on what they should ( do ) in...|||Take Multiple Intelligences Test|||All perfectionism is being 'hard on your self'.  I types.|||[5 yo] A different job for every day of the week cause my interests changed too fast.  Architect, Scientist, Musician, Gardener, Painter, Writer and something else.|||Incredibly so. Understanding everyone and my own Fe in particular ( plus a little nietzche, which I only read to figure out Te ) allowed me  to destroy my anxiety and general sadness.|||Im a narcissistic conversationalist.|||When you thought about how these words came to be, you didn't consider the purpose of language, or the human pursuit of practicality.  A lot of the conundrums you suppose don't actually have a...|||those tests are very blatantly flawed, and anyone who's read jung should see this just by reading the questions and related function. Stop being lazy when you see an inconsistence. Don't alter the...|||It's simple. Do you want to die? A lot of people, due to the structure of our brains, don't wanna die. In order to most effectively preserve our lives, working together in a society is somewhat...|||if you wanna alleviate yourself from a year of traveling through bullshit Classics in the History of Psychology -- Jung (1921/1923) Chapter 10  You listen behaviors. This is a cognitive theory....|||A development: 'Around 100 people killed at Paris Concern Hall'|||You went on a rant about how typology is about the thought process that influences the behavior, not the behavior, then linked socionics descriptions that literally point out behaviors in every...|||ISTPs, give complete reasons.|||well I live in new york, a calm part. In my recent experience if you show complete confidence and look at them directly in the eye while being condescending they'll flock off and cry.|||I'd imagine that the prevailing sterotype is that TJ's, STJ's moreso, are right-winged.|||The feeling function in jung is that which identifies wants. The thinking function in jung identifies true/false. Of course identifying true/false is the means by which we develop values and...|||Each one of them at some point except 7.|||isfp  If you end up telling us what your type is, and it's not ISFP, tell me why you disagree with isfp.|||Do Fi-doms just camp this forum?|||The entj's will isn't bound by such pathetic forces such as drowning. The strong entj commands water to move!|||Create the heavens.  Then go back and participate in the real world as an immortal being, constantly changing personas each lifetime. The heavens seem boring.|||As many questions as you wish.  1. Well, I already have plenty of NTP friends, so ENTJ + INFJ.  The both Ni high-ends create enough contrast to my personality for me to be pretty interested in...|||I don't feel comfortable with changing things that have happened. It's more related to a certain appreciation for the stability of mind and thought. It'd essentially alter the memories of everyone...|||1. I did this some time back and decided it'd be fun to do again.  2. In Perc, the INTP forums and cognitive functions forum. Irl, at my house.  3. Nothing constant. Whatever philosophical notion...|||Im self teaching myself piano, so i can play a bunch of random anime themes.  I was doing guitar some time back, but not enough attention span.|||Ask questions, quickly!   I may or may not bite.|||You should go on the what's my personality type forum for this.  http://personalitycafe.com/whats-my-personality-type/109783-yet-another-questionnaire.html You can do that one if you're willing to...|||Ne - Fe is much better at doing this than Ni - Fi. More likely an INTP quality than an INTJ quality.    All N types? Maybe your S function just developed?    All N types? Maybe your S...|||looks like we have to purge 15 people.|||We shouldn't imagine that our subjective experiences constitute the experiences of the many, or the reality, unless we perceive a mechanism in our subjective experience that ensures it will be...|||^^|||But first we should ask, are these attributes or aspects you're associating to certain types actually related to those types functionally, or are they gross simplifications outputted by a random...|||If I may ask, what were the contradicting results you got?  Your functions seem to be Te-Fi and Ni - Se, I can't really discern anything else definitely.'\n",
    "'Now I'm interested. But too lazy to go research it, because it's time-consuming :(|||Welcome to the club, mate!   https://s-media-cache-ak0.pinimg.com/originals/a3/18/64/a31864d4b4f164aa86dcba911598da6c.gif|||That profile picture of yours is SOOOOOOOO INFP.  Welcome!|||Welcome back!|||Is it a communist party? Sorry, had to ask.      Alkhemia Welcome! That's an interesting nickname you've got there BTW. It sounds to be a female name, but clearly has something to do with...|||http://media.giphy.com/media/HU7a0iLaQCPQc/giphy.gif|||Anything that fucks with my mind is a no.  I mean, I can drink some red wine just for the taste but that's it.  Not sure if this thread is only replied to by (former) drug addicts or if the...|||It's not that much the difference between online and offline, but the difference between talking about serious and non-serious things.  I'm the same person IRL and online, but others' perception of...|||That sounds somewhat like me, apart from the gossip thing. And the interesting part is that the love for gossip changes a lot. If it wasn't there, I'd say that he's just a premature ENTJ. But this...|||Nah, I always got away with the things I did. From making smelly smoke bombs in high school to political things like ironically sieg heil-ing a dictator's monument back in my country. You won't...|||INTJ - ISTP ENTJ - ISTJ INFP - INTP ENFP - ESFP INFJ - ISFP ENTP - ESTP ISFJ - ESFJ  ESTJ - ESTP ENFJ - unmistakeable and really annoying|||It's free to play :tongue:|||YXZ  HAVE A MEME, M80  https://scontent.fhou1-2.fna.fbcdn.net/v/t1.0-9/17021773_931845763621268_1389281151178905536_n.png?oh=7cea6be5f3fdae21111dba4be8854480&oe=5929FC2D|||:crazy:K N O W . W H E R E . T O . D O W N L O A D:crazy:|||:crazy:P I R A C Y:crazy:|||Did you see Boku dake ga inai machi? Or 91 days?  My life is pretty boring too. I'm trying video games at the moment, but they don't really help.|||I know russian well enough to write books in it. :proud: I even tried once, but then got carried away by more obvious everyday problems.  Japanese is quite interesting, especially because of the...|||Have you tried playing Unturned? It's a pretty cool voxel survival game made by a 16 y/o canadian guy :)|||I've always known exactly what I want in my life, in several circumstanses, with several outcomes. I have around 26 life plans and every single one of them is updating constantly :wink:|||My first language is russian :laughing: I'm bilingual. Also tried learning german, but I forgot everything because of the lack of practice. Internet helps me remember both english and russian though...|||This was probably a joke I didn't get. Because otherwise I have no idea how exactly would backups of her files help her remove the toolbars.  Or you meant that she'd have to do a restore from a...|||The worst case I've had to deal with was a girl who got so many toolbars installed into her browser that it was constantly crashing. I mean, you could expect this from an older person, but from a 16...|||Have you tried telling him that it is extremely stupid to get depressed over a situation he has no control of? I mean, like, literally telling him that, not just saying something other than this and...|||Mistyped myself as an ENTP. I mean, I do love arguments and memes, but... No.|||I'm 20 and I feel like I'm in the 40s already...|||Your prof says you were born in Russia. Do you speak russian?  P.S.: https://media.giphy.com/media/508RHeZhHhemI/giphy.gif|||Welcome!  https://media.giphy.com/media/508RHeZhHhemI/giphy.gif|||narutoooooooooo   Sorry, I just had to do this.|||Niceness is often ineffective. I have a rule of treating people the way I'd want to be treated myself, and I don't need people to be nice when we're talking about serious stuff - I need them to be...|||I'm mostly into two completely different games. The first one is Minecraft, which I love for its freedom and style, and the second is The Secret World - an MMORPG set in modern world, that has a lot...|||Damn right, son!|||BOOOOOOOOOIIIIIII  I second every fucking word of this! And that OMG CONGRAZ made me actually laugh out loud :laughing:   P.S.: Sanders was the only candidate who actually made sense, but he...|||I've got one of them on my profile pic - Raymond Reddington from The Blacklist tv series.  The other would probably be Lelouch vi Britannia from the Code Geass anime.  I could probably come...|||Now I'm genuinely interested in the number of people who ACTUALLY DID get scared, just so I could know their number compared to the replies and understand human behaviour better...  Anyways, I'm...|||WHAT KIND OF GAMES ?  Seriously interested. I hope it's some good games, because I've got no one to play with (oddly). Oh, and yes, I forgot to say hello and welcome, so Hello and Welcome!...|||Hey, welcome! So many INFPs here and you're the first male one I saw here :shocked:  I hope you have a great day :)|||Hey there! :)  Why are plastic soldiers so interesting to you? I'm more into real soldiers. You can't take over the world using plastic, duh!  Anyways, welcome. I'm an ENTJ and new here too....|||You guys mean outer space by saying cosmos, right? I believe that is also an ENTP thing. I've known a few who absolutely love astronomy and astrophysics.|||The saddest thing for me is I know exactly what I'm doing wrong and I know exactly what thoughts make me stop progressing, but I can't do anything about it. I've rationalized my behaviour so much...|||Is procrastination a trait of all those who like to think a lot? It seems that most of the actively analyzing people in this world spend so much time on it that they ither no longer have any time for...|||That is one of the most NF-ish things I've heard in my life. Welcome! I'm a newbie too, and I was also reading through threads on this website frequently without being registered :) MBTI is...|||Hello there! How're you doing?  offtop: That guy's facial expression is exactly what I look like when I meet my friends' friends.|||Wow. Great, now I know more about Kazakhstan! I'm originally from Azerbaijan and my native language is russian too. Also my azeri is terribly bad :unsure:|||Well, my subjects can't answer either, but they're still alive, so I guess it'll be alright!|||Oh, I love experiments! Is it gonna be a painful one?|||I do remember telling people that I'll send them their family members' body parts :tongue:  It's just that I don't think it's scary to joke about that. Either people are too sensitive, or I look...|||Thanks, and you should probably make one too, waylaid. It's fun! Especially fun where there are a ton of INFs replying to it :D  And I'm mostly scary because of my jokes of sending someone a part...|||Apart from obvious things like a loved one's death/betrayal (basically the same thing, because if they betray me they're dead for me), I usually get triggered by someone falsely accusing me. Like,...|||Hey Lionfart! Guess I'm gonna shorten you to Lion too, otherwise it sounds weird to call someone a fart... I've never been called Marx before, this is quite funny :laughing: I have a habit of...|||So... Hello! This is new to me, to be honest.  Never started an introduction post anywhere before in my whole life. Wow. That is actually surprising!  Anyways, I'm happy to be here (at least...'\n",
    "\"\"\"\n",
    "\n",
    "# The type is just a dummy so that the data prep function can be reused\n",
    "mydata = pd.DataFrame(data={'type':['INFJ'],'posts':[my_posts]})\n",
    "\n",
    "my_posts,dummy = pre_process_data(mydata,remove_stop_words=True)\n",
    "\n",
    "my_x_cnt = cntizer.transform(my_posts)\n",
    "my_x_tfidf = tfizer.transform(my_x_cnt).toarray()"
   ]
  },
  {
   "cell_type": "code",
   "execution_count": 39,
   "id": "b5767514",
   "metadata": {
    "scrolled": true
   },
   "outputs": [
    {
     "name": "stdout",
     "output_type": "stream",
     "text": [
      "IE: Introversion (I) / Extroversion (E)...\n",
      "NS: Intution (N) - Sensing (S)...\n",
      "FT: Feeling (F) - Thinking (T)...\n",
      "JP: Judging (J) - Perceiving (P)...\n"
     ]
    }
   ],
   "source": [
    "\n",
    "# Setup parameters for xgboost\n",
    "param = {}\n",
    "param['n_estimators'] = 200\n",
    "param['max_depth'] = 2\n",
    "param['nthread'] = 8\n",
    "param['learning_rate'] = 0.2\n",
    "\n",
    "result = [ ]\n",
    "# Let's train type indicator individually\n",
    "for l in range(len(type_indicators)):\n",
    "    print(\"%s...\" % (type_indicators[l]))\n",
    "    \n",
    "    Y = list_personality[:, l]\n",
    "    \n",
    "    # split data into train and test sets\n",
    "    seed = 7\n",
    "    test_size = 0.33\n",
    "    X_train,X_test,y_train,y_test = train_test_split(X,Y, test_size=test_size,random_state=seed)\n",
    "    \n",
    "    # fit data into training data\n",
    "    model = XGBClassifier(**param)\n",
    "    model.fit(X_train,y_train)\n",
    "    \n",
    "    # make predictions for my data\n",
    "    y_pred = model.predict(my_x_tfidf)\n",
    "    result.append(y_pred[0])\n",
    "    #print('* %s prediction: %s' % (type_indicators[l],y_pred))\n",
    "    "
   ]
  },
  {
   "cell_type": "code",
   "execution_count": 41,
   "id": "9a14165c",
   "metadata": {},
   "outputs": [],
   "source": [
    "# print(\"The result is: \", translate_back(result))"
   ]
  },
  {
   "cell_type": "markdown",
   "id": "83065153",
   "metadata": {},
   "source": [
    "# Trying Other Model"
   ]
  },
  {
   "cell_type": "raw",
   "id": "cd1eb1a9",
   "metadata": {},
   "source": [
    "# 1. Spliting the MBTI dataset into X and Y\n",
    "# 2. Dividing the dataset into Train and Test sets"
   ]
  },
  {
   "cell_type": "code",
   "execution_count": 42,
   "id": "2bd1a30d",
   "metadata": {},
   "outputs": [],
   "source": [
    "# Split the Myers-Briggs dataset into features (X) and labels (y)\n",
    "X = mbti['posts']\n",
    "y = mbti['type']\n",
    "\n",
    "# Split the data into training and testing sets\n",
    "X_train, X_test, y_train, y_test = train_test_split(X, y, test_size=0.2, random_state=42)"
   ]
  },
  {
   "cell_type": "markdown",
   "id": "05ca103e",
   "metadata": {},
   "source": [
    "# Vectorizing"
   ]
  },
  {
   "cell_type": "code",
   "execution_count": 44,
   "id": "3bdcc823",
   "metadata": {},
   "outputs": [],
   "source": [
    "# Initialize the CountVectorizer\n",
    "vectorizer = CountVectorizer()\n",
    "X_train = vectorizer.fit_transform(X_train)\n",
    "X_test = vectorizer.transform(X_test)"
   ]
  },
  {
   "cell_type": "markdown",
   "id": "7a599d0c",
   "metadata": {},
   "source": [
    "# Model Training"
   ]
  },
  {
   "cell_type": "code",
   "execution_count": 45,
   "id": "1423ecba",
   "metadata": {},
   "outputs": [
    {
     "name": "stderr",
     "output_type": "stream",
     "text": [
      "C:\\Users\\haida\\anaconda3\\Lib\\site-packages\\sklearn\\linear_model\\_logistic.py:460: ConvergenceWarning: lbfgs failed to converge (status=1):\n",
      "STOP: TOTAL NO. of ITERATIONS REACHED LIMIT.\n",
      "\n",
      "Increase the number of iterations (max_iter) or scale the data as shown in:\n",
      "    https://scikit-learn.org/stable/modules/preprocessing.html\n",
      "Please also refer to the documentation for alternative solver options:\n",
      "    https://scikit-learn.org/stable/modules/linear_model.html#logistic-regression\n",
      "  n_iter_i = _check_optimize_result(\n"
     ]
    },
    {
     "data": {
      "text/html": [
       "<style>#sk-container-id-1 {color: black;}#sk-container-id-1 pre{padding: 0;}#sk-container-id-1 div.sk-toggleable {background-color: white;}#sk-container-id-1 label.sk-toggleable__label {cursor: pointer;display: block;width: 100%;margin-bottom: 0;padding: 0.3em;box-sizing: border-box;text-align: center;}#sk-container-id-1 label.sk-toggleable__label-arrow:before {content: \"▸\";float: left;margin-right: 0.25em;color: #696969;}#sk-container-id-1 label.sk-toggleable__label-arrow:hover:before {color: black;}#sk-container-id-1 div.sk-estimator:hover label.sk-toggleable__label-arrow:before {color: black;}#sk-container-id-1 div.sk-toggleable__content {max-height: 0;max-width: 0;overflow: hidden;text-align: left;background-color: #f0f8ff;}#sk-container-id-1 div.sk-toggleable__content pre {margin: 0.2em;color: black;border-radius: 0.25em;background-color: #f0f8ff;}#sk-container-id-1 input.sk-toggleable__control:checked~div.sk-toggleable__content {max-height: 200px;max-width: 100%;overflow: auto;}#sk-container-id-1 input.sk-toggleable__control:checked~label.sk-toggleable__label-arrow:before {content: \"▾\";}#sk-container-id-1 div.sk-estimator input.sk-toggleable__control:checked~label.sk-toggleable__label {background-color: #d4ebff;}#sk-container-id-1 div.sk-label input.sk-toggleable__control:checked~label.sk-toggleable__label {background-color: #d4ebff;}#sk-container-id-1 input.sk-hidden--visually {border: 0;clip: rect(1px 1px 1px 1px);clip: rect(1px, 1px, 1px, 1px);height: 1px;margin: -1px;overflow: hidden;padding: 0;position: absolute;width: 1px;}#sk-container-id-1 div.sk-estimator {font-family: monospace;background-color: #f0f8ff;border: 1px dotted black;border-radius: 0.25em;box-sizing: border-box;margin-bottom: 0.5em;}#sk-container-id-1 div.sk-estimator:hover {background-color: #d4ebff;}#sk-container-id-1 div.sk-parallel-item::after {content: \"\";width: 100%;border-bottom: 1px solid gray;flex-grow: 1;}#sk-container-id-1 div.sk-label:hover label.sk-toggleable__label {background-color: #d4ebff;}#sk-container-id-1 div.sk-serial::before {content: \"\";position: absolute;border-left: 1px solid gray;box-sizing: border-box;top: 0;bottom: 0;left: 50%;z-index: 0;}#sk-container-id-1 div.sk-serial {display: flex;flex-direction: column;align-items: center;background-color: white;padding-right: 0.2em;padding-left: 0.2em;position: relative;}#sk-container-id-1 div.sk-item {position: relative;z-index: 1;}#sk-container-id-1 div.sk-parallel {display: flex;align-items: stretch;justify-content: center;background-color: white;position: relative;}#sk-container-id-1 div.sk-item::before, #sk-container-id-1 div.sk-parallel-item::before {content: \"\";position: absolute;border-left: 1px solid gray;box-sizing: border-box;top: 0;bottom: 0;left: 50%;z-index: -1;}#sk-container-id-1 div.sk-parallel-item {display: flex;flex-direction: column;z-index: 1;position: relative;background-color: white;}#sk-container-id-1 div.sk-parallel-item:first-child::after {align-self: flex-end;width: 50%;}#sk-container-id-1 div.sk-parallel-item:last-child::after {align-self: flex-start;width: 50%;}#sk-container-id-1 div.sk-parallel-item:only-child::after {width: 0;}#sk-container-id-1 div.sk-dashed-wrapped {border: 1px dashed gray;margin: 0 0.4em 0.5em 0.4em;box-sizing: border-box;padding-bottom: 0.4em;background-color: white;}#sk-container-id-1 div.sk-label label {font-family: monospace;font-weight: bold;display: inline-block;line-height: 1.2em;}#sk-container-id-1 div.sk-label-container {text-align: center;}#sk-container-id-1 div.sk-container {/* jupyter's `normalize.less` sets `[hidden] { display: none; }` but bootstrap.min.css set `[hidden] { display: none !important; }` so we also need the `!important` here to be able to override the default hidden behavior on the sphinx rendered scikit-learn.org. See: https://github.com/scikit-learn/scikit-learn/issues/21755 */display: inline-block !important;position: relative;}#sk-container-id-1 div.sk-text-repr-fallback {display: none;}</style><div id=\"sk-container-id-1\" class=\"sk-top-container\"><div class=\"sk-text-repr-fallback\"><pre>LogisticRegression()</pre><b>In a Jupyter environment, please rerun this cell to show the HTML representation or trust the notebook. <br />On GitHub, the HTML representation is unable to render, please try loading this page with nbviewer.org.</b></div><div class=\"sk-container\" hidden><div class=\"sk-item\"><div class=\"sk-estimator sk-toggleable\"><input class=\"sk-toggleable__control sk-hidden--visually\" id=\"sk-estimator-id-1\" type=\"checkbox\" checked><label for=\"sk-estimator-id-1\" class=\"sk-toggleable__label sk-toggleable__label-arrow\">LogisticRegression</label><div class=\"sk-toggleable__content\"><pre>LogisticRegression()</pre></div></div></div></div></div>"
      ],
      "text/plain": [
       "LogisticRegression()"
      ]
     },
     "execution_count": 45,
     "metadata": {},
     "output_type": "execute_result"
    }
   ],
   "source": [
    "# Train model\n",
    "model = LogisticRegression()\n",
    "model.fit(X_train,y_train)"
   ]
  },
  {
   "cell_type": "markdown",
   "id": "15ab62b0",
   "metadata": {},
   "source": [
    "# Makiing Prediction from Resumes in the UpdatedResumeDataset.csv"
   ]
  },
  {
   "cell_type": "code",
   "execution_count": 46,
   "id": "1d7ddcc4",
   "metadata": {},
   "outputs": [
    {
     "name": "stdout",
     "output_type": "stream",
     "text": [
      "       Category                                             Resume  \\\n",
      "0  Data Science  Skills * Programming Languages: Python (pandas...   \n",
      "1  Data Science  Education Details \\r\\nMay 2013 to May 2017 B.E...   \n",
      "2  Data Science  Areas of Interest Deep Learning, Control Syste...   \n",
      "3  Data Science  Skills â¢ R â¢ Python â¢ SAP HANA â¢ Table...   \n",
      "4  Data Science  Education Details \\r\\n MCA   YMCAUST,  Faridab...   \n",
      "\n",
      "  predicted_types  \n",
      "0            INTJ  \n",
      "1            INTP  \n",
      "2            INTP  \n",
      "3            ENTJ  \n",
      "4            INTP  \n"
     ]
    }
   ],
   "source": [
    "# Predict personality types for resumes\n",
    "resumes = resume['Resume']\n",
    "resumes = vectorizer.transform(resumes)\n",
    "predicted_types = model.predict(resumes)\n",
    "\n",
    "# Add predicted personality types to the resume dataset\n",
    "resume['predicted_types'] = predicted_types\n",
    "\n",
    "# print the first 5 rows of resume dataset with predicted personality types \n",
    "print(resume.head(5))"
   ]
  },
  {
   "cell_type": "markdown",
   "id": "635df02f",
   "metadata": {},
   "source": [
    "# predicting The Personality Type from input text"
   ]
  },
  {
   "cell_type": "raw",
   "id": "a7bdb481",
   "metadata": {},
   "source": [
    "The input text can be the entire text extracted from a cv or could be any text written by the person. But the quality/reliability of the prediction will depend on how much text was input because more the text, better the prediction"
   ]
  },
  {
   "cell_type": "markdown",
   "id": "3e37c97c",
   "metadata": {},
   "source": [
    "# I have entered the \"Summary\" from my own CV and the model predicts my personlity types as ESFP:)"
   ]
  },
  {
   "cell_type": "code",
   "execution_count": 48,
   "id": "e2e601b9",
   "metadata": {},
   "outputs": [
    {
     "name": "stdout",
     "output_type": "stream",
     "text": [
      "Enter a text: 'One time my parents were fighting over my dad's affair and my dad pushed my mom. The fall broke her finger.  She's pointed a gun at him and made him get on his knees and beg for his life. She's...|||I'm gonna talk about what a piece of shit my dad is now.  He's an alcoholic and he has some kind of serious mental problem when it comes to complying with the IRS. (In his words, Laws don't apply...|||OMG...at the women's center I lived at, run by a Catholic charity, the fat bully program manager took it upon herself to change policy so that tenants were FORCED to attend the Christmas party. If...|||I don't work, but I have a calling I am 100% committed to 24/7 with no vacation or off days EVER. I'm a Kundalini mystic.  Oh, I don't get paid, either!  It's one of those destined things...|||My art teacher in high school had a stack of art school catalogs. When I saw the one for the school I ended up going to, I immediately knew that was the one. Without any research. It was like when...|||INFJ  Communication Design  Nope, too much execution, I'm a mystic now|||I got a degree from one of the best schools in the world for that field, but actually having a career in it was unsustainable because it engaged my inferior function directly.  So in my case, even...|||Absolutely|||And I don't know who TF you think in this day and age isn't familiar with employment. ??????? What planet are you living on?! And how did you ever pass kindergarten? Somebody actually employs you?...|||No, it's an issue of taking responsibility for your own sexual response. It's called self-discipline. It starts in the mind. Internalize your sexuality, then you're not at the mercy of how other...|||Oh I think I should also say, if I didn't imply or say it above, that this won't make sense if you've always been healthy -- if you were allowed to develop naturally.  This is for people who were...|||Do something out of character (inferior function immersion) -- this will put you in danger, pumping exciting danger/stress chemicals into your body. Going against the grain. It's the psychological...|||It kind of sounds believable[/QUOTE]  You guys haven't been through stuff like this? Man you've had it easy  You know, last year I spent months hauling my tales of woe around Craigslist rants and...|||HOW TO KNOW IF AN ESTP LIKES YOU  1. They put their hand down your pants|||Don't ESTPs like getting beaten with chains, too? Since you guys are immune to physicality and need as much stimulation as possible to even register being alive...  Getting beaten with chains and...|||ENFPs don't get God-oriented in crisis though|||At first I thought he was an INFJ who'd grown up in his inferior function and was living a false ESTP identity, because my life story parallels his so closely, and that's what happened to me. What...|||Sorry INFJ, fellow INFJ here, ESTPs don't care about anything but your flesh. Have you shared your body with your ESTP? They might miss that, I guess, but it's a long shot...  Physical life here on...|||Not have the ballz? I told my ESTP gf she was a parasite when I dumped her...that was AFTER she'd threatened to punch me in the mouth...|||Oh another thing! Have you ever had sex with a Te person? Te vs Fe sex. Here's how it goes down:  Te person will actually SAY TO YOU, I can't do this if you're gonna make those faces, and will...|||The only reason Te people call everything unstable is because they're TOO SENSITIVE!  They're the unstable ones!!! Can't handle a little Fe brow scrunch! Wow, grow up  That case manager also...|||You've probably been treated like shit your whole life by Te people.  I've been treated like shit just for my Fe facial expressions, and I'm a very cold, controlled person. (Capricorn moon square...|||Eternity > no time > Wen-Nefer|||You know who got defragmented? Osiris   Osiris > underworld > Pluto > shamanism, soul retrieval|||What does the exchange look like where you become more physical and less spiritual?  Or is it always less? Every time we meet I'm less and you're less? Where does that lead?       Yikes....|||I had an ISFJ mother who thought Ni stuff was scary, of the devil, or just insane, so I abandoned Ni at age 5 and learned to hate myself in an effort to stay in her good graces and avoid her wrath. ...|||Although, during Pluto transits, the whole point is to get eaten   But I'm talking about my relationship with Se on a daily basis, when it's not crisis time|||My thing that I'm into is using my inferior as a mirror...like gazing into a scrying mirror   Otherwise I just get eaten by it  IMO that's a proper Ni-Se dynamic|||Oh dear. Trees have stronger and weaker roots, but they never have just one root. Not the healthy ones anyway.  May you find balance.  *hug*[/QUOTE]   My problem has been over identification...|||The dirty people also remind me of people who don't know who they are, they are disempowered, they have no sense of their own vitality, so they're zombies. Moths attracted to a source of light (smoke...|||I've made a lot of sacrifices for my Ni|||I think the trade I'm talking about is an Se-dom meets Ni-dom thing. That sort of interaction could generally be characterized as mutual relief of burden. Or at least that's where it's easiest to...|||Do you identify with the woman who takes in the smoke?  https://www.youtube.com/watch?v=LUc_jXBD9DU  What I've noticed is that there's a trade going on between me and people I encounter (whether...|||You must decode the symbol or you will be impoverished|||I think the INFJ who tries to live a normal life is like a criminal on the run. Eventually you have enough inferior Se experiences that you're now a criminal who is surrounded by cops. You have...|||Everything outside of me is a trap.  Everything in the physical world is a trap  If I get a job, something bad will happen   If I take a walk, something bad will happen   I don't like the...|||Ok so I have an alien/ghost living inside me  It left when I was 5. From that age until 30, I had only negative changes due to constant trauma, cuz I was stuck in my inferior function. I literally...|||wow. you obviously made up your mind what advice you wanted and didn't get it so you're throwing a hissy fit. you did that in your cartoon thread too. it's gross that you're even comparing your...|||I don't even know what your situation is but I'm appalled by the invalidating responses. People who preach about gratitude have either had lives that are far too easy OR they live in denial that...|||INFJ  Daria  I think it's more of a Cap moon thing than a type thing|||The person wants to have sex with me (which is horrific, because I hate physical sex)|||I don't have a FB profile   It's definitely bad for you if you don't like your family or people you went to high school with. I fall into both of those categories.  I prefer strangers. I don't...|||Worst  Dillard's sales associate   My first month there, I reported so much theft 10 people were fired.  Store manager thanked me, ops manager told me to stop reporting so she wouldn't lose her...|||Well, I can tell you what happens when it all goes wrong...  In college, I was at a party in a dorm room. In my dorm building. There was a guy I liked, I cornered him in the bathroom and kissed...|||Ha! Not fair? My younger brother has the entire top floor of the house to himself. That's 2 bedrooms, a living area, and a full bath. All to himself. For free! Even though he makes $40,000 a year. ...|||I already talked about this elsewhere but I like saying it as much as possible because it makes people lose their minds  I only shower once a month, when my period is over. I don't shave anywhere....|||Stay on your turf then. Leave MBTI. If you're an SJ you have nothing to complain about in life because society is structured to make sure you have it easy. You don't need a tool like personality...|||Somebody mentioned not blaming personality type for lack of success or something...  For me it has helped to know the limits of my type so I can stop wanting delusional things like being a pop star...|||I used to get really annoyed because I was surrounded by people who turned everything I said into a meme. You know, like, you have a genuine complaint, and the person invalidates you by not saying...|||I think the only sustainable solution for an INFJ is to value the spirit world over the physical. Invisible support.'\n"
     ]
    },
    {
     "name": "stdout",
     "output_type": "stream",
     "text": [
      "Predicted personality Type:  ['INFJ']\n"
     ]
    }
   ],
   "source": [
    "# Take user input\n",
    "user_input = input(\"Enter a text: \")\n",
    "\n",
    "#  Transform user input using the trained vectorizer\n",
    "user_input_transformed = vectorizer.transform([user_input])\n",
    "\n",
    "# Predict the personality type for user input\n",
    "predicted_type = model.predict(user_input_transformed)\n",
    "\n",
    "# print the predicted personality type\n",
    "print(\"Predicted personality Type: \", predicted_type)"
   ]
  },
  {
   "cell_type": "raw",
   "id": "c7a02269",
   "metadata": {},
   "source": [
    "Predicted personality Type:  ['INFJ']"
   ]
  }
 ],
 "metadata": {
  "kernelspec": {
   "display_name": "Python 3 (ipykernel)",
   "language": "python",
   "name": "python3"
  },
  "language_info": {
   "codemirror_mode": {
    "name": "ipython",
    "version": 3
   },
   "file_extension": ".py",
   "mimetype": "text/x-python",
   "name": "python",
   "nbconvert_exporter": "python",
   "pygments_lexer": "ipython3",
   "version": "3.11.4"
  }
 },
 "nbformat": 4,
 "nbformat_minor": 5
}
